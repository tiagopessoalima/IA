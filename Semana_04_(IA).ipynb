{
  "cells": [
    {
      "cell_type": "markdown",
      "metadata": {
        "id": "view-in-github",
        "colab_type": "text"
      },
      "source": [
        "<a href=\"https://colab.research.google.com/github/tiagopessoalima/IA/blob/main/Semana_04_(IA).ipynb\" target=\"_parent\"><img src=\"https://colab.research.google.com/assets/colab-badge.svg\" alt=\"Open In Colab\"/></a>"
      ]
    },
    {
      "cell_type": "markdown",
      "metadata": {
        "id": "X0yvnopNjLLD"
      },
      "source": [
        "# **Regressão**"
      ]
    },
    {
      "cell_type": "markdown",
      "source": [
        "## **Carregamento dos Dados**\n"
      ],
      "metadata": {
        "id": "9h9DHhqEYuUu"
      }
    },
    {
      "cell_type": "markdown",
      "source": [
        "### **Baixar e Extrair o Arquivo**\n"
      ],
      "metadata": {
        "id": "P9jdBFluwtdE"
      }
    },
    {
      "cell_type": "code",
      "source": [
        "import tarfile\n",
        "from urllib.request import urlretrieve\n",
        "from pathlib import Path\n",
        "\n",
        "URL = \"https://raw.githubusercontent.com/tiagopessoalima/TATI/main/datasets/housing_semana_03.tgz\"\n",
        "DIR = Path(\"datasets/housing\")\n",
        "TGZ = DIR / \"housing.tgz\"\n",
        "CSV = DIR / \"housing.csv\"\n",
        "\n",
        "def baixar():\n",
        "    DIR.mkdir(parents=True, exist_ok=True)\n",
        "    if not TGZ.is_file():\n",
        "        urlretrieve(URL, TGZ)\n",
        "\n",
        "def extrair():\n",
        "    if TGZ.is_file() and not CSV.is_file():\n",
        "        with tarfile.open(TGZ) as f:\n",
        "            f.extractall(path=DIR)\n",
        "\n",
        "baixar()\n",
        "extrair()"
      ],
      "metadata": {
        "id": "mbo8I8ETv4CD"
      },
      "execution_count": 1,
      "outputs": []
    },
    {
      "cell_type": "markdown",
      "source": [
        "### **Carregamento do CSV**"
      ],
      "metadata": {
        "id": "UzENzu--w9Ro"
      }
    },
    {
      "cell_type": "code",
      "source": [
        "import pandas as pd\n",
        "\n",
        "housing = pd.read_csv(DIR / 'housing_semana_03.csv')"
      ],
      "metadata": {
        "id": "B__necqUY5cy"
      },
      "execution_count": null,
      "outputs": []
    },
    {
      "cell_type": "markdown",
      "metadata": {
        "id": "xiPfFlNY5Ol0"
      },
      "source": [
        "## **5. Treinamento do Modelo**"
      ]
    },
    {
      "cell_type": "markdown",
      "metadata": {
        "id": "BCZ5BX-QejXd"
      },
      "source": [
        "O treinamento de modelos de aprendizado de máquina é o processo central no qual um algoritmo aprende a partir de dados, ajustando seus parâmetros internos para minimizar o erro em relação a uma tarefa específica. É nessa fase que o modelo adquire a capacidade de generalizar padrões e fazer previsões ou tomar decisões sobre novos dados não vistos durante o treinamento. O treinamento de modelos de aprendizado de máquina apresenta diversos desafios, incluindo:\n",
        "\n",
        "- **Escolha do Algoritmo:** É importante considerar fatores como a complexidade do modelo, a interpretabilidade dos resultados e a capacidade de lidar com diferentes tipos de dados.\n",
        "\n",
        "- **Hiperparâmetros:** Cada algoritmo possui hiperparâmetros que controlam seu comportamento e influenciam o aprendizado. A escolha dos valores ideais para esses hiperparâmetros é crucial para otimizar o desempenho do modelo e evitar *overfitting* ou *underfitting*.\n",
        "\n",
        "- **Qualidade dos Dados:** A qualidade dos dados de treinamento é fundamental para o sucesso do modelo. Dados ruidosos, incompletos ou com vieses podem prejudicar o aprendizado e levar a resultados insatisfatórios.\n",
        "\n",
        "- **Recursos Computacionais:** O treinamento de modelos complexos, especialmente com grandes volumes de dados, pode exigir recursos computacionais significativos em termos de memória, processamento e tempo."
      ]
    },
    {
      "cell_type": "markdown",
      "metadata": {
        "id": "39WqRvm-E72U"
      },
      "source": [
        "### **A Separação em Features e Target**"
      ]
    },
    {
      "cell_type": "markdown",
      "metadata": {
        "id": "_ucWNM_6Ew81"
      },
      "source": [
        "Para iniciar o treinamento de um modelo de aprendizado de máquina supervisionado, é fundamental separar os dados em duas partes:"
      ]
    },
    {
      "cell_type": "code",
      "execution_count": null,
      "metadata": {
        "id": "DD4-38pie2VR"
      },
      "outputs": [],
      "source": [
        "X = housing.drop(columns=['valor_mediano_casas']) # São as variáveis independentes ou preditoras que serão usadas para fazer previsões.\n",
        "y = housing['valor_mediano_casas'] # É a variável dependente ou alvo que queremos prever."
      ]
    },
    {
      "cell_type": "markdown",
      "metadata": {
        "id": "yhGBbKKlFtmD"
      },
      "source": [
        "### **Preparando os Dados para o Aprendizado de Máquina**"
      ]
    },
    {
      "cell_type": "markdown",
      "metadata": {
        "id": "9fJioJ96FlwZ"
      },
      "source": [
        "[Pipelines](https://scikit-learn.org/stable/modules/generated/sklearn.pipeline.Pipeline.html) são uma ferramenta robusta no contexto de aprendizado de máquina que facilitam a automação e a organização de sequências de etapas de transformação de dados e treinamento de modelos. Eles oferecem uma estrutura eficiente para encadear operações, desde o pré-processamento dos dados até a avaliação do modelo final, garantindo clareza e reprodutibilidade no fluxo de trabalho. Neste projeto, utilizaremos a [árvore de regressão](https://scikit-learn.org/stable/modules/generated/sklearn.tree.DecisionTreeRegressor.html) como o modelo para a análise dos dados. A implementação seguirá os passos essenciais, incluindo:\n",
        "\n",
        "\n",
        "\n",
        "\n",
        "\n",
        "\n",
        "\n",
        "\n"
      ]
    },
    {
      "cell_type": "markdown",
      "metadata": {
        "id": "aK48wLI2HjUH"
      },
      "source": [
        "#### **1. Criar um pipeline para imputar variáveis numéricas**.\n",
        "\n",
        "\n",
        "\n",
        "\n",
        "\n",
        "\n"
      ]
    },
    {
      "cell_type": "code",
      "execution_count": null,
      "metadata": {
        "id": "fCyaSvykG7fq"
      },
      "outputs": [],
      "source": [
        "from sklearn.impute import SimpleImputer\n",
        "from sklearn.pipeline import Pipeline\n",
        "\n",
        "pipeline_numerico = Pipeline([\n",
        "    ('imputacao', SimpleImputer(strategy=\"median\")),  # Imputação de valores ausentes com a mediana\n",
        "])"
      ]
    },
    {
      "cell_type": "markdown",
      "metadata": {
        "id": "yNG3njheIiEF"
      },
      "source": [
        "#### **2. Criar um pipeline para codificar variáveis categóricas**\n",
        "\n",
        "\n",
        "\n",
        "\n",
        "\n",
        "\n",
        "\n"
      ]
    },
    {
      "cell_type": "code",
      "execution_count": null,
      "metadata": {
        "id": "Lour9TpXIket"
      },
      "outputs": [],
      "source": [
        "from sklearn.preprocessing import OneHotEncoder\n",
        "\n",
        "pipeline_categorico = Pipeline(steps=[\n",
        "    ('codificador', OneHotEncoder())  # Ignorar categorias desconhecidas e gerar uma saída densa\n",
        "])"
      ]
    },
    {
      "cell_type": "markdown",
      "metadata": {
        "id": "1bolcYdaJslp"
      },
      "source": [
        "#### **3. Criar um pré-processador que aplica diferentes transformações a colunas específicas**"
      ]
    },
    {
      "cell_type": "code",
      "execution_count": null,
      "metadata": {
        "id": "dU2M-HsXJsvX"
      },
      "outputs": [],
      "source": [
        "from sklearn.compose import ColumnTransformer\n",
        "\n",
        "# Selecionar colunas numéricas e categóricas\n",
        "colunas_numericas = list(X.select_dtypes(include=['float64', 'int64']).columns)\n",
        "colunas_categoricas = ['proximidade_ao_oceano']\n",
        "\n",
        "# Criar um pré-processador que aplica diferentes transformações a colunas específicas\n",
        "preprocessador = ColumnTransformer([\n",
        "    ('num', pipeline_numerico, colunas_numericas),  # Aplicar pipeline numérico às colunas numéricas\n",
        "    ('cat', pipeline_categorico, colunas_categoricas),  # Aplicar pipeline categórico às colunas categóricas\n",
        "])"
      ]
    },
    {
      "cell_type": "markdown",
      "metadata": {
        "id": "zOOyzs8ud3Pj"
      },
      "source": [
        "### **Treinando e Avaliando no Conjunto de Completo**\n",
        "\n",
        "\n"
      ]
    },
    {
      "cell_type": "markdown",
      "metadata": {
        "id": "FbT-e9je_A7j"
      },
      "source": [
        "Com o *pipeline* devidamente configurado para processar tanto variáveis numéricas quanto categóricas, garantimos que os dados sejam adequadamente pré-processados e preparados para o modelo de maneira eficiente. A abordagem modular e estruturada dos *pipelines* permite a integração de múltiplas etapas de transformação, assegurando que as mesmas operações sejam aplicadas de forma consistente durante as fases de treinamento e validação, minimizando o risco de vazamento de dados e maximizando a robustez do modelo.\n",
        "\n",
        "\n",
        "\n",
        "\n",
        "\n",
        "\n"
      ]
    },
    {
      "cell_type": "code",
      "execution_count": null,
      "metadata": {
        "colab": {
          "base_uri": "https://localhost:8080/"
        },
        "id": "xk3re5BHjwB5",
        "outputId": "975fbb26-5f7f-4e81-ef97-159c1cfebb1b"
      },
      "outputs": [
        {
          "output_type": "stream",
          "name": "stdout",
          "text": [
            "RMSE: 0.0\n",
            "R²: 1.0\n"
          ]
        }
      ],
      "source": [
        "from sklearn.tree import DecisionTreeRegressor\n",
        "from sklearn.metrics import root_mean_squared_error, r2_score\n",
        "\n",
        "# Criar um pipeline completo que inclui o pré-processamento e futuras etapas de modelagem\n",
        "pipeline = Pipeline([\n",
        "    ('preprocessador', preprocessador),\n",
        "    ('modelo', DecisionTreeRegressor(random_state=42))\n",
        "])\n",
        "\n",
        "# Treinar o modelo\n",
        "pipeline.fit(X, y)\n",
        "\n",
        "# Fazer previsões\n",
        "y_pred = pipeline.predict(X)\n",
        "\n",
        "# Avaliar o modelo\n",
        "rmse = root_mean_squared_error(y, y_pred)\n",
        "r2 = r2_score(y, y_pred)\n",
        "\n",
        "# Imprimir os resultados\n",
        "print(f'RMSE: {rmse}')\n",
        "print(f'R²: {r2}')"
      ]
    },
    {
      "cell_type": "markdown",
      "metadata": {
        "id": "VG88wdu0lWBo"
      },
      "source": [
        "Os resultados obtidos no treinamento e avaliação do modelo, com um erro quadrático médio (RMSE) de 0.0 e um coeficiente de determinação (R²) de 1.0, evidenciam um caso claro de *overfitting*. Esse fenômeno indica que o modelo se ajustou perfeitamente aos dados de treinamento, memorizando-os em vez de extrair e generalizar os padrões subjacentes. O *overfitting* ocorre quando a complexidade do modelo é excessiva em relação à quantidade e variabilidade dos dados disponíveis, resultando em um desempenho excepcional nos dados de treinamento, mas comprometendo a capacidade de generalização para novos dados.\n",
        "\n"
      ]
    },
    {
      "cell_type": "markdown",
      "metadata": {
        "id": "45N38C_Dm7nz"
      },
      "source": [
        "### **Treinamento no Conjunto de Treino e Avaliação no Conjunto de Teste**\n",
        "\n",
        "\n",
        "\n",
        "\n",
        "\n"
      ]
    },
    {
      "cell_type": "markdown",
      "metadata": {
        "id": "bao6NctIneD3"
      },
      "source": [
        "Para confirmar o *overfitting*, vamos avaliar o modelo em um conjunto de dados de teste separado, que ele nunca viu antes. Se o desempenho no conjunto de teste for significativamente pior do que no conjunto de treinamento, isso confirmará a presença de *overfitting*. A função [train_test_split](https://scikit-learn.org/stable/modules/generated/sklearn.model_selection.train_test_split.html) do pacote *sklearn* é usada para dividir um conjunto de dados em dois subconjuntos: treinamento e teste."
      ]
    },
    {
      "cell_type": "code",
      "execution_count": null,
      "metadata": {
        "colab": {
          "base_uri": "https://localhost:8080/",
          "height": 247
        },
        "id": "OJ1Ciggul5og",
        "outputId": "d576cca2-ad12-48ca-ccf3-9cb09e231b81"
      },
      "outputs": [
        {
          "output_type": "execute_result",
          "data": {
            "text/plain": [
              "Pipeline(steps=[('preprocessador',\n",
              "                 ColumnTransformer(transformers=[('num',\n",
              "                                                  Pipeline(steps=[('imputacao',\n",
              "                                                                   SimpleImputer(strategy='median'))]),\n",
              "                                                  ['longitude', 'latitude',\n",
              "                                                   'idade_média_moradias',\n",
              "                                                   'total_cômodos',\n",
              "                                                   'total_quartos', 'população',\n",
              "                                                   'domicílios',\n",
              "                                                   'renda_mediana']),\n",
              "                                                 ('cat',\n",
              "                                                  Pipeline(steps=[('codificador',\n",
              "                                                                   OneHotEncoder())]),\n",
              "                                                  ['proximidade_ao_oceano'])])),\n",
              "                ('modelo', DecisionTreeRegressor(random_state=42))])"
            ],
            "text/html": [
              "<style>#sk-container-id-1 {\n",
              "  /* Definition of color scheme common for light and dark mode */\n",
              "  --sklearn-color-text: #000;\n",
              "  --sklearn-color-text-muted: #666;\n",
              "  --sklearn-color-line: gray;\n",
              "  /* Definition of color scheme for unfitted estimators */\n",
              "  --sklearn-color-unfitted-level-0: #fff5e6;\n",
              "  --sklearn-color-unfitted-level-1: #f6e4d2;\n",
              "  --sklearn-color-unfitted-level-2: #ffe0b3;\n",
              "  --sklearn-color-unfitted-level-3: chocolate;\n",
              "  /* Definition of color scheme for fitted estimators */\n",
              "  --sklearn-color-fitted-level-0: #f0f8ff;\n",
              "  --sklearn-color-fitted-level-1: #d4ebff;\n",
              "  --sklearn-color-fitted-level-2: #b3dbfd;\n",
              "  --sklearn-color-fitted-level-3: cornflowerblue;\n",
              "\n",
              "  /* Specific color for light theme */\n",
              "  --sklearn-color-text-on-default-background: var(--sg-text-color, var(--theme-code-foreground, var(--jp-content-font-color1, black)));\n",
              "  --sklearn-color-background: var(--sg-background-color, var(--theme-background, var(--jp-layout-color0, white)));\n",
              "  --sklearn-color-border-box: var(--sg-text-color, var(--theme-code-foreground, var(--jp-content-font-color1, black)));\n",
              "  --sklearn-color-icon: #696969;\n",
              "\n",
              "  @media (prefers-color-scheme: dark) {\n",
              "    /* Redefinition of color scheme for dark theme */\n",
              "    --sklearn-color-text-on-default-background: var(--sg-text-color, var(--theme-code-foreground, var(--jp-content-font-color1, white)));\n",
              "    --sklearn-color-background: var(--sg-background-color, var(--theme-background, var(--jp-layout-color0, #111)));\n",
              "    --sklearn-color-border-box: var(--sg-text-color, var(--theme-code-foreground, var(--jp-content-font-color1, white)));\n",
              "    --sklearn-color-icon: #878787;\n",
              "  }\n",
              "}\n",
              "\n",
              "#sk-container-id-1 {\n",
              "  color: var(--sklearn-color-text);\n",
              "}\n",
              "\n",
              "#sk-container-id-1 pre {\n",
              "  padding: 0;\n",
              "}\n",
              "\n",
              "#sk-container-id-1 input.sk-hidden--visually {\n",
              "  border: 0;\n",
              "  clip: rect(1px 1px 1px 1px);\n",
              "  clip: rect(1px, 1px, 1px, 1px);\n",
              "  height: 1px;\n",
              "  margin: -1px;\n",
              "  overflow: hidden;\n",
              "  padding: 0;\n",
              "  position: absolute;\n",
              "  width: 1px;\n",
              "}\n",
              "\n",
              "#sk-container-id-1 div.sk-dashed-wrapped {\n",
              "  border: 1px dashed var(--sklearn-color-line);\n",
              "  margin: 0 0.4em 0.5em 0.4em;\n",
              "  box-sizing: border-box;\n",
              "  padding-bottom: 0.4em;\n",
              "  background-color: var(--sklearn-color-background);\n",
              "}\n",
              "\n",
              "#sk-container-id-1 div.sk-container {\n",
              "  /* jupyter's `normalize.less` sets `[hidden] { display: none; }`\n",
              "     but bootstrap.min.css set `[hidden] { display: none !important; }`\n",
              "     so we also need the `!important` here to be able to override the\n",
              "     default hidden behavior on the sphinx rendered scikit-learn.org.\n",
              "     See: https://github.com/scikit-learn/scikit-learn/issues/21755 */\n",
              "  display: inline-block !important;\n",
              "  position: relative;\n",
              "}\n",
              "\n",
              "#sk-container-id-1 div.sk-text-repr-fallback {\n",
              "  display: none;\n",
              "}\n",
              "\n",
              "div.sk-parallel-item,\n",
              "div.sk-serial,\n",
              "div.sk-item {\n",
              "  /* draw centered vertical line to link estimators */\n",
              "  background-image: linear-gradient(var(--sklearn-color-text-on-default-background), var(--sklearn-color-text-on-default-background));\n",
              "  background-size: 2px 100%;\n",
              "  background-repeat: no-repeat;\n",
              "  background-position: center center;\n",
              "}\n",
              "\n",
              "/* Parallel-specific style estimator block */\n",
              "\n",
              "#sk-container-id-1 div.sk-parallel-item::after {\n",
              "  content: \"\";\n",
              "  width: 100%;\n",
              "  border-bottom: 2px solid var(--sklearn-color-text-on-default-background);\n",
              "  flex-grow: 1;\n",
              "}\n",
              "\n",
              "#sk-container-id-1 div.sk-parallel {\n",
              "  display: flex;\n",
              "  align-items: stretch;\n",
              "  justify-content: center;\n",
              "  background-color: var(--sklearn-color-background);\n",
              "  position: relative;\n",
              "}\n",
              "\n",
              "#sk-container-id-1 div.sk-parallel-item {\n",
              "  display: flex;\n",
              "  flex-direction: column;\n",
              "}\n",
              "\n",
              "#sk-container-id-1 div.sk-parallel-item:first-child::after {\n",
              "  align-self: flex-end;\n",
              "  width: 50%;\n",
              "}\n",
              "\n",
              "#sk-container-id-1 div.sk-parallel-item:last-child::after {\n",
              "  align-self: flex-start;\n",
              "  width: 50%;\n",
              "}\n",
              "\n",
              "#sk-container-id-1 div.sk-parallel-item:only-child::after {\n",
              "  width: 0;\n",
              "}\n",
              "\n",
              "/* Serial-specific style estimator block */\n",
              "\n",
              "#sk-container-id-1 div.sk-serial {\n",
              "  display: flex;\n",
              "  flex-direction: column;\n",
              "  align-items: center;\n",
              "  background-color: var(--sklearn-color-background);\n",
              "  padding-right: 1em;\n",
              "  padding-left: 1em;\n",
              "}\n",
              "\n",
              "\n",
              "/* Toggleable style: style used for estimator/Pipeline/ColumnTransformer box that is\n",
              "clickable and can be expanded/collapsed.\n",
              "- Pipeline and ColumnTransformer use this feature and define the default style\n",
              "- Estimators will overwrite some part of the style using the `sk-estimator` class\n",
              "*/\n",
              "\n",
              "/* Pipeline and ColumnTransformer style (default) */\n",
              "\n",
              "#sk-container-id-1 div.sk-toggleable {\n",
              "  /* Default theme specific background. It is overwritten whether we have a\n",
              "  specific estimator or a Pipeline/ColumnTransformer */\n",
              "  background-color: var(--sklearn-color-background);\n",
              "}\n",
              "\n",
              "/* Toggleable label */\n",
              "#sk-container-id-1 label.sk-toggleable__label {\n",
              "  cursor: pointer;\n",
              "  display: flex;\n",
              "  width: 100%;\n",
              "  margin-bottom: 0;\n",
              "  padding: 0.5em;\n",
              "  box-sizing: border-box;\n",
              "  text-align: center;\n",
              "  align-items: start;\n",
              "  justify-content: space-between;\n",
              "  gap: 0.5em;\n",
              "}\n",
              "\n",
              "#sk-container-id-1 label.sk-toggleable__label .caption {\n",
              "  font-size: 0.6rem;\n",
              "  font-weight: lighter;\n",
              "  color: var(--sklearn-color-text-muted);\n",
              "}\n",
              "\n",
              "#sk-container-id-1 label.sk-toggleable__label-arrow:before {\n",
              "  /* Arrow on the left of the label */\n",
              "  content: \"▸\";\n",
              "  float: left;\n",
              "  margin-right: 0.25em;\n",
              "  color: var(--sklearn-color-icon);\n",
              "}\n",
              "\n",
              "#sk-container-id-1 label.sk-toggleable__label-arrow:hover:before {\n",
              "  color: var(--sklearn-color-text);\n",
              "}\n",
              "\n",
              "/* Toggleable content - dropdown */\n",
              "\n",
              "#sk-container-id-1 div.sk-toggleable__content {\n",
              "  max-height: 0;\n",
              "  max-width: 0;\n",
              "  overflow: hidden;\n",
              "  text-align: left;\n",
              "  /* unfitted */\n",
              "  background-color: var(--sklearn-color-unfitted-level-0);\n",
              "}\n",
              "\n",
              "#sk-container-id-1 div.sk-toggleable__content.fitted {\n",
              "  /* fitted */\n",
              "  background-color: var(--sklearn-color-fitted-level-0);\n",
              "}\n",
              "\n",
              "#sk-container-id-1 div.sk-toggleable__content pre {\n",
              "  margin: 0.2em;\n",
              "  border-radius: 0.25em;\n",
              "  color: var(--sklearn-color-text);\n",
              "  /* unfitted */\n",
              "  background-color: var(--sklearn-color-unfitted-level-0);\n",
              "}\n",
              "\n",
              "#sk-container-id-1 div.sk-toggleable__content.fitted pre {\n",
              "  /* unfitted */\n",
              "  background-color: var(--sklearn-color-fitted-level-0);\n",
              "}\n",
              "\n",
              "#sk-container-id-1 input.sk-toggleable__control:checked~div.sk-toggleable__content {\n",
              "  /* Expand drop-down */\n",
              "  max-height: 200px;\n",
              "  max-width: 100%;\n",
              "  overflow: auto;\n",
              "}\n",
              "\n",
              "#sk-container-id-1 input.sk-toggleable__control:checked~label.sk-toggleable__label-arrow:before {\n",
              "  content: \"▾\";\n",
              "}\n",
              "\n",
              "/* Pipeline/ColumnTransformer-specific style */\n",
              "\n",
              "#sk-container-id-1 div.sk-label input.sk-toggleable__control:checked~label.sk-toggleable__label {\n",
              "  color: var(--sklearn-color-text);\n",
              "  background-color: var(--sklearn-color-unfitted-level-2);\n",
              "}\n",
              "\n",
              "#sk-container-id-1 div.sk-label.fitted input.sk-toggleable__control:checked~label.sk-toggleable__label {\n",
              "  background-color: var(--sklearn-color-fitted-level-2);\n",
              "}\n",
              "\n",
              "/* Estimator-specific style */\n",
              "\n",
              "/* Colorize estimator box */\n",
              "#sk-container-id-1 div.sk-estimator input.sk-toggleable__control:checked~label.sk-toggleable__label {\n",
              "  /* unfitted */\n",
              "  background-color: var(--sklearn-color-unfitted-level-2);\n",
              "}\n",
              "\n",
              "#sk-container-id-1 div.sk-estimator.fitted input.sk-toggleable__control:checked~label.sk-toggleable__label {\n",
              "  /* fitted */\n",
              "  background-color: var(--sklearn-color-fitted-level-2);\n",
              "}\n",
              "\n",
              "#sk-container-id-1 div.sk-label label.sk-toggleable__label,\n",
              "#sk-container-id-1 div.sk-label label {\n",
              "  /* The background is the default theme color */\n",
              "  color: var(--sklearn-color-text-on-default-background);\n",
              "}\n",
              "\n",
              "/* On hover, darken the color of the background */\n",
              "#sk-container-id-1 div.sk-label:hover label.sk-toggleable__label {\n",
              "  color: var(--sklearn-color-text);\n",
              "  background-color: var(--sklearn-color-unfitted-level-2);\n",
              "}\n",
              "\n",
              "/* Label box, darken color on hover, fitted */\n",
              "#sk-container-id-1 div.sk-label.fitted:hover label.sk-toggleable__label.fitted {\n",
              "  color: var(--sklearn-color-text);\n",
              "  background-color: var(--sklearn-color-fitted-level-2);\n",
              "}\n",
              "\n",
              "/* Estimator label */\n",
              "\n",
              "#sk-container-id-1 div.sk-label label {\n",
              "  font-family: monospace;\n",
              "  font-weight: bold;\n",
              "  display: inline-block;\n",
              "  line-height: 1.2em;\n",
              "}\n",
              "\n",
              "#sk-container-id-1 div.sk-label-container {\n",
              "  text-align: center;\n",
              "}\n",
              "\n",
              "/* Estimator-specific */\n",
              "#sk-container-id-1 div.sk-estimator {\n",
              "  font-family: monospace;\n",
              "  border: 1px dotted var(--sklearn-color-border-box);\n",
              "  border-radius: 0.25em;\n",
              "  box-sizing: border-box;\n",
              "  margin-bottom: 0.5em;\n",
              "  /* unfitted */\n",
              "  background-color: var(--sklearn-color-unfitted-level-0);\n",
              "}\n",
              "\n",
              "#sk-container-id-1 div.sk-estimator.fitted {\n",
              "  /* fitted */\n",
              "  background-color: var(--sklearn-color-fitted-level-0);\n",
              "}\n",
              "\n",
              "/* on hover */\n",
              "#sk-container-id-1 div.sk-estimator:hover {\n",
              "  /* unfitted */\n",
              "  background-color: var(--sklearn-color-unfitted-level-2);\n",
              "}\n",
              "\n",
              "#sk-container-id-1 div.sk-estimator.fitted:hover {\n",
              "  /* fitted */\n",
              "  background-color: var(--sklearn-color-fitted-level-2);\n",
              "}\n",
              "\n",
              "/* Specification for estimator info (e.g. \"i\" and \"?\") */\n",
              "\n",
              "/* Common style for \"i\" and \"?\" */\n",
              "\n",
              ".sk-estimator-doc-link,\n",
              "a:link.sk-estimator-doc-link,\n",
              "a:visited.sk-estimator-doc-link {\n",
              "  float: right;\n",
              "  font-size: smaller;\n",
              "  line-height: 1em;\n",
              "  font-family: monospace;\n",
              "  background-color: var(--sklearn-color-background);\n",
              "  border-radius: 1em;\n",
              "  height: 1em;\n",
              "  width: 1em;\n",
              "  text-decoration: none !important;\n",
              "  margin-left: 0.5em;\n",
              "  text-align: center;\n",
              "  /* unfitted */\n",
              "  border: var(--sklearn-color-unfitted-level-1) 1pt solid;\n",
              "  color: var(--sklearn-color-unfitted-level-1);\n",
              "}\n",
              "\n",
              ".sk-estimator-doc-link.fitted,\n",
              "a:link.sk-estimator-doc-link.fitted,\n",
              "a:visited.sk-estimator-doc-link.fitted {\n",
              "  /* fitted */\n",
              "  border: var(--sklearn-color-fitted-level-1) 1pt solid;\n",
              "  color: var(--sklearn-color-fitted-level-1);\n",
              "}\n",
              "\n",
              "/* On hover */\n",
              "div.sk-estimator:hover .sk-estimator-doc-link:hover,\n",
              ".sk-estimator-doc-link:hover,\n",
              "div.sk-label-container:hover .sk-estimator-doc-link:hover,\n",
              ".sk-estimator-doc-link:hover {\n",
              "  /* unfitted */\n",
              "  background-color: var(--sklearn-color-unfitted-level-3);\n",
              "  color: var(--sklearn-color-background);\n",
              "  text-decoration: none;\n",
              "}\n",
              "\n",
              "div.sk-estimator.fitted:hover .sk-estimator-doc-link.fitted:hover,\n",
              ".sk-estimator-doc-link.fitted:hover,\n",
              "div.sk-label-container:hover .sk-estimator-doc-link.fitted:hover,\n",
              ".sk-estimator-doc-link.fitted:hover {\n",
              "  /* fitted */\n",
              "  background-color: var(--sklearn-color-fitted-level-3);\n",
              "  color: var(--sklearn-color-background);\n",
              "  text-decoration: none;\n",
              "}\n",
              "\n",
              "/* Span, style for the box shown on hovering the info icon */\n",
              ".sk-estimator-doc-link span {\n",
              "  display: none;\n",
              "  z-index: 9999;\n",
              "  position: relative;\n",
              "  font-weight: normal;\n",
              "  right: .2ex;\n",
              "  padding: .5ex;\n",
              "  margin: .5ex;\n",
              "  width: min-content;\n",
              "  min-width: 20ex;\n",
              "  max-width: 50ex;\n",
              "  color: var(--sklearn-color-text);\n",
              "  box-shadow: 2pt 2pt 4pt #999;\n",
              "  /* unfitted */\n",
              "  background: var(--sklearn-color-unfitted-level-0);\n",
              "  border: .5pt solid var(--sklearn-color-unfitted-level-3);\n",
              "}\n",
              "\n",
              ".sk-estimator-doc-link.fitted span {\n",
              "  /* fitted */\n",
              "  background: var(--sklearn-color-fitted-level-0);\n",
              "  border: var(--sklearn-color-fitted-level-3);\n",
              "}\n",
              "\n",
              ".sk-estimator-doc-link:hover span {\n",
              "  display: block;\n",
              "}\n",
              "\n",
              "/* \"?\"-specific style due to the `<a>` HTML tag */\n",
              "\n",
              "#sk-container-id-1 a.estimator_doc_link {\n",
              "  float: right;\n",
              "  font-size: 1rem;\n",
              "  line-height: 1em;\n",
              "  font-family: monospace;\n",
              "  background-color: var(--sklearn-color-background);\n",
              "  border-radius: 1rem;\n",
              "  height: 1rem;\n",
              "  width: 1rem;\n",
              "  text-decoration: none;\n",
              "  /* unfitted */\n",
              "  color: var(--sklearn-color-unfitted-level-1);\n",
              "  border: var(--sklearn-color-unfitted-level-1) 1pt solid;\n",
              "}\n",
              "\n",
              "#sk-container-id-1 a.estimator_doc_link.fitted {\n",
              "  /* fitted */\n",
              "  border: var(--sklearn-color-fitted-level-1) 1pt solid;\n",
              "  color: var(--sklearn-color-fitted-level-1);\n",
              "}\n",
              "\n",
              "/* On hover */\n",
              "#sk-container-id-1 a.estimator_doc_link:hover {\n",
              "  /* unfitted */\n",
              "  background-color: var(--sklearn-color-unfitted-level-3);\n",
              "  color: var(--sklearn-color-background);\n",
              "  text-decoration: none;\n",
              "}\n",
              "\n",
              "#sk-container-id-1 a.estimator_doc_link.fitted:hover {\n",
              "  /* fitted */\n",
              "  background-color: var(--sklearn-color-fitted-level-3);\n",
              "}\n",
              "</style><div id=\"sk-container-id-1\" class=\"sk-top-container\"><div class=\"sk-text-repr-fallback\"><pre>Pipeline(steps=[(&#x27;preprocessador&#x27;,\n",
              "                 ColumnTransformer(transformers=[(&#x27;num&#x27;,\n",
              "                                                  Pipeline(steps=[(&#x27;imputacao&#x27;,\n",
              "                                                                   SimpleImputer(strategy=&#x27;median&#x27;))]),\n",
              "                                                  [&#x27;longitude&#x27;, &#x27;latitude&#x27;,\n",
              "                                                   &#x27;idade_média_moradias&#x27;,\n",
              "                                                   &#x27;total_cômodos&#x27;,\n",
              "                                                   &#x27;total_quartos&#x27;, &#x27;população&#x27;,\n",
              "                                                   &#x27;domicílios&#x27;,\n",
              "                                                   &#x27;renda_mediana&#x27;]),\n",
              "                                                 (&#x27;cat&#x27;,\n",
              "                                                  Pipeline(steps=[(&#x27;codificador&#x27;,\n",
              "                                                                   OneHotEncoder())]),\n",
              "                                                  [&#x27;proximidade_ao_oceano&#x27;])])),\n",
              "                (&#x27;modelo&#x27;, DecisionTreeRegressor(random_state=42))])</pre><b>In a Jupyter environment, please rerun this cell to show the HTML representation or trust the notebook. <br />On GitHub, the HTML representation is unable to render, please try loading this page with nbviewer.org.</b></div><div class=\"sk-container\" hidden><div class=\"sk-item sk-dashed-wrapped\"><div class=\"sk-label-container\"><div class=\"sk-label fitted sk-toggleable\"><input class=\"sk-toggleable__control sk-hidden--visually\" id=\"sk-estimator-id-1\" type=\"checkbox\" ><label for=\"sk-estimator-id-1\" class=\"sk-toggleable__label fitted sk-toggleable__label-arrow\"><div><div>Pipeline</div></div><div><a class=\"sk-estimator-doc-link fitted\" rel=\"noreferrer\" target=\"_blank\" href=\"https://scikit-learn.org/1.6/modules/generated/sklearn.pipeline.Pipeline.html\">?<span>Documentation for Pipeline</span></a><span class=\"sk-estimator-doc-link fitted\">i<span>Fitted</span></span></div></label><div class=\"sk-toggleable__content fitted\"><pre>Pipeline(steps=[(&#x27;preprocessador&#x27;,\n",
              "                 ColumnTransformer(transformers=[(&#x27;num&#x27;,\n",
              "                                                  Pipeline(steps=[(&#x27;imputacao&#x27;,\n",
              "                                                                   SimpleImputer(strategy=&#x27;median&#x27;))]),\n",
              "                                                  [&#x27;longitude&#x27;, &#x27;latitude&#x27;,\n",
              "                                                   &#x27;idade_média_moradias&#x27;,\n",
              "                                                   &#x27;total_cômodos&#x27;,\n",
              "                                                   &#x27;total_quartos&#x27;, &#x27;população&#x27;,\n",
              "                                                   &#x27;domicílios&#x27;,\n",
              "                                                   &#x27;renda_mediana&#x27;]),\n",
              "                                                 (&#x27;cat&#x27;,\n",
              "                                                  Pipeline(steps=[(&#x27;codificador&#x27;,\n",
              "                                                                   OneHotEncoder())]),\n",
              "                                                  [&#x27;proximidade_ao_oceano&#x27;])])),\n",
              "                (&#x27;modelo&#x27;, DecisionTreeRegressor(random_state=42))])</pre></div> </div></div><div class=\"sk-serial\"><div class=\"sk-item sk-dashed-wrapped\"><div class=\"sk-label-container\"><div class=\"sk-label fitted sk-toggleable\"><input class=\"sk-toggleable__control sk-hidden--visually\" id=\"sk-estimator-id-2\" type=\"checkbox\" ><label for=\"sk-estimator-id-2\" class=\"sk-toggleable__label fitted sk-toggleable__label-arrow\"><div><div>preprocessador: ColumnTransformer</div></div><div><a class=\"sk-estimator-doc-link fitted\" rel=\"noreferrer\" target=\"_blank\" href=\"https://scikit-learn.org/1.6/modules/generated/sklearn.compose.ColumnTransformer.html\">?<span>Documentation for preprocessador: ColumnTransformer</span></a></div></label><div class=\"sk-toggleable__content fitted\"><pre>ColumnTransformer(transformers=[(&#x27;num&#x27;,\n",
              "                                 Pipeline(steps=[(&#x27;imputacao&#x27;,\n",
              "                                                  SimpleImputer(strategy=&#x27;median&#x27;))]),\n",
              "                                 [&#x27;longitude&#x27;, &#x27;latitude&#x27;,\n",
              "                                  &#x27;idade_média_moradias&#x27;, &#x27;total_cômodos&#x27;,\n",
              "                                  &#x27;total_quartos&#x27;, &#x27;população&#x27;, &#x27;domicílios&#x27;,\n",
              "                                  &#x27;renda_mediana&#x27;]),\n",
              "                                (&#x27;cat&#x27;,\n",
              "                                 Pipeline(steps=[(&#x27;codificador&#x27;,\n",
              "                                                  OneHotEncoder())]),\n",
              "                                 [&#x27;proximidade_ao_oceano&#x27;])])</pre></div> </div></div><div class=\"sk-parallel\"><div class=\"sk-parallel-item\"><div class=\"sk-item\"><div class=\"sk-label-container\"><div class=\"sk-label fitted sk-toggleable\"><input class=\"sk-toggleable__control sk-hidden--visually\" id=\"sk-estimator-id-3\" type=\"checkbox\" ><label for=\"sk-estimator-id-3\" class=\"sk-toggleable__label fitted sk-toggleable__label-arrow\"><div><div>num</div></div></label><div class=\"sk-toggleable__content fitted\"><pre>[&#x27;longitude&#x27;, &#x27;latitude&#x27;, &#x27;idade_média_moradias&#x27;, &#x27;total_cômodos&#x27;, &#x27;total_quartos&#x27;, &#x27;população&#x27;, &#x27;domicílios&#x27;, &#x27;renda_mediana&#x27;]</pre></div> </div></div><div class=\"sk-serial\"><div class=\"sk-item\"><div class=\"sk-serial\"><div class=\"sk-item\"><div class=\"sk-estimator fitted sk-toggleable\"><input class=\"sk-toggleable__control sk-hidden--visually\" id=\"sk-estimator-id-4\" type=\"checkbox\" ><label for=\"sk-estimator-id-4\" class=\"sk-toggleable__label fitted sk-toggleable__label-arrow\"><div><div>SimpleImputer</div></div><div><a class=\"sk-estimator-doc-link fitted\" rel=\"noreferrer\" target=\"_blank\" href=\"https://scikit-learn.org/1.6/modules/generated/sklearn.impute.SimpleImputer.html\">?<span>Documentation for SimpleImputer</span></a></div></label><div class=\"sk-toggleable__content fitted\"><pre>SimpleImputer(strategy=&#x27;median&#x27;)</pre></div> </div></div></div></div></div></div></div><div class=\"sk-parallel-item\"><div class=\"sk-item\"><div class=\"sk-label-container\"><div class=\"sk-label fitted sk-toggleable\"><input class=\"sk-toggleable__control sk-hidden--visually\" id=\"sk-estimator-id-5\" type=\"checkbox\" ><label for=\"sk-estimator-id-5\" class=\"sk-toggleable__label fitted sk-toggleable__label-arrow\"><div><div>cat</div></div></label><div class=\"sk-toggleable__content fitted\"><pre>[&#x27;proximidade_ao_oceano&#x27;]</pre></div> </div></div><div class=\"sk-serial\"><div class=\"sk-item\"><div class=\"sk-serial\"><div class=\"sk-item\"><div class=\"sk-estimator fitted sk-toggleable\"><input class=\"sk-toggleable__control sk-hidden--visually\" id=\"sk-estimator-id-6\" type=\"checkbox\" ><label for=\"sk-estimator-id-6\" class=\"sk-toggleable__label fitted sk-toggleable__label-arrow\"><div><div>OneHotEncoder</div></div><div><a class=\"sk-estimator-doc-link fitted\" rel=\"noreferrer\" target=\"_blank\" href=\"https://scikit-learn.org/1.6/modules/generated/sklearn.preprocessing.OneHotEncoder.html\">?<span>Documentation for OneHotEncoder</span></a></div></label><div class=\"sk-toggleable__content fitted\"><pre>OneHotEncoder()</pre></div> </div></div></div></div></div></div></div></div></div><div class=\"sk-item\"><div class=\"sk-estimator fitted sk-toggleable\"><input class=\"sk-toggleable__control sk-hidden--visually\" id=\"sk-estimator-id-7\" type=\"checkbox\" ><label for=\"sk-estimator-id-7\" class=\"sk-toggleable__label fitted sk-toggleable__label-arrow\"><div><div>DecisionTreeRegressor</div></div><div><a class=\"sk-estimator-doc-link fitted\" rel=\"noreferrer\" target=\"_blank\" href=\"https://scikit-learn.org/1.6/modules/generated/sklearn.tree.DecisionTreeRegressor.html\">?<span>Documentation for DecisionTreeRegressor</span></a></div></label><div class=\"sk-toggleable__content fitted\"><pre>DecisionTreeRegressor(random_state=42)</pre></div> </div></div></div></div></div></div>"
            ]
          },
          "metadata": {},
          "execution_count": 11
        }
      ],
      "source": [
        "from sklearn.model_selection import train_test_split\n",
        "\n",
        "# Dividir os dados em conjuntos de treinamento e teste\n",
        "X_train, X_test, y_train, y_test = train_test_split(X, y, test_size=0.2, random_state=42)\n",
        "\n",
        "# Treinar o modelo no conjunto de treinamento\n",
        "pipeline.fit(X_train, y_train)"
      ]
    },
    {
      "cell_type": "markdown",
      "metadata": {
        "id": "PcLii3HNt-yn"
      },
      "source": [
        "#### **Avaliando os resultados do conjunto de treino**\n"
      ]
    },
    {
      "cell_type": "code",
      "execution_count": null,
      "metadata": {
        "colab": {
          "base_uri": "https://localhost:8080/"
        },
        "id": "fphQvQpYg_lp",
        "outputId": "ecf4ea77-6bb1-4eb0-b797-6a1bf8506d37"
      },
      "outputs": [
        {
          "output_type": "stream",
          "name": "stdout",
          "text": [
            "Resultados no Conjunto de Treino:\n",
            "RMSE: 0.0000\n",
            "R²: 1.0000\n"
          ]
        }
      ],
      "source": [
        "# Fazer previsões no conjunto de treino\n",
        "y_train_pred = pipeline.predict(X_train)\n",
        "\n",
        "# Avaliar o modelo no conjunto de treino\n",
        "rmse_train = root_mean_squared_error(y_train, y_train_pred)  # RMSE\n",
        "r2_train = r2_score(y_train, y_train_pred)  # Coeficiente de determinação\n",
        "\n",
        "# Imprimir os resultados do conjunto de treino\n",
        "print(\"Resultados no Conjunto de Treino:\")\n",
        "print(f'RMSE: {rmse_train:.4f}')\n",
        "print(f'R²: {r2_train:.4f}')"
      ]
    },
    {
      "cell_type": "markdown",
      "metadata": {
        "id": "PIFnimSpvJSk"
      },
      "source": [
        "Os resultados obtidos no conjunto de treinamento continuam indicando um ajuste perfeito do modelo aos dados"
      ]
    },
    {
      "cell_type": "markdown",
      "metadata": {
        "id": "LVUmz30XuXBV"
      },
      "source": [
        "#### **Avaliando os resultados do conjunto de teste**"
      ]
    },
    {
      "cell_type": "code",
      "execution_count": null,
      "metadata": {
        "colab": {
          "base_uri": "https://localhost:8080/"
        },
        "id": "Ze1jLcwRhYLr",
        "outputId": "7f72222c-ae09-4d57-d230-93ca7327c267"
      },
      "outputs": [
        {
          "output_type": "stream",
          "name": "stdout",
          "text": [
            "Resultados no Conjunto de Teste:\n",
            "RMSE: 68734.8847\n",
            "R²: 0.6395\n"
          ]
        }
      ],
      "source": [
        "# Fazer previsões no conjunto de teste\n",
        "y_test_pred = pipeline.predict(X_test)\n",
        "\n",
        "# Avaliar o modelo no conjunto de teste\n",
        "rmse_test = root_mean_squared_error(y_test, y_test_pred)  # RMSE\n",
        "r2_test = r2_score(y_test, y_test_pred)  # Coeficiente de determinação\n",
        "\n",
        "# Imprimir os resultados do conjunto de teste\n",
        "print(\"Resultados no Conjunto de Teste:\")\n",
        "print(f'RMSE: {rmse_test:.4f}')\n",
        "print(f'R²: {r2_test:.4f}')"
      ]
    },
    {
      "cell_type": "markdown",
      "metadata": {
        "id": "A1ZxAgAkvaTZ"
      },
      "source": [
        "Os resultados no conjunto de teste mostram um desempenho consideravelmente inferior em relação ao conjunto de treinamento. O RMSE foi de 68734.8847, indicando que o modelo possui uma margem de erro significativa nas previsões. O coeficiente de determinação (R²) de 0,6395 sugere que o modelo explica apenas 63,95% da variação dos dados de teste, confirmando a hipótese de *overfitting*."
      ]
    },
    {
      "cell_type": "markdown",
      "metadata": {
        "id": "EW276pzWwTRQ"
      },
      "source": [
        "### ***Overfitting* em Árvores**"
      ]
    },
    {
      "cell_type": "markdown",
      "metadata": {
        "id": "up5o7tpow5XW"
      },
      "source": [
        "Em uma árvore de regressão, o *overfitting* ocorre com frequência quando a profundidade da árvore aumenta excessivamente, resultando em uma modelagem detalhada dos ruídos e particularidades do conjunto de treinamento. Isso compromete sua capacidade de generalização, reduzindo o desempenho preditivo em dados não observados.\n",
        "\n",
        "\n",
        "\n",
        "\n",
        "\n",
        "\n",
        "\n"
      ]
    },
    {
      "cell_type": "code",
      "execution_count": null,
      "metadata": {
        "colab": {
          "base_uri": "https://localhost:8080/"
        },
        "id": "ei0QMqVUxAX6",
        "outputId": "9c5f9040-3331-484a-ddbe-b02db3f8fd25"
      },
      "outputs": [
        {
          "output_type": "stream",
          "name": "stdout",
          "text": [
            "A profundidade da árvore é: 37\n"
          ]
        }
      ],
      "source": [
        "# Extraia o modelo treinado do pipeline\n",
        "modelo_treinado = pipeline.named_steps['modelo']\n",
        "\n",
        "# Acesse e imprima a profundidade da árvore\n",
        "profundidade = modelo_treinado.get_depth()\n",
        "print(f\"A profundidade da árvore é: {profundidade}\")"
      ]
    },
    {
      "cell_type": "markdown",
      "metadata": {
        "id": "7dHyllUQ0bQ9"
      },
      "source": [
        "Para avaliar o impacto da profundidade de uma árvore de regressão, é essencial quantificar os erros em ambos os conjuntos, de treino e teste, em diversos valores de profundidade máxima. Essa metodologia permite uma análise detalhada do comportamento do modelo em relação ao ajuste aos dados, facilitando a detecção de sinais de *underfitting* e *overfitting*. O parâmetro `max_depth` estabelece um limite para a profundidade da árvore, restringindo o número de níveis que ela pode alcançar. Essa limitação previne a complexidade excessiva da árvore, reduzindo o risco de ajuste excessivo aos dados de treinamento e promovendo uma melhor generalização em conjuntos de dados não vistos.\n",
        "\n",
        "\n",
        "\n",
        "\n",
        "\n",
        "\n"
      ]
    },
    {
      "cell_type": "code",
      "execution_count": null,
      "metadata": {
        "colab": {
          "base_uri": "https://localhost:8080/",
          "height": 567
        },
        "id": "RbpWyLICFJyg",
        "outputId": "48172a2a-1ba0-4857-e88d-86473ee8c801"
      },
      "outputs": [
        {
          "output_type": "display_data",
          "data": {
            "text/plain": [
              "<Figure size 1000x600 with 1 Axes>"
            ],
            "image/png": "[encoded data removed]"
          },
          "metadata": {}
        }
      ],
      "source": [
        "import matplotlib.pyplot as plt\n",
        "import numpy as np\n",
        "\n",
        "# Definir intervalos de profundidade para testar\n",
        "max_depths = np.arange(1, 40)\n",
        "\n",
        "# Listas para armazenar erros de treino e teste\n",
        "train_errors = []\n",
        "test_errors = []\n",
        "\n",
        "# Loop para testar diferentes profundidades\n",
        "for depth in max_depths:\n",
        "    # Criar o pipeline com a profundidade atual\n",
        "    pipeline = Pipeline([\n",
        "        ('preprocessador', preprocessador),\n",
        "        ('modelo', DecisionTreeRegressor(max_depth=depth, random_state=42))\n",
        "    ])\n",
        "\n",
        "    # Treinar o modelo\n",
        "    pipeline.fit(X_train, y_train)\n",
        "\n",
        "    # Fazer previsões nos conjuntos de treino e teste\n",
        "    y_train_pred = pipeline.predict(X_train)\n",
        "    y_test_pred = pipeline.predict(X_test)\n",
        "\n",
        "    # Calcular o erro quadrático médio (MSE) para treino e teste\n",
        "    train_mse = root_mean_squared_error(y_train, y_train_pred)\n",
        "    test_mse = root_mean_squared_error(y_test, y_test_pred)\n",
        "\n",
        "    # Armazenar os erros\n",
        "    train_errors.append(train_mse)\n",
        "    test_errors.append(test_mse)\n",
        "\n",
        "# Plotar os resultados\n",
        "plt.figure(figsize=(10, 6))\n",
        "plt.plot(max_depths, train_errors, label='Erro de Treino', marker='o')\n",
        "plt.plot(max_depths, test_errors, label='Erro de Teste', marker='o')\n",
        "plt.xlabel('Profundidade Máxima da Árvore')\n",
        "plt.ylabel('Raiz do Erro Quadrático Médio (RMSE)')\n",
        "plt.title('Erro de Treino e Teste em Função da Profundidade da Árvore')\n",
        "plt.legend()\n",
        "plt.grid(True)\n",
        "plt.show()"
      ]
    },
    {
      "cell_type": "markdown",
      "metadata": {
        "id": "3NX5Wr3CfqAX"
      },
      "source": [
        "### **Estratégias para Combater o *Overfitting***"
      ]
    },
    {
      "cell_type": "markdown",
      "metadata": {
        "id": "2_r4_G5xWQcQ"
      },
      "source": [
        "Apresenta-se um fluxograma típico do fluxo de trabalho de [Cross-validation](https://scikit-learn.org/stable/modules/cross_validation.html), uma metodologia essencial para a avaliação e otimização do desempenho de modelos de aprendizado de máquina durante o processo de treinamento. Essa abordagem permite uma análise sistemática da eficácia dos modelos, promovendo uma estimativa mais precisa da capacidade de generalização em dados não vistos.\n",
        "\n",
        "\n",
        "\n",
        "\n",
        "\n",
        "\n"
      ]
    },
    {
      "cell_type": "markdown",
      "metadata": {
        "id": "7h_CDwJEdFvU"
      },
      "source": [
        "![image.png](data:image/png;base64,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)"
      ]
    },
    {
      "cell_type": "markdown",
      "metadata": {
        "id": "Bdz9_yJ4dnjl"
      },
      "source": [
        "A validação cruzada é uma técnica que envolve a divisão do conjunto de dados em múltiplos subconjuntos, chamados de folds. Nesse processo, o modelo é treinado em um subconjunto específico dos dados e, em seguida, testado em outro subconjunto, garantindo uma avaliação de desempenho mais robusta. Essa abordagem minimiza o viés associado à superexposição aos dados de treinamento, proporcionando uma estimativa mais precisa da capacidade de generalização do modelo em dados não vistos.\n",
        "\n",
        "\n",
        "\n",
        "\n",
        "\n",
        "\n",
        "\n",
        "\n",
        "\n",
        "\n",
        "\n",
        "\n",
        "\n"
      ]
    },
    {
      "cell_type": "markdown",
      "metadata": {
        "id": "MqBSuMmGdn7G"
      },
      "source": [
        "![image.png](data:image/png;base64,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)"
      ]
    },
    {
      "cell_type": "markdown",
      "metadata": {
        "id": "V2bI_Grakmvk"
      },
      "source": [
        "A seguir, apresenta-se uma implementação prática da validação cruzada utilizando a técnica K-Fold."
      ]
    },
    {
      "cell_type": "code",
      "execution_count": null,
      "metadata": {
        "colab": {
          "base_uri": "https://localhost:8080/"
        },
        "id": "kpBLB6XJbc0E",
        "outputId": "246c8359-d9e6-4304-a123-07312f8fa9df"
      },
      "outputs": [
        {
          "output_type": "stream",
          "name": "stdout",
          "text": [
            "Média RMSE: 62561.838 ± 1472.591\n",
            "Média R²: 0.707 ± 0.008\n"
          ]
        }
      ],
      "source": [
        "from sklearn.model_selection import KFold\n",
        "\n",
        "# Definir o número de folds\n",
        "k = 5\n",
        "kf = KFold(n_splits=k, shuffle=True, random_state=42)\n",
        "\n",
        "# Criar um pipeline completo que inclui o pré-processamento e futuras etapas de modelagem\n",
        "pipeline = Pipeline([\n",
        "    ('preprocessador', preprocessador),\n",
        "    ('modelo', DecisionTreeRegressor(max_depth=10, random_state=42))\n",
        "])\n",
        "\n",
        "# Listas para armazenar os resultados de RMSE e R²\n",
        "rmse_scores = []\n",
        "r2_scores = []\n",
        "\n",
        "# Loop para realizar a validação cruzada\n",
        "for train_index, test_index in kf.split(X_train):\n",
        "    # Usar iloc para indexar corretamente os DataFrames\n",
        "    X_fold_train, X_fold_val = X_train.iloc[train_index], X_train.iloc[test_index]\n",
        "    y_fold_train, y_fold_val = y_train.iloc[train_index], y_train.iloc[test_index]\n",
        "\n",
        "    # Treinar o modelo\n",
        "    pipeline.fit(X_fold_train, y_fold_train)\n",
        "\n",
        "    # Fazer previsões\n",
        "    y_pred = pipeline.predict(X_fold_val)\n",
        "\n",
        "    # Avaliar o modelo\n",
        "    rmse = root_mean_squared_error(y_fold_val, y_pred)\n",
        "    r2 = r2_score(y_fold_val, y_pred)\n",
        "\n",
        "    # Armazenar os resultados\n",
        "    rmse_scores.append(rmse)\n",
        "    r2_scores.append(r2)\n",
        "\n",
        "# Calcular médias e desvios padrão\n",
        "mean_rmse = np.mean(rmse_scores)\n",
        "std_rmse = np.std(rmse_scores)\n",
        "\n",
        "mean_r2 = np.mean(r2_scores)\n",
        "std_r2 = np.std(r2_scores)\n",
        "\n",
        "# Imprimir os resultados\n",
        "print(f'Média RMSE: {mean_rmse:.3f} ± {std_rmse:.3f}')\n",
        "print(f'Média R²: {mean_r2:.3f} ± {std_r2:.3f}')\n"
      ]
    },
    {
      "cell_type": "markdown",
      "metadata": {
        "id": "CC2WNCpcWn5q"
      },
      "source": [
        "O ajuste de hiperparâmetros é o processo de otimização dos parâmetros que não são aprendidos diretamente pelo modelo durante o treinamento, mas que afetam seu desempenho, como a profundidade máxima em árvores. Uma estratégia comum para ajustar hiperparâmetros é a busca em grade ou [Grid Search](https://scikit-learn.org/dev/modules/generated/sklearn.model_selection.GridSearchCV.html), onde um espaço de hiperparâmetros é definido e o modelo é avaliado para cada combinação de parâmetros usando validação cruzada."
      ]
    },
    {
      "cell_type": "code",
      "execution_count": null,
      "metadata": {
        "colab": {
          "base_uri": "https://localhost:8080/"
        },
        "id": "17NcTSi4lrgO",
        "outputId": "66a904e8-f93b-4983-95c4-3c784b1c7db0"
      },
      "outputs": [
        {
          "output_type": "stream",
          "name": "stdout",
          "text": [
            "Melhores parâmetros: {'modelo__max_depth': 10, 'modelo__min_samples_leaf': 4, 'modelo__min_samples_split': 10}\n",
            "RMSE: 60102.769\n",
            "R²: 0.724\n"
          ]
        }
      ],
      "source": [
        "from sklearn.model_selection import GridSearchCV\n",
        "\n",
        "# Criar um pipeline completo que inclui o pré-processamento e futuras etapas de modelagem\n",
        "pipeline = Pipeline([\n",
        "    ('preprocessador', preprocessador),\n",
        "    ('modelo', DecisionTreeRegressor(random_state=42))\n",
        "])\n",
        "\n",
        "# Definir a grade de parâmetros para otimização\n",
        "param_grid = {\n",
        "    'modelo__max_depth': [None, 5, 10, 15],\n",
        "    'modelo__min_samples_split': [2, 5, 10],\n",
        "    'modelo__min_samples_leaf': [1, 2, 4]\n",
        "}\n",
        "\n",
        "# Configurar o GridSearchCV\n",
        "grid_search = GridSearchCV(pipeline, param_grid, cv=kf, scoring='r2', n_jobs=-1)\n",
        "\n",
        "# Treinar o modelo usando GridSearchCV\n",
        "grid_search.fit(X_train, y_train)\n",
        "\n",
        "# Extrair os melhores parâmetros\n",
        "best_params = grid_search.best_params_\n",
        "best_model = grid_search.best_estimator_\n",
        "\n",
        "# Avaliar o desempenho do modelo otimizado\n",
        "y_pred = best_model.predict(X_test)\n",
        "\n",
        "# Calcular RMSE e R²\n",
        "rmse = root_mean_squared_error(y_test, y_pred)\n",
        "r2 = r2_score(y_test, y_pred)\n",
        "\n",
        "# Imprimir os melhores parâmetros e os resultados de desempenho\n",
        "print(f'Melhores parâmetros: {best_params}')\n",
        "print(f'RMSE: {rmse:.3f}')\n",
        "print(f'R²: {r2:.3f}')"
      ]
    },
    {
      "cell_type": "markdown",
      "metadata": {
        "id": "YZx8fDmDpMLh"
      },
      "source": [
        "## **6. Avaliação dos Resultados**\n"
      ]
    },
    {
      "cell_type": "markdown",
      "source": [
        "Os melhores parâmetros encontrados pelo GridSearchCV são:\n",
        "\n",
        "- `max_depth`: 10\n",
        "- `min_samples_leaf`: 4\n",
        "- `min_samples_split`: 10\n",
        "\n",
        "Isso significa que, dentre as combinações testadas, uma árvore de decisão com profundidade máxima de 10, mínimo de 4 amostras por folha e mínimo de 10 amostras para dividir um nó interno resultou no melhor desempenho de acordo com a métrica de avaliação utilizada (R²)."
      ],
      "metadata": {
        "id": "cxIlP8rl3TAk"
      }
    },
    {
      "cell_type": "markdown",
      "source": [
        "### **Root Mean Squared Error (RMSE)**"
      ],
      "metadata": {
        "id": "Pgsw9nsg3inK"
      }
    },
    {
      "cell_type": "markdown",
      "source": [
        "É uma métrica que quantifica o desvio médio das previsões de um modelo em relação aos valores reais. O cálculo é feito da seguinte forma:\n",
        "\n",
        "- **Cálculo dos erros (resíduos)**: Para cada observação $i$ no conjunto de teste, o erro (ou resíduo) é definido como:\n",
        "  - $e_i=y_{pred_i}-y_{test_i}$.\n",
        "    - $y_{pred_i}$ é o valor previso pelo modelo para a observação $i$.\n",
        "    - $y_{test_i}$ é o valor real (observado) para a observação $i$.\n",
        "\n",
        "- **Média dos erros quadráticos (MSE)**: A média dos erros quadráticos é calculada sobre todas as $n$ observações no conjunto de teste:\n",
        "\n",
        "  - $MSE=\\frac{1}{n}\\sum_{i=1}^n e_i^2$\n",
        "\n",
        "- **Raiz quadrada da média (RMSE)**: O RMSE é a raiz quadrada do MSE:\n",
        "  -  $RMSE = \\sqrt{MSE}$"
      ],
      "metadata": {
        "id": "mQS2J8I83x6N"
      }
    },
    {
      "cell_type": "markdown",
      "source": [
        "A função `calcular_rmse` implementa o cálculo do Root Mean Squared Error (RMSE)\n",
        "\n"
      ],
      "metadata": {
        "id": "I98nbyLWCLLo"
      }
    },
    {
      "cell_type": "code",
      "source": [
        "def calcular_rmse(y_test, y_pred):\n",
        "    \"\"\"\n",
        "    Calcula o RMSE (Root Mean Squared Error) entre os valores reais (y_test) e os valores previstos (y_pred).\n",
        "\n",
        "    Args:\n",
        "        y_test: Array NumPy com os valores reais.\n",
        "        y_pred: Array NumPy com os valores previstos.\n",
        "\n",
        "    Returns:\n",
        "        O valor do RMSE.\n",
        "    \"\"\"\n",
        "\n",
        "    # Calcular os erros (resíduos)\n",
        "    erros = y_pred - y_test\n",
        "\n",
        "    # Calcular a média dos erros quadráticos (MSE)\n",
        "    mse = np.mean(np.square(erros))\n",
        "\n",
        "    # Calcular a raiz quadrada da média (RMSE)\n",
        "    rmse = np.sqrt(mse)\n",
        "\n",
        "    return rmse"
      ],
      "metadata": {
        "id": "N39apsMw_ioH"
      },
      "execution_count": null,
      "outputs": []
    },
    {
      "cell_type": "markdown",
      "source": [
        "Exemplo de uso"
      ],
      "metadata": {
        "id": "0Yhi6CDIKEjn"
      }
    },
    {
      "cell_type": "code",
      "source": [
        "rmse = calcular_rmse(y_test, y_pred)\n",
        "print(f'O RMSE do modelo é: {rmse:.2f}')"
      ],
      "metadata": {
        "colab": {
          "base_uri": "https://localhost:8080/"
        },
        "id": "9Paz8sCNBN2e",
        "outputId": "75ecfa2f-42fa-489e-c321-3ce2974de223"
      },
      "execution_count": null,
      "outputs": [
        {
          "output_type": "stream",
          "name": "stdout",
          "text": [
            "O RMSE do modelo é: 60102.77\n"
          ]
        }
      ]
    },
    {
      "cell_type": "markdown",
      "source": [
        "O RMSE reflete o desvio padrão dos resíduos, oferecendo uma medida da dispersão das previsões em relação aos valores observados, mantendo a mesma unidade de medida da variável alvo. No contexto deste problema, o RMSE indica que o erro médio das previsões do modelo é de aproximadamente 60.102,77 dólares, caracterizando a magnitude média das discrepâncias entre as previsões e os valores reais. Isso implica que, em média, o modelo está subestimando ou superestimando os valores reais em torno dessa ordem de grandeza.\n",
        "\n",
        "\n",
        "\n",
        "\n",
        "\n",
        "\n"
      ],
      "metadata": {
        "id": "MMoWtIAm_i7a"
      }
    },
    {
      "cell_type": "markdown",
      "source": [
        "### **Coeficiente de Determinação (R²)**"
      ],
      "metadata": {
        "id": "wiOELsH54SRE"
      }
    },
    {
      "cell_type": "markdown",
      "source": [
        "É uma métrica que complementa o RMSE, quantificando a proporção da variabilidade da variável dependente que é explicada pelo modelo em relação à variabilidade total. Ele varia entre 0 e 1, onde 1 indica que o modelo explica 100% da variação dos dados, e 0 significa que o modelo não explica nada além da média dos valores observados. Enquanto o RMSE expressa o erro médio das previsões na mesma unidade da variável alvo, o R² avalia o quão bem o modelo captura a variação nos dados. O cálculo é realizado da seguinte forma:"
      ],
      "metadata": {
        "id": "hGIPfZGL4bFZ"
      }
    },
    {
      "cell_type": "markdown",
      "source": [
        "- **Cálculo da soma total dos quadrados (SST)**: Primeiro, calcula-se a variabilidade total dos dados em relação à média dos valores reais. Para cada observação $i$, o desvio em relação à média $\\bar{y}_{test}$ é elevado ao quadrado:\n",
        "  - $SST = \\sum_{i=1}^n (y_{test_i} - \\bar{y}_{test})^2$\n",
        "\n",
        "- **Cálculo da soma dos resíduos ao quadrado (SSR)**: Em seguida, calcula-se a soma dos quadrados dos resíduos, ou seja, a diferença entre as previsões do modelo e os valores reais:\n",
        "  - $SSR = \\sum_{i=1}^n (y_{test_i} - y_{pred_i})^2$\n",
        "\n",
        "- **Cálculo do R²**: O R² é dado pela fração da variabilidade total explicada pelo modelo, que pode ser expressa como:\n",
        " - $R²=1-\\frac{SSR}{SST}$"
      ],
      "metadata": {
        "id": "bdMTnzTaIAOD"
      }
    },
    {
      "cell_type": "markdown",
      "source": [
        "A função `calcular_r2` implementa o cálculo do Coeficiente de Determinação (R²)"
      ],
      "metadata": {
        "id": "aJD7-xfnJy0n"
      }
    },
    {
      "cell_type": "code",
      "source": [
        "def calcular_r2(y_test, y_pred):\n",
        "  \"\"\"\n",
        "  Calcula o coeficiente de determinação R² entre os valores reais (y_test) e os valores previstos (y_pred).\n",
        "\n",
        "  Args:\n",
        "      y_test: Array NumPy com os valores reais.\n",
        "      y_pred: Array NumPy com os valores previstos.\n",
        "\n",
        "  Returns:\n",
        "      O valor do R².\n",
        "  \"\"\"\n",
        "\n",
        "  # Calcular a média dos valores reais\n",
        "  media_y_test = np.mean(y_test)\n",
        "\n",
        "  # Calcular a Soma dos Quadrados Total (SST)\n",
        "  sst = np.sum(np.square(y_test - media_y_test))\n",
        "\n",
        "  # Calcular a Soma dos Quadrados dos Resíduos (SSR)\n",
        "  ssr = np.sum(np.square(y_test - y_pred))\n",
        "\n",
        "  # Calcular o R²\n",
        "  r2 = 1 - (ssr / sst)\n",
        "\n",
        "  return r2"
      ],
      "metadata": {
        "id": "IXvrqfJjFX74"
      },
      "execution_count": null,
      "outputs": []
    },
    {
      "cell_type": "markdown",
      "source": [
        "Exemplo de uso"
      ],
      "metadata": {
        "id": "zHWc4nwxKCAo"
      }
    },
    {
      "cell_type": "code",
      "source": [
        "r2 = calcular_r2(y_test, y_pred)\n",
        "print(f'R²: {r2:.3f}')"
      ],
      "metadata": {
        "colab": {
          "base_uri": "https://localhost:8080/"
        },
        "id": "rVZC88I2FarC",
        "outputId": "a236799c-c87f-4656-ba4a-0afdea854d47"
      },
      "execution_count": null,
      "outputs": [
        {
          "output_type": "stream",
          "name": "stdout",
          "text": [
            "R²: 0.724\n"
          ]
        }
      ]
    },
    {
      "cell_type": "markdown",
      "source": [
        "O R² de 0.724 indica que aproximadamente 72.4% da variância nos preços dos imóveis (ou qualquer que seja a sua variável alvo) é explicada pelo seu modelo. Embora seja um resultado satisfatório, denota que ainda existe uma parcela considerável da variabilidade que não é capturada pelo modelo, abrindo espaço para aprimoramentos através de técnicas como otimização de hiperparâmetros, seleção de features, engenharia de features ou exploração de modelos mais complexos."
      ],
      "metadata": {
        "id": "CWjU6k_rGn9j"
      }
    },
    {
      "cell_type": "markdown",
      "source": [
        "## **7. Exercício**"
      ],
      "metadata": {
        "id": "6Q-M0yM6K9Qv"
      }
    },
    {
      "cell_type": "markdown",
      "source": [
        "**Objetivo**:\n",
        "\n",
        "Propor melhorias que possam aumentar a acurácia e a capacidade explicativa do modelo.\n",
        "\n",
        "**Sugestões:**\n",
        "\n",
        "- **Engenharia de Features:** Crie novas features que possam capturar informações relevantes não presentes nas features originais.\n",
        "- **Novos Modelos:** Explore o uso de algoritmos [Random Forest](https://scikit-learn.org/stable/modules/generated/sklearn.ensemble.RandomForestClassifier.html) ou [Gradient Boosting](https://scikit-learn.org/stable/modules/generated/sklearn.ensemble.GradientBoostingClassifier.html).\n",
        "- **Random Search:** Utilize a técnica de [Random Search](https://scikit-learn.org/1.5/modules/generated/sklearn.model_selection.RandomizedSearchCV.html) para otimizar os hiperparâmetros dos modelos.\n",
        "\n",
        "**Desafio Adicional:**\n",
        "\n",
        "- Utilize técnicas de visualização para entender melhor o impacto das novas features e a performance dos modelos.\n",
        "- Documente suas análises e resultados para facilitar a interpretação e a comunicação das suas descobertas."
      ],
      "metadata": {
        "id": "DMARSsY2M51K"
      }
    },
    {
      "cell_type": "code",
      "source": [
        "from sklearn.preprocessing import FunctionTransformer\n",
        "from sklearn.model_selection import RandomizedSearchCV\n",
        "\n",
        "def engenharia_de_features(X):\n",
        "  X[\"cômodos_por_casa\"] = X[\"total_cômodos\"] / X[\"domicílios\"]\n",
        "  X['razao_quartos'] = X[\"total_quartos\"] / X[\"total_cômodos\"]\n",
        "  X['geolocalizacao'] = X['latitude'] / X['longitude']\n",
        "  return X"
      ],
      "metadata": {
        "id": "FeCAxpSDSfjQ"
      },
      "execution_count": null,
      "outputs": []
    },
    {
      "cell_type": "markdown",
      "source": [
        "### Decision Tree"
      ],
      "metadata": {
        "id": "tVn0Vuf56PMA"
      }
    },
    {
      "cell_type": "code",
      "source": [
        "# Pipeline com engenharia de features e DecisionTreeRegressor\n",
        "pipeline_dt = Pipeline([\n",
        "    ('engenharia_de_features', FunctionTransformer(engenharia_de_features)),  # Aplicação da engenharia de features\n",
        "    ('preprocessador', preprocessador),  # Preprocessamento de dados\n",
        "    ('modelo', DecisionTreeRegressor(random_state=42))  # Modelo Decision Tree\n",
        "])\n",
        "\n",
        "# Definição do grid de hiperparâmetros para Decision Tree\n",
        "param_grid_dt = {\n",
        "    'modelo__max_depth': [None, 5, 10, 15],\n",
        "    'modelo__min_samples_split': [2, 5, 10],\n",
        "    'modelo__min_samples_leaf': [1, 2, 4]\n",
        "}\n",
        "\n",
        "# RandomizedSearch para otimização de hiperparâmetros\n",
        "random_search_dt = RandomizedSearchCV(\n",
        "    estimator=pipeline_dt,\n",
        "    param_distributions=param_grid_dt,\n",
        "    n_iter=40,\n",
        "    cv=kf,  # Validação cruzada\n",
        "    random_state=42,\n",
        "    n_jobs=-1  # Paralelização\n",
        ")\n",
        "\n",
        "# Treinamento do modelo com os melhores hiperparâmetros\n",
        "random_search_dt.fit(X_train, y_train)\n",
        "\n",
        "# Melhor modelo encontrado\n",
        "best_dt_model = random_search_dt.best_estimator_\n",
        "\n",
        "# Previsões e métricas de avaliação\n",
        "y_pred_dt = best_dt_model.predict(X_test)\n",
        "rmse_dt = root_mean_squared_error(y_test, y_pred_dt)\n",
        "r2_dt = r2_score(y_test, y_pred_dt)\n",
        "\n",
        "# Exibição dos resultados\n",
        "print(f'Decision Tree - RMSE: {rmse_dt:.3f}, R²: {r2_dt:.3f}')\n",
        "\n",
        "# Melhores hiperparâmetros encontrados\n",
        "best_params_dt = random_search_dt.best_params_\n",
        "print(f'Melhores hiperparâmetros: {best_params_dt}')"
      ],
      "metadata": {
        "colab": {
          "base_uri": "https://localhost:8080/"
        },
        "id": "S7TG5dKr4QiB",
        "outputId": "b22b7813-f1eb-4d70-b529-77a14ab3bf59"
      },
      "execution_count": null,
      "outputs": [
        {
          "output_type": "stream",
          "name": "stderr",
          "text": [
            "/usr/local/lib/python3.11/dist-packages/sklearn/model_selection/_search.py:317: UserWarning: The total space of parameters 36 is smaller than n_iter=40. Running 36 iterations. For exhaustive searches, use GridSearchCV.\n",
            "  warnings.warn(\n"
          ]
        },
        {
          "output_type": "stream",
          "name": "stdout",
          "text": [
            "Decision Tree - RMSE: 60102.769, R²: 0.724\n",
            "Melhores hiperparâmetros: {'modelo__min_samples_split': 10, 'modelo__min_samples_leaf': 4, 'modelo__max_depth': 10}\n"
          ]
        }
      ]
    },
    {
      "cell_type": "markdown",
      "source": [
        "### Random Forest"
      ],
      "metadata": {
        "id": "8mObtDof6Vh8"
      }
    },
    {
      "cell_type": "code",
      "source": [
        "# Pipeline sem engenharia de features\n",
        "pipeline_rf_no_feat = Pipeline([\n",
        "    ('preprocessador', preprocessador),  # Preprocessamento de dados\n",
        "    ('modelo', RandomForestRegressor(random_state=42))  # Modelo Random Forest\n",
        "])\n",
        "\n",
        "# Pipeline com engenharia de features\n",
        "pipeline_rf_with_feat = Pipeline([\n",
        "    ('engenharia_de_features', FunctionTransformer(engenharia_de_features)),  # Aplicação da engenharia de features\n",
        "    ('preprocessador', preprocessador),  # Preprocessamento de dados\n",
        "    ('modelo', RandomForestRegressor(random_state=42))  # Modelo Random Forest\n",
        "])\n",
        "\n",
        "# Definição do grid de hiperparâmetros\n",
        "param_grid_rf = {\n",
        "    'modelo__n_estimators': [100, 200, 300],\n",
        "    'modelo__max_depth': [None, 5, 10, 15],\n",
        "    'modelo__min_samples_split': [2, 5, 10],\n",
        "    'modelo__min_samples_leaf': [1, 2, 4]\n",
        "}\n",
        "\n",
        "# RandomizedSearch para otimização de hiperparâmetros - sem engenharia de features\n",
        "random_search_rf_no_feat = RandomizedSearchCV(\n",
        "    estimator=pipeline_rf_no_feat,\n",
        "    param_distributions=param_grid_rf,\n",
        "    n_iter=10,\n",
        "    cv=kf,  # Validação cruzada\n",
        "    random_state=42,\n",
        "    n_jobs=-1  # Paralelização\n",
        ")\n",
        "\n",
        "# RandomizedSearch para otimização de hiperparâmetros - com engenharia de features\n",
        "random_search_rf_with_feat = RandomizedSearchCV(\n",
        "    estimator=pipeline_rf_with_feat,\n",
        "    param_distributions=param_grid_rf,\n",
        "    n_iter=10,\n",
        "    cv=kf,  # Validação cruzada\n",
        "    random_state=42,\n",
        "    n_jobs=-1  # Paralelização\n",
        ")\n",
        "\n",
        "# Treinamento dos modelos com e sem engenharia de features\n",
        "random_search_rf_no_feat.fit(X_train, y_train)\n",
        "random_search_rf_with_feat.fit(X_train, y_train)\n",
        "\n",
        "# Melhores modelos encontrados\n",
        "best_rf_model_no_feat = random_search_rf_no_feat.best_estimator_\n",
        "best_rf_model_with_feat = random_search_rf_with_feat.best_estimator_\n",
        "\n",
        "# Previsões e métricas de avaliação - sem engenharia de features\n",
        "y_pred_rf_no_feat = best_rf_model_no_feat.predict(X_test)\n",
        "rmse_rf_no_feat = root_mean_squared_error(y_test, y_pred_rf_no_feat)\n",
        "r2_rf_no_feat = r2_score(y_test, y_pred_rf_no_feat)\n",
        "\n",
        "# Previsões e métricas de avaliação - com engenharia de features\n",
        "y_pred_rf_with_feat = best_rf_model_with_feat.predict(X_test)\n",
        "rmse_rf_with_feat = root_mean_squared_error(y_test, y_pred_rf_with_feat)\n",
        "r2_rf_with_feat = r2_score(y_test, y_pred_rf_with_feat)\n",
        "\n",
        "# Exibição dos resultados\n",
        "print(f'Random Forest sem engenharia de features - RMSE: {rmse_rf_no_feat:.3f}, R²: {r2_rf_no_feat:.3f}')\n",
        "print(f'Random Forest com engenharia de features - RMSE: {rmse_rf_with_feat:.3f}, R²: {r2_rf_with_feat:.3f}')\n",
        "\n",
        "# Melhores hiperparâmetros encontrados\n",
        "best_params_rf_no_feat = random_search_rf_no_feat.best_params_\n",
        "best_params_rf_with_feat = random_search_rf_with_feat.best_params_\n",
        "print(f'Melhores hiperparâmetros (sem features): {best_params_rf_no_feat}')\n",
        "print(f'Melhores hiperparâmetros (com features): {best_params_rf_with_feat}')"
      ],
      "metadata": {
        "colab": {
          "base_uri": "https://localhost:8080/",
          "height": 220
        },
        "id": "0DxNF66n7Vcn",
        "outputId": "bc084d02-aa57-4750-c7df-f6722ceb5076"
      },
      "execution_count": null,
      "outputs": [
        {
          "output_type": "error",
          "ename": "NameError",
          "evalue": "name 'RandomForestRegressor' is not defined",
          "traceback": [
            "\u001b[0;31m---------------------------------------------------------------------------\u001b[0m",
            "\u001b[0;31mNameError\u001b[0m                                 Traceback (most recent call last)",
            "\u001b[0;32m<ipython-input-26-0dcc7aa937ed>\u001b[0m in \u001b[0;36m<cell line: 0>\u001b[0;34m()\u001b[0m\n\u001b[1;32m      2\u001b[0m pipeline_rf_no_feat = Pipeline([\n\u001b[1;32m      3\u001b[0m     \u001b[0;34m(\u001b[0m\u001b[0;34m'preprocessador'\u001b[0m\u001b[0;34m,\u001b[0m \u001b[0mpreprocessador\u001b[0m\u001b[0;34m)\u001b[0m\u001b[0;34m,\u001b[0m  \u001b[0;31m# Preprocessamento de dados\u001b[0m\u001b[0;34m\u001b[0m\u001b[0;34m\u001b[0m\u001b[0m\n\u001b[0;32m----> 4\u001b[0;31m     \u001b[0;34m(\u001b[0m\u001b[0;34m'modelo'\u001b[0m\u001b[0;34m,\u001b[0m \u001b[0mRandomForestRegressor\u001b[0m\u001b[0;34m(\u001b[0m\u001b[0mrandom_state\u001b[0m\u001b[0;34m=\u001b[0m\u001b[0;36m42\u001b[0m\u001b[0;34m)\u001b[0m\u001b[0;34m)\u001b[0m  \u001b[0;31m# Modelo Random Forest\u001b[0m\u001b[0;34m\u001b[0m\u001b[0;34m\u001b[0m\u001b[0m\n\u001b[0m\u001b[1;32m      5\u001b[0m ])\n\u001b[1;32m      6\u001b[0m \u001b[0;34m\u001b[0m\u001b[0m\n",
            "\u001b[0;31mNameError\u001b[0m: name 'RandomForestRegressor' is not defined"
          ]
        }
      ]
    },
    {
      "cell_type": "code",
      "source": [
        "from sklearn.ensemble import RandomForestRegressor\n",
        "\n",
        "# Pipeline com engenharia de features e RandomForestRegressor\n",
        "pipeline_rf_no_feat = Pipeline([\n",
        "    ('preprocessador', preprocessador),  # Preprocessamento de dados\n",
        "    ('modelo', RandomForestRegressor(random_state=42))  # Modelo Random Forest\n",
        "])\n",
        "\n",
        "# Definição do grid de hiperparâmetros\n",
        "param_grid_rf = {\n",
        "    'modelo__n_estimators': [100, 200, 300],\n",
        "    'modelo__max_depth': [None, 5, 10, 15],\n",
        "    'modelo__min_samples_split': [2, 5, 10],\n",
        "    'modelo__min_samples_leaf': [1, 2, 4]\n",
        "}\n",
        "\n",
        "# RandomizedSearch para otimização de hiperparâmetros\n",
        "random_search_rf = RandomizedSearchCV(\n",
        "    estimator=pipeline_rf_no_feat,\n",
        "    param_distributions=param_grid_rf,\n",
        "    n_iter=10,\n",
        "    cv=kf,  # Validação cruzada\n",
        "    random_state=42,\n",
        "    n_jobs=-1  # Paralelização\n",
        ")\n",
        "\n",
        "# Treinamento do modelo com os melhores hiperparâmetros\n",
        "random_search_rf.fit(X_train, y_train)\n",
        "\n",
        "# Melhor modelo encontrado\n",
        "best_rf_model = random_search_rf.best_estimator_\n",
        "\n",
        "# Previsões e métricas de avaliação\n",
        "y_pred_rf = best_rf_model.predict(X_test)\n",
        "rmse_rf = root_mean_squared_error(y_test, y_pred_rf)\n",
        "r2_rf = r2_score(y_test, y_pred_rf)\n",
        "\n",
        "# Exibição dos resultados\n",
        "print(f'Random Forest - RMSE: {rmse_rf:.3f}, R²: {r2_rf:.3f}')\n",
        "\n",
        "# Melhores hiperparâmetros encontrados\n",
        "best_params_rf = random_search_rf.best_params_\n",
        "print(f'Melhores hiperparâmetros: {best_params_rf}')"
      ],
      "metadata": {
        "id": "ej3GDecf6nUm"
      },
      "execution_count": null,
      "outputs": []
    },
    {
      "cell_type": "code",
      "source": [
        "from sklearn.ensemble import RandomForestRegressor\n",
        "\n",
        "# Pipeline com engenharia de features e RandomForestRegressor\n",
        "pipeline_rf = Pipeline([\n",
        "    ('engenharia_de_features', FunctionTransformer(engenharia_de_features)),  # Aplicação da engenharia de features\n",
        "    ('preprocessador', preprocessador),  # Preprocessamento de dados\n",
        "    ('modelo', RandomForestRegressor(random_state=42))  # Modelo Random Forest\n",
        "])\n",
        "\n",
        "# Definição do grid de hiperparâmetros\n",
        "param_grid_rf = {\n",
        "    'modelo__n_estimators': [100, 200, 300],\n",
        "    'modelo__max_depth': [None, 5, 10, 15],\n",
        "    'modelo__min_samples_split': [2, 5, 10],\n",
        "    'modelo__min_samples_leaf': [1, 2, 4]\n",
        "}\n",
        "\n",
        "# RandomizedSearch para otimização de hiperparâmetros\n",
        "random_search_rf = RandomizedSearchCV(\n",
        "    estimator=pipeline_rf,\n",
        "    param_distributions=param_grid_rf,\n",
        "    n_iter=10,\n",
        "    cv=kf,  # Validação cruzada\n",
        "    random_state=42,\n",
        "    n_jobs=-1  # Paralelização\n",
        ")\n",
        "\n",
        "# Treinamento do modelo com os melhores hiperparâmetros\n",
        "random_search_rf.fit(X_train, y_train)\n",
        "\n",
        "# Melhor modelo encontrado\n",
        "best_rf_model = random_search_rf.best_estimator_\n",
        "\n",
        "# Previsões e métricas de avaliação\n",
        "y_pred_rf = best_rf_model.predict(X_test)\n",
        "rmse_rf = root_mean_squared_error(y_test, y_pred_rf)\n",
        "r2_rf = r2_score(y_test, y_pred_rf)\n",
        "\n",
        "# Exibição dos resultados\n",
        "print(f'Random Forest - RMSE: {rmse_rf:.3f}, R²: {r2_rf:.3f}')\n",
        "\n",
        "# Melhores hiperparâmetros encontrados\n",
        "best_params_rf = random_search_rf.best_params_\n",
        "print(f'Melhores hiperparâmetros: {best_params_rf}')"
      ],
      "metadata": {
        "id": "QUZr4dMtmwVD"
      },
      "execution_count": null,
      "outputs": []
    },
    {
      "cell_type": "markdown",
      "source": [
        "### Gradient Boosting"
      ],
      "metadata": {
        "id": "nu6ItJ-B6bqj"
      }
    },
    {
      "cell_type": "code",
      "source": [
        "from sklearn.ensemble import GradientBoostingRegressor\n",
        "\n",
        "# Pipeline com engenharia de features e GradientBoostingRegressor\n",
        "pipeline_gb = Pipeline([\n",
        "    ('engenharia_de_features', FunctionTransformer(engenharia_de_features)),  # Aplicação da engenharia de features\n",
        "    ('preprocessador', preprocessador),  # Preprocessamento de dados\n",
        "    ('modelo', GradientBoostingRegressor(random_state=42))  # Modelo Gradient Boosting\n",
        "])\n",
        "\n",
        "# Definição do grid de hiperparâmetros\n",
        "param_grid_gb = {\n",
        "    'modelo__n_estimators': [100, 200, 300],\n",
        "    'modelo__learning_rate': [0.01, 0.1, 0.05],  # Taxa de aprendizado\n",
        "    'modelo__max_depth': [3, 5, 10],  # Profundidade máxima da árvore\n",
        "    'modelo__min_samples_split': [2, 5, 10],\n",
        "    'modelo__min_samples_leaf': [1, 2, 4],\n",
        "    'modelo__subsample': [0.8, 1.0]  # Fração de amostras usadas para treinamento de cada árvore\n",
        "}\n",
        "\n",
        "# RandomizedSearch para otimização de hiperparâmetros\n",
        "random_search_gb = RandomizedSearchCV(\n",
        "    estimator=pipeline_gb,\n",
        "    param_distributions=param_grid_gb,\n",
        "    n_iter=10,\n",
        "    cv=kf,  # Validação cruzada\n",
        "    random_state=42,\n",
        "    n_jobs=-1  # Paralelização\n",
        ")\n",
        "\n",
        "# Treinamento do modelo com os melhores hiperparâmetros\n",
        "random_search_gb.fit(X_train, y_train)\n",
        "\n",
        "# Melhor modelo encontrado\n",
        "best_gb_model = random_search_gb.best_estimator_\n",
        "\n",
        "# Previsões e métricas de avaliação\n",
        "y_pred_gb = best_gb_model.predict(X_test)\n",
        "rmse_gb = root_mean_squared_error(y_test, y_pred_gb)\n",
        "r2_gb = r2_score(y_test, y_pred_gb)\n",
        "\n",
        "# Exibição dos resultados\n",
        "print(f'Gradient Boosting - RMSE: {rmse_gb:.3f}, R²: {r2_gb:.3f}')\n",
        "\n",
        "# Melhores hiperparâmetros encontrados\n",
        "best_params_gb = random_search_gb.best_params_\n",
        "print(f'Melhores hiperparâmetros: {best_params_gb}')"
      ],
      "metadata": {
        "id": "u1jbP-mDYi-g"
      },
      "execution_count": null,
      "outputs": []
    },
    {
      "cell_type": "markdown",
      "source": [
        "https://www.kaggle.com/code/camnugent/geospatial-feature-engineering-and-visualization"
      ],
      "metadata": {
        "id": "4o3_ZeK63tru"
      }
    },
    {
      "cell_type": "code",
      "source": [
        "from sklearn.ensemble import GradientBoostingRegressor\n",
        "\n",
        "# Função para treinar e avaliar o modelo\n",
        "def treinar_e_avaliar(pipeline, X_train, y_train, X_test, y_test, param_grid, kf):\n",
        "    random_search = RandomizedSearchCV(\n",
        "        estimator=pipeline,\n",
        "        param_distributions=param_grid,\n",
        "        n_iter=10,\n",
        "        cv=kf,\n",
        "        random_state=42,\n",
        "        n_jobs=-1\n",
        "    )\n",
        "\n",
        "    random_search.fit(X_train, y_train)\n",
        "    best_model = random_search.best_estimator_\n",
        "    y_pred = best_model.predict(X_test)\n",
        "\n",
        "    rmse = root_mean_squared_error(y_test, y_pred)\n",
        "    r2 = r2_score(y_test, y_pred)\n",
        "\n",
        "    return best_model, rmse, r2, random_search.best_params_\n",
        "\n",
        "# Definição do grid de hiperparâmetros para Gradient Boosting\n",
        "param_grid_gb = {\n",
        "    'modelo__n_estimators': [100, 200, 300],\n",
        "    'modelo__learning_rate': [0.01, 0.1, 0.05],\n",
        "    'modelo__max_depth': [3, 5, 10],\n",
        "    'modelo__min_samples_split': [2, 5, 10],\n",
        "    'modelo__min_samples_leaf': [1, 2, 4],\n",
        "    'modelo__subsample': [0.8, 1.0]\n",
        "}\n",
        "\n",
        "# Pipeline sem engenharia de features\n",
        "pipeline_gb_no_feat = Pipeline([\n",
        "    ('preprocessador', preprocessador),\n",
        "    ('modelo', GradientBoostingRegressor(random_state=42))\n",
        "])\n",
        "\n",
        "# Pipeline com engenharia de features\n",
        "pipeline_gb_with_feat = Pipeline([\n",
        "    ('engenharia_de_features', FunctionTransformer(engenharia_de_features)),\n",
        "    ('preprocessador', preprocessador),\n",
        "    ('modelo', GradientBoostingRegressor(random_state=42))\n",
        "])\n",
        "\n",
        "# Treinamento e avaliação - sem engenharia de features\n",
        "best_gb_model_no_feat, rmse_gb_no_feat, r2_gb_no_feat, best_params_gb_no_feat = treinar_e_avaliar(\n",
        "    pipeline_gb_no_feat, X_train, y_train, X_test, y_test, param_grid_gb, kf\n",
        ")\n",
        "\n",
        "# Treinamento e avaliação - com engenharia de features\n",
        "best_gb_model_with_feat, rmse_gb_with_feat, r2_gb_with_feat, best_params_gb_with_feat = treinar_e_avaliar(\n",
        "    pipeline_gb_with_feat, X_train, y_train, X_test, y_test, param_grid_gb, kf\n",
        ")\n",
        "\n",
        "# Exibição dos resultados\n",
        "print(f'Gradient Boosting sem engenharia de features - RMSE: {rmse_gb_no_feat:.3f}, R²: {r2_gb_no_feat:.3f}')\n",
        "print(f'Gradient Boosting com engenharia de features - RMSE: {rmse_gb_with_feat:.3f}, R²: {r2_gb_with_feat:.3f}')\n",
        "\n",
        "# Melhores hiperparâmetros encontrados\n",
        "print(f'Melhores hiperparâmetros (sem features): {best_params_gb_no_feat}')\n",
        "print(f'Melhores hiperparâmetros (com features): {best_params_gb_with_feat}')\n"
      ],
      "metadata": {
        "id": "lsEf8E27HqeD"
      },
      "execution_count": null,
      "outputs": []
    }
  ],
  "metadata": {
    "colab": {
      "provenance": [],
      "authorship_tag": "ABX9TyM+VFVkS2PTPKk4FfbCKNt4",
      "include_colab_link": true
    },
    "kernelspec": {
      "display_name": "Python 3",
      "name": "python3"
    },
    "language_info": {
      "name": "python"
    }
  },
  "nbformat": 4,
  "nbformat_minor": 0
}