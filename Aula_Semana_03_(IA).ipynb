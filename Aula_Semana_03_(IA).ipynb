{
  "nbformat": 4,
  "nbformat_minor": 0,
  "metadata": {
    "colab": {
      "provenance": [],
      "authorship_tag": "ABX9TyMrmXrjnxwKQDC9lGv17l2E",
      "include_colab_link": true
    },
    "kernelspec": {
      "name": "python3",
      "display_name": "Python 3"
    },
    "language_info": {
      "name": "python"
    }
  },
  "cells": [
    {
      "cell_type": "markdown",
      "metadata": {
        "id": "view-in-github",
        "colab_type": "text"
      },
      "source": [
        "<a href=\"https://colab.research.google.com/github/tiagopessoalima/IA/blob/main/Aula_Semana_03_(IA).ipynb\" target=\"_parent\"><img src=\"https://colab.research.google.com/assets/colab-badge.svg\" alt=\"Open In Colab\"/></a>"
      ]
    },
    {
      "cell_type": "markdown",
      "source": [
        "# **Multi-Layer Perceptron (MLP)**"
      ],
      "metadata": {
        "id": "u2JUxZyOT6pB"
      }
    },
    {
      "cell_type": "markdown",
      "source": [
        "Este material explora redes neurais artificiais do tipo MLP, combinando teoria e prática. Abordaremos desde os fundamentos teóricos até implementações práticas, com explicações claras e detalhadas para facilitar a compreensão de cada etapa do processo."
      ],
      "metadata": {
        "id": "s76V-_gY-z2o"
      }
    },
    {
      "cell_type": "markdown",
      "source": [
        "## **O que é uma Rede Neural?**"
      ],
      "metadata": {
        "id": "aqsnuaXY--iU"
      }
    },
    {
      "cell_type": "markdown",
      "source": [
        "Uma rede neural é um modelo computacional inspirado no funcionamento do cérebro humano, composto por unidades chamadas neurônios artificiais, que se interconectam para aprender padrões a partir de dados. O Perceptron Multicamadas (MLP) é um tipo específico de rede neural *feedforward*, caracterizado por possuir múltiplas camadas — de entrada, ocultas e de saída. Essa estrutura permite ao MLP capturar relações não lineares complexas, sendo amplamente utilizado em tarefas de aprendizado supervisionado, como classificação e regressão.\n",
        "\n",
        "> **Nota:** *Feedforward* refere-se ao fluxo unidirecional dos dados através da rede, iniciando na camada de entrada, passando sequencialmente por uma ou mais camadas ocultas, até alcançar a camada de saída — sem ciclos ou retroalimentação"
      ],
      "metadata": {
        "id": "fnCH8sRK_APi"
      }
    },
    {
      "cell_type": "markdown",
      "source": [
        "## **Histórico e Aplicações Práticas**"
      ],
      "metadata": {
        "id": "cySYgOlh_rx2"
      }
    },
    {
      "cell_type": "markdown",
      "source": [
        "Tem suas origens em 1943, quando McCulloch e Pitts propuseram o primeiro modelo de neurônio artificial. Em 1958, Rosenblatt avançou a ideia ao introduzir o *perceptron* de camada única. A verdadeira revolução veio nos anos 1980, com Rumelhart, Hinton e Williams, que desenvolveram o *backpropagation*, permitindo o treinamento de redes com múltiplas camadas. Atualmente, os MLPs são amplamente utilizados em diversas áreas, como previsão financeira, reconhecimento de imagens, diagnóstico médico e análise de dados textuais."
      ],
      "metadata": {
        "id": "XZHn_p87_t55"
      }
    },
    {
      "cell_type": "markdown",
      "source": [
        "### **Evolução do MLP - Marcos Históricos e Aplicações**"
      ],
      "metadata": {
        "id": "rLEkm93gMm8x"
      }
    },
    {
      "cell_type": "markdown",
      "source": [
        "| Ano / Período       | Contribuição                          | Pesquisadores                        | Contexto e Impacto                                                                 | Exemplos de Aplicações Atuais                                                             |\n",
        "|---------------------|---------------------------------------|--------------------------------------|-------------------------------------------------------------------------------------|--------------------------------------------------------------------------------------------|\n",
        "| **1943**            | Proposição do primeiro neurônio artificial | Warren McCulloch & Walter Pitts       | Introdução do modelo lógico de neurônio. Base teórica para redes neurais artificiais. | Base conceitual para todo o campo de redes neurais.                                       |\n",
        "| **1958**            | Perceptron de camada única            | Frank Rosenblatt                     | Primeiro modelo treinável. Introduziu a ideia de aprendizado supervisionado.        | Classificação linear simples (e.g., reconhecimento de dígitos básicos).                   |\n",
        "| **1969** *(crítica)*| Limitações do perceptron              | Marvin Minsky & Seymour Papert       | Mostraram que perceptrons não resolvem problemas não lineares, como XOR.            | Freou o progresso temporariamente; exigiu evolução no modelo.                             |\n",
        "| **Década de 1980**  | Algoritmo de *backpropagation*        | David Rumelhart, Geoffrey Hinton & Ronald Williams | Permitiu o treinamento eficaz de redes com múltiplas camadas (MLP).                | Reconhecimento de padrões, fala, imagens e dados tabulares.                               |\n",
        "| **Década de 2000+** | Popularização do aprendizado profundo | Comunidade de IA e grandes empresas  | MLPs se tornaram base de redes profundas, com avanços em hardware e dados.          | Diagnóstico médico, previsão financeira, detecção de fraudes, análise de sentimentos, etc. |"
      ],
      "metadata": {
        "id": "9woLy_2GMnFM"
      }
    },
    {
      "cell_type": "markdown",
      "source": [
        "## **Arquitetura do MLP**"
      ],
      "metadata": {
        "id": "vR_zHD-0Jddt"
      }
    },
    {
      "cell_type": "markdown",
      "source": [
        "A arquitetura de um MLP é composta por diferentes tipos de camadas, cada uma com um papel específico no processo de aprendizado. Essas camadas trabalham em conjunto para transformar os dados de entrada em uma saída útil, seja uma previsão, uma classificação ou outra forma de resposta computacional. A seguir, apresentamos as principais camadas que compõem um MLP:\n",
        "\n",
        "\n",
        "- **Camada de entrada:** Responsável por receber os dados brutos do problema, como imagens, textos ou valores numéricos. Cada neurônio dessa camada representa uma característica (ou *feature*) do dado de entrada.\n",
        "\n",
        "- **Camadas ocultas:** São compostas por neurônios que aplicam transformações não lineares aos dados, permitindo à rede extrair padrões complexos. Quanto mais camadas (profundidade), maior a capacidade de modelar relações sofisticadas.\n",
        "\n",
        "- **Camada de saída:** Gera o resultado final da rede. Pode representar classes (em problemas de classificação) ou valores contínuos (em problemas de regressão), dependendo da tarefa e da função de ativação utilizada."
      ],
      "metadata": {
        "id": "VbaTbz2-M8Rv"
      }
    },
    {
      "cell_type": "markdown",
      "source": [
        "![image.png](data:image/png;base64,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)"
      ],
      "metadata": {
        "id": "3VZf5FL0KYOS"
      }
    },
    {
      "cell_type": "markdown",
      "source": [
        "## **Funções de Ativação**"
      ],
      "metadata": {
        "id": "vo_MXbvSKZE8"
      }
    },
    {
      "cell_type": "markdown",
      "source": [
        "Funções de ativação introduzem não linearidade nas redes neurais, permitindo que elas aprendam relações complexas.\n",
        "\n",
        "> Uma combinação linear em redes neurais se refere à operação feita por um neurônio antes da aplicação da função de ativação. É aquela soma ponderada dos inputs com os pesos, mais o bias. Essa operação, sozinha, é linear — ou seja, o neurônio, sem uma função de ativação não linear, só consegue modelar relações lineares entre entrada e saída.\n",
        "\n",
        "Serão apresentadas a seguir as principais funções de ativação utilizadas em redes neurais, com foco em seus comportamentos e aplicações. Para facilitar a visualização dessas funções e evitar repetição de código, será construída uma função `plot_func`.\n",
        "\n"
      ],
      "metadata": {
        "id": "iuYA1cvZ00Hc"
      }
    },
    {
      "cell_type": "code",
      "source": [
        "import numpy as np\n",
        "import matplotlib.pyplot as plt\n",
        "\n",
        "# Função genérica para plotar funções de ativação\n",
        "def plot_func(x, y, label, title, ylabel):\n",
        "    plt.figure(figsize=(8, 6))\n",
        "    plt.plot(x, y, label=label, linewidth=2)\n",
        "    plt.xlabel('x')\n",
        "    plt.ylabel(ylabel)\n",
        "    plt.title(title)\n",
        "    plt.legend()\n",
        "    plt.grid(True)\n",
        "    plt.show()"
      ],
      "metadata": {
        "id": "fLKTDrFR1FnE"
      },
      "execution_count": 44,
      "outputs": []
    },
    {
      "cell_type": "markdown",
      "source": [
        "### **Sigmóide:**"
      ],
      "metadata": {
        "id": "u8yj1H2bK-b_"
      }
    },
    {
      "cell_type": "markdown",
      "source": [
        "É uma das funções de ativação mais clássicas. Ela transforma qualquer valor real em um intervalo entre 0 e 1, sendo definida pela fórmula:\n",
        "\n",
        "$$\n",
        "\\sigma(x) = \\frac{1}{1+e^{-x}}\n",
        "$$\n",
        "\n",
        "Essa característica a torna especialmente útil em tarefas de classificação binária, onde a saída pode ser interpretada como uma probabilidade. A seguir, é exibido o gráfico da função sigmoide."
      ],
      "metadata": {
        "id": "ici0z5K6Paqz"
      }
    },
    {
      "cell_type": "code",
      "source": [
        "def sigmoid(x):\n",
        "    return 1 / (1 + np.exp(-x))\n",
        "\n",
        "x = np.linspace(-10, 10, 400)\n",
        "y = sigmoid(x)\n",
        "\n",
        "plot_func(x, y, r'$\\sigma(x)=\\frac{1}{1+e^{-x}}$', 'Função Sigmoide', r'$\\sigma(x)$')"
      ],
      "metadata": {
        "colab": {
          "base_uri": "https://localhost:8080/",
          "height": 564
        },
        "id": "3aKhZxzvLVE1",
        "outputId": "eeb1818f-53fd-4ee3-a390-f4045b8a3d9c"
      },
      "execution_count": 45,
      "outputs": [
        {
          "output_type": "display_data",
          "data": {
            "text/plain": [
              "<Figure size 800x600 with 1 Axes>"
            ],
            "image/png": "[encoded data removed]"
          },
          "metadata": {}
        }
      ]
    },
    {
      "cell_type": "markdown",
      "source": [
        "### **Tangente Hiperbólica:**"
      ],
      "metadata": {
        "id": "Jg75U7F7LlK9"
      }
    },
    {
      "cell_type": "markdown",
      "source": [
        "Amplamente utilizada como função de ativação em redes neurais. Transforma valores reais em um intervalo entre -1 e 1, sendo definida por:\n",
        "\n",
        "$$\n",
        "\\tanh(x) = \\frac{e^x - e^{-x}}{e^x + e^{-x}}\n",
        "$$\n",
        "\n",
        "Essa simetria em torno da origem torna a `tanh` vantajosa em relação à sigmoide em alguns contextos, pois facilita a centralização dos dados e pode acelerar o processo de treinamento. A seguir, é exibido o gráfico da função tangente hiperbólica."
      ],
      "metadata": {
        "id": "UdVHG9hWQNWM"
      }
    },
    {
      "cell_type": "code",
      "source": [
        "def tanh(x):\n",
        "    return np.tanh(x)\n",
        "\n",
        "x = np.linspace(-10, 10, 400)\n",
        "y = tanh(x)\n",
        "\n",
        "plot_func(x, y, r'$\\tanh(x)=\\frac{e^x - e^{-x}}{e^x + e^{-x}}$', 'Função Tangente Hiperbólica', r'$\\tanh(x)$')"
      ],
      "metadata": {
        "colab": {
          "base_uri": "https://localhost:8080/",
          "height": 565
        },
        "id": "h9dumwW_L_eN",
        "outputId": "fb60b1b2-ee0d-4280-9ad9-d497575e7f53"
      },
      "execution_count": 46,
      "outputs": [
        {
          "output_type": "display_data",
          "data": {
            "text/plain": [
              "<Figure size 800x600 with 1 Axes>"
            ],
            "image/png": "[encoded data removed]"
          },
          "metadata": {}
        }
      ]
    },
    {
      "cell_type": "markdown",
      "source": [
        "### **ReLU:**"
      ],
      "metadata": {
        "id": "4uBcXW3sSPv2"
      }
    },
    {
      "cell_type": "markdown",
      "source": [
        "É uma das funções de ativação mais utilizadas em redes neurais modernas, especialmente em arquiteturas profundas. Definida como:\n",
        "\n",
        "$$\n",
        "ReLU = max(0,x)\n",
        "$$\n",
        "\n",
        "Retorna zero para valores negativos e mantém os positivos, introduzindo não linearidade de forma eficiente. Sua simplicidade e baixo custo computacional a tornaram padrão em muitas aplicações. A seguir, é exibido o gráfico da função ReLU:"
      ],
      "metadata": {
        "id": "12VHvGVtSZna"
      }
    },
    {
      "cell_type": "code",
      "source": [
        "def relu(x):\n",
        "    return np.maximum(0, x)\n",
        "\n",
        "x = np.linspace(-10, 10, 400)\n",
        "y = relu(x)\n",
        "\n",
        "plot_func(x, y, r'$\\text{ReLU}(x)=\\max(0, x)$', 'Função ReLU', r'$\\text{ReLU}(x)$')"
      ],
      "metadata": {
        "colab": {
          "base_uri": "https://localhost:8080/",
          "height": 564
        },
        "id": "EIArYF3sS_cH",
        "outputId": "3f15dd3f-dd93-4cb5-9ba1-48f87b35f0b9"
      },
      "execution_count": 47,
      "outputs": [
        {
          "output_type": "display_data",
          "data": {
            "text/plain": [
              "<Figure size 800x600 with 1 Axes>"
            ],
            "image/png": "[encoded data removed]"
          },
          "metadata": {}
        }
      ]
    },
    {
      "cell_type": "markdown",
      "source": [
        "### **Softmax:**\n",
        "\n"
      ],
      "metadata": {
        "id": "WNvEdpsXOk6M"
      }
    },
    {
      "cell_type": "markdown",
      "source": [
        "É geralmente utilizada em tarefas de classificação multiclasse. Ela transforma um vetor de valores reais em uma distribuição de probabilidades, onde cada valor está entre 0 e 1 e a soma de todos é igual a 1. A fórmula é dada por:\n",
        "\n",
        "$$\n",
        "\\text{softmax}(z_i) = \\frac{e^{z_i}}{\\sum_{j=1}^{K} e^{z_j}}\n",
        "$$\n",
        "\n",
        "Particularmente usada na camada de saída de redes neurais classificadoras com múltiplas classes, permitindo interpretar os resultados como probabilidades associadas a cada classe. A seguir, é exibido o gráfico da função aplicada a um vetor de entrada com três elementos."
      ],
      "metadata": {
        "id": "S-PI0LmxRJkm"
      }
    },
    {
      "cell_type": "code",
      "source": [
        "def softmax(x):\n",
        "    e_x = np.exp(x - np.max(x))  # estabilidade numérica\n",
        "    return e_x / e_x.sum()\n",
        "\n",
        "x = np.array([1.0, 2.0, 3.0])\n",
        "y = softmax(x)\n",
        "\n",
        "plt.bar(range(len(y)), y)\n",
        "plt.title('Função Softmax')\n",
        "plt.xlabel('Índice da Classe')\n",
        "plt.ylabel('Probabilidade')\n",
        "plt.xticks(range(len(y)))\n",
        "plt.grid(True, axis='y')\n",
        "plt.show()"
      ],
      "metadata": {
        "colab": {
          "base_uri": "https://localhost:8080/",
          "height": 472
        },
        "id": "qQKZiVxCRwWA",
        "outputId": "26dc7c77-c323-4cf2-a459-99eee4d37d5b"
      },
      "execution_count": 48,
      "outputs": [
        {
          "output_type": "display_data",
          "data": {
            "text/plain": [
              "<Figure size 640x480 with 1 Axes>"
            ],
            "image/png": "[encoded data removed]"
          },
          "metadata": {}
        }
      ]
    },
    {
      "cell_type": "markdown",
      "source": [
        "## **Implementação e Visualização de uma Rede Neural MLP**\n",
        "\n"
      ],
      "metadata": {
        "id": "z7Ym8pXSkWYh"
      }
    },
    {
      "cell_type": "markdown",
      "source": [
        "### **1. Definição da Arquitetura da Rede**"
      ],
      "metadata": {
        "id": "Md8jNDEjatjn"
      }
    },
    {
      "cell_type": "markdown",
      "source": [
        "Vamos construir uma rede neural do tipo MLP com finalidade estritamente didática, a fim de compreender sua estrutura básica e seu funcionamento. Para isso, utilizaremos a função sigmoide como ativação nas camadas e adotaremos as seguintes configurações:\n",
        "\n",
        "\n",
        "\n",
        "\n",
        "\n",
        "\n",
        "\n",
        "\n"
      ],
      "metadata": {
        "id": "WXaG-rk_mA3Y"
      }
    },
    {
      "cell_type": "code",
      "source": [
        "input_dim = 3    # Número de neurônios na camada de entrada\n",
        "hidden_dim = 2   # Número de neurônios na camada oculta\n",
        "output_dim = 1   # Número de neurônios na camada de saída"
      ],
      "metadata": {
        "id": "kcqn8FW7azkO"
      },
      "execution_count": 49,
      "outputs": []
    },
    {
      "cell_type": "markdown",
      "source": [
        "Essa arquitetura é simples o suficiente para ser compreendida passo a passo, mas ainda assim ilustra conceitos fundamentais como:\n",
        "\n",
        "- Propagação direta (*forward* pass)\n",
        "- Aplicação de funções de ativação\n",
        "- Ajuste de pesos (com *backpropagation*)"
      ],
      "metadata": {
        "id": "WOihx9u1a20H"
      }
    },
    {
      "cell_type": "markdown",
      "source": [
        "### **2. Inicialização de Pesos e Bias**\n",
        "\n"
      ],
      "metadata": {
        "id": "v-oKwtT3bkkz"
      }
    },
    {
      "cell_type": "markdown",
      "source": [
        "Para garantir reprodutibilidade dos resultados, utilizamos um valor fixo na semente do gerador de números aleatórios:"
      ],
      "metadata": {
        "id": "TgBKbU7em9Jt"
      }
    },
    {
      "cell_type": "code",
      "source": [
        "np.random.seed(42)  # Garante reprodutibilidade ao fixar a semente do gerador aleatório."
      ],
      "metadata": {
        "id": "uw5t93ymnAWr"
      },
      "execution_count": 50,
      "outputs": []
    },
    {
      "cell_type": "markdown",
      "source": [
        "> O número $42$ em np.random.seed(42) é tecnicamente arbitrário, mas tornou-se popular entre programadores por ser uma referência ao livro O Guia do Mochileiro das Galáxias, onde 42 é a “resposta para a vida, o universo e tudo mais”.\n",
        "\n",
        "Em seguida, realizamos a inicialização aleatória dos pesos e dos biases, que são os parâmetros aprendidos pela rede durante o treinamento:"
      ],
      "metadata": {
        "id": "W4a2jJSRnCxj"
      }
    },
    {
      "cell_type": "code",
      "source": [
        "W1 = np.random.randn(input_dim, hidden_dim)  # Pesos da entrada para a camada oculta\n",
        "b1 = np.random.randn(hidden_dim)             # Bias da camada oculta\n",
        "W2 = np.random.randn(hidden_dim, output_dim) # Pesos da camada oculta para a saída\n",
        "b2 = np.random.randn(output_dim)             # Bias da camada de saída"
      ],
      "metadata": {
        "id": "x1FNme_abqmd"
      },
      "execution_count": 51,
      "outputs": []
    },
    {
      "cell_type": "markdown",
      "source": [
        "> Esses parâmetros são sorteados de forma aleatória, seguindo uma distribuição normal padrão — uma forma comum de distribuir números em torno de um centro. Nesse caso, o centro é o número zero (ou seja, a média é zero), e a maior parte dos valores estará próxima dele, com alguns mais distantes, positivos ou negativos. Isso garante que os parâmetros comecem equilibrados, sem favorecer um lado específico, o que ajuda a rede a aprender de forma mais estável e eficiente.\n",
        "\n",
        "\n",
        "\n",
        "\n",
        "\n",
        "\n",
        "\n",
        "\n",
        "\n",
        "\n",
        "\n",
        "\n",
        "\n",
        "\n",
        "\n",
        "\n",
        "\n",
        "\n",
        "\n",
        "\n"
      ],
      "metadata": {
        "id": "_Tn27xN5b3FY"
      }
    },
    {
      "cell_type": "markdown",
      "source": [
        "### **3. Visualização da Estrutura da Rede**"
      ],
      "metadata": {
        "id": "aUK39SuSfVFx"
      }
    },
    {
      "cell_type": "markdown",
      "source": [
        "A visualização a seguir representa a MLP como um grafo, com neurônios como nós e conexões como arestas direcionadas. Pesos e bias são indicados nos rótulos, facilitando a interpretação da estrutura e dos parâmetros iniciais da rede."
      ],
      "metadata": {
        "id": "YUuYYL0-oSsp"
      }
    },
    {
      "cell_type": "code",
      "source": [
        "import networkx as nx\n",
        "\n",
        "# Criação do grafo\n",
        "G = nx.DiGraph()\n",
        "\n",
        "# Nome dos neurônios (incluindo bias)\n",
        "input_nodes = [f'I{i+1}' for i in range(input_dim)]\n",
        "hidden_nodes = [f'H{i+1}' for i in range(hidden_dim)]\n",
        "output_nodes = [f'O{i+1}' for i in range(output_dim)]\n",
        "bias_hidden_nodes = ['BH']  # Bias para a camada oculta\n",
        "bias_output_nodes = ['BO']  # Bias para a camada de saída\n",
        "\n",
        "# Adiciona todos os nós\n",
        "G.add_nodes_from(input_nodes)\n",
        "G.add_nodes_from(hidden_nodes)\n",
        "G.add_nodes_from(output_nodes)\n",
        "G.add_nodes_from(bias_hidden_nodes)\n",
        "G.add_nodes_from(bias_output_nodes)\n",
        "\n",
        "# Dicionário para rótulos das arestas\n",
        "edge_labels = {}\n",
        "\n",
        "# Conexões da entrada para a camada oculta\n",
        "for i, inp in enumerate(input_nodes):\n",
        "    for j, hid in enumerate(hidden_nodes):\n",
        "        G.add_edge(inp, hid)\n",
        "        edge_labels[(inp, hid)] = f'{W1[i, j]:.2f}'\n",
        "\n",
        "# Conexões do bias da camada oculta\n",
        "for j, hid in enumerate(hidden_nodes):\n",
        "    G.add_edge(bias_hidden_nodes[0], hid)  # BH conecta a todos os neurônios ocultos\n",
        "    edge_labels[(bias_hidden_nodes[0], hid)] = f'{b1[j]:.2f}' # Rótulo é o valor do bias\n",
        "\n",
        "# Conexões da camada oculta para a saída\n",
        "for j, hid in enumerate(hidden_nodes):\n",
        "    for k, out in enumerate(output_nodes):\n",
        "        G.add_edge(hid, out)\n",
        "        edge_labels[(hid, out)] = f'{W2[j, k]:.2f}'\n",
        "\n",
        "# Conexões do bias da camada de saída\n",
        "for k, out in enumerate(output_nodes):\n",
        "    G.add_edge(bias_output_nodes[0], out) # BO conecta a todos neurônios de saída\n",
        "    edge_labels[(bias_output_nodes[0], out)] = f'{b2[k]:.2f}'\n",
        "\n",
        "# Define posições\n",
        "pos = {}\n",
        "# Posição dos nós de entrada\n",
        "for i, node in enumerate(input_nodes):\n",
        "    pos[node] = (0, i * 2)  # Espaçamento maior para acomodar os bias\n",
        "# Posição do bias da camada oculta\n",
        "pos[bias_hidden_nodes[0]] = (0.5, (len(input_nodes) * 2) -1 )   # Centralizado e um pouco abaixo da camada de entrada.\n",
        "# Posição dos nós ocultos\n",
        "for i, node in enumerate(hidden_nodes):\n",
        "    pos[node] = (1, i * 2)\n",
        "#Posição do bias da camada de saída\n",
        "pos[bias_output_nodes[0]] = (1.5, (len(hidden_nodes)*2) -1)  # Centralizado abaixo da camada oculta.\n",
        "# Posição dos nós de saída\n",
        "for i, node in enumerate(output_nodes):\n",
        "    pos[node] = (2, i * 2)\n",
        "\n",
        "# Desenha o grafo\n",
        "plt.figure(figsize=(6, 4))\n",
        "nx.draw(G, pos, with_labels=True, node_size=1500, node_color='lightblue', arrows=True, font_size=10)\n",
        "nx.draw_networkx_edge_labels(G, pos, label_pos=0.3, edge_labels=edge_labels, font_color='red', font_size=8)  #label_pos = 0.5\n",
        "plt.title('Diagrama MLP com Nós de Bias')\n",
        "plt.axis('off')\n",
        "plt.show()"
      ],
      "metadata": {
        "colab": {
          "base_uri": "https://localhost:8080/",
          "height": 459
        },
        "id": "PIrh_53yfhwe",
        "outputId": "34382298-abf3-44ee-8468-83b5b41e5572"
      },
      "execution_count": 52,
      "outputs": [
        {
          "output_type": "display_data",
          "data": {
            "text/plain": [
              "<Figure size 600x400 with 1 Axes>"
            ],
            "image/png": "[encoded data removed]"
          },
          "metadata": {}
        }
      ]
    },
    {
      "cell_type": "markdown",
      "source": [
        "## **Propagação**"
      ],
      "metadata": {
        "id": "hNcsksI8QC6V"
      }
    },
    {
      "cell_type": "markdown",
      "source": [
        "Durante a fase de propagação (*forward pass*), os dados percorrem a rede em uma única direção — da camada de entrada até a camada de saída. Em cada etapa, os neurônios realizam uma combinação dos sinais recebidos, ponderados pelos pesos, e aplicam uma função de ativação que introduz não-linearidade ao modelo. Esse processo permite que a rede transforme os dados brutos em representações cada vez mais abstratas e informativas, tornando-os mais adequados para tarefas como classificação, regressão, entre outras.\n",
        "\n",
        "\n",
        "\n",
        "\n",
        "\n",
        "\n",
        "\n",
        "\n"
      ],
      "metadata": {
        "id": "2ngEgsTyQKzK"
      }
    },
    {
      "cell_type": "markdown",
      "source": [
        "### **1. Exemplo de Entrada**"
      ],
      "metadata": {
        "id": "-_G28lH9gDjv"
      }
    },
    {
      "cell_type": "markdown",
      "source": [
        "Para simular a propagação de informações na MLP, será utilizada uma amostra de entrada representada pelo vetor x. Esse vetor contém três valores, correspondentes aos neurônios da camada de entrada:"
      ],
      "metadata": {
        "id": "Wgm5PPa5ptIX"
      }
    },
    {
      "cell_type": "code",
      "source": [
        "x = np.array([[0.5, -1.2, 0.3]])"
      ],
      "metadata": {
        "id": "Qoe9vHNmgjMC"
      },
      "execution_count": 53,
      "outputs": []
    },
    {
      "cell_type": "markdown",
      "source": [
        "A variável `x` é um array NumPy com uma linha e três colunas (`shape (1, 3)`), representando um único exemplo de entrada com três características. Em cenários com múltiplos exemplos, o array `x` apresentaria mais linhas, cada uma correspondendo a uma amostra distinta a ser processada simultaneamente pela rede."
      ],
      "metadata": {
        "id": "UO4WDc2_gk_s"
      }
    },
    {
      "cell_type": "markdown",
      "source": [
        "### **2. Propagação na Camada Oculta**"
      ],
      "metadata": {
        "id": "fPJ6AGzwqqtt"
      }
    },
    {
      "cell_type": "markdown",
      "source": [
        "Nesta etapa, o vetor de entrada é processado pela primeira camada da rede, a camada oculta. O fluxo ocorre em duas fases: uma combinação linear seguida da aplicação de uma função de ativação.\n",
        "\n",
        "- Calcula-se a ativação linear (`z₁`) por meio do produto entre os dados de entrada `x` e os pesos `W₁`, somado ao vetor de bias `b₁`.  \n",
        "- Em seguida, aplica-se a função sigmoide, gerando a saída da camada oculta (`a₁`)."
      ],
      "metadata": {
        "id": "Bw9_atBLqVaL"
      }
    },
    {
      "cell_type": "code",
      "source": [
        "z1 = np.dot(x, W1) + b1   # Cálculo linear (pré-ativação)\n",
        "a1 = sigmoid(z1)          # Ativação com sigmoide"
      ],
      "metadata": {
        "id": "l53T6BnphIKA"
      },
      "execution_count": 54,
      "outputs": []
    },
    {
      "cell_type": "markdown",
      "source": [
        "#### **Dados:**"
      ],
      "metadata": {
        "id": "1S_pdMwzoKlX"
      }
    },
    {
      "cell_type": "markdown",
      "source": [
        "- $x$ é o vetor de entrada:\n",
        "$$\n",
        "x = \\begin{bmatrix} 0.5 & -1.2 & 0.3 \\end{bmatrix}\n",
        "$$\n",
        "\n",
        "- $W_1$ é a matriz de pesos:\n",
        "\n",
        "$$\n",
        "W_1 =\n",
        "\\begin{bmatrix}\n",
        "0.49671415 & -0.1382643 \\\\\n",
        "0.64768854 & 1.52302986 \\\\\n",
        "-0.23415337 & -0.23413696\\\\\n",
        "\\end{bmatrix}\n",
        "$$\n",
        "\n",
        "- $b_1$ é o vetor de bias:\n",
        "\n",
        "$$\n",
        "b_1 = \\begin{bmatrix} 1.57921282 & 0.76743473 \\end{bmatrix}\n",
        "$$"
      ],
      "metadata": {
        "id": "Hy2bu7WtoBjX"
      }
    },
    {
      "cell_type": "markdown",
      "source": [
        "> **Nota:** Em $W_1$, cada coluna corresponde a um neurônio da camada oculta — a primeira coluna é do primeiro neurônio. Em $b_1$, cada elemento é o bias de um neurônio, sendo o primeiro valor referente ao primeiro neurônio."
      ],
      "metadata": {
        "id": "pFv-jJ_VWvWy"
      }
    },
    {
      "cell_type": "markdown",
      "source": [
        "#### **Cálculo da Ativação Linear:**"
      ],
      "metadata": {
        "id": "hrPRBkLdoU5K"
      }
    },
    {
      "cell_type": "markdown",
      "source": [
        "1. Para o primeiro neurônio:\n",
        "\n",
        "$$\n",
        "z_1^{(1)} = 0.5 \\times 0.49671415 + (-1.2) \\times 0.64768854 + 0.3 \\times (-0.23415337) + 1.57921282\n",
        "$$\n",
        "\n",
        "$$\n",
        "= 0.248357075 - 0.777226248 - 0.070246011 + 1.57921282\n",
        "$$\n",
        "\n",
        "$$\n",
        "\\approx 0.9801\n",
        "$$\n",
        "\n",
        "2. Para o segundo neurônio:\n",
        "\n",
        "$$\n",
        "z_1^{(2)} = 0.5 \\times (-0.1382643) + (-1.2) \\times 1.52302986 + 0.3 \\times (-0.23413696) + 0.76743473\n",
        "$$\n",
        "\n",
        "$$\n",
        "= -0.06913215 - 1.827635832 - 0.070241088 + 0.76743473\n",
        "$$\n",
        "\n",
        "$$\n",
        "\\approx -1.1996\n",
        "$$\n",
        "\n",
        "Resultado da propagação na camada oculta:\n",
        "\n",
        "$$\n",
        "z_1 \\approx \\begin{bmatrix} 0.9801 & -1.1996 \\end{bmatrix}\n",
        "$$\n",
        "\n",
        "A seguir, é exibido o resultado da ativação linear da primeira camada, calculado por meio da operação: `z1 = np.dot(x, W1) + b1`."
      ],
      "metadata": {
        "id": "Lvih4QoXmOcY"
      }
    },
    {
      "cell_type": "code",
      "source": [
        "z1"
      ],
      "metadata": {
        "colab": {
          "base_uri": "https://localhost:8080/"
        },
        "id": "cNOVOUqirmST",
        "outputId": "c5b3fcda-71ed-46f3-9887-46429132b3be"
      },
      "execution_count": 55,
      "outputs": [
        {
          "output_type": "execute_result",
          "data": {
            "text/plain": [
              "array([[ 0.98009763, -1.19957434]])"
            ]
          },
          "metadata": {},
          "execution_count": 55
        }
      ]
    },
    {
      "cell_type": "markdown",
      "source": [
        "#### **Aplicação da Função de Ativação:**\n"
      ],
      "metadata": {
        "id": "NQ3yt6ZSpB7a"
      }
    },
    {
      "cell_type": "markdown",
      "source": [
        "Após calcular $z_1$, aplicamos a função sigmoide para obter $a_1$:\n",
        "\n",
        "$$\n",
        "a_1 = σ(z_1) = [σ(0.9801), σ(-1.1996)] = [0.72712759, 0.23155095]\n",
        "$$\n",
        "\n",
        "A seguir, é exibido o resultado da aplicação da função de ativação na primeira camada, calculado por meio da operação: `a1 = sigmoid(z1)`."
      ],
      "metadata": {
        "id": "45k9rhZJplmt"
      }
    },
    {
      "cell_type": "code",
      "source": [
        "a1"
      ],
      "metadata": {
        "colab": {
          "base_uri": "https://localhost:8080/"
        },
        "id": "3Aa5grZtrpNW",
        "outputId": "cad5bcdb-3a03-4251-de64-d82bd4bafac0"
      },
      "execution_count": 56,
      "outputs": [
        {
          "output_type": "execute_result",
          "data": {
            "text/plain": [
              "array([[0.72712759, 0.23155095]])"
            ]
          },
          "metadata": {},
          "execution_count": 56
        }
      ]
    },
    {
      "cell_type": "markdown",
      "source": [
        "### **3. Propagação na Camada de Saída**"
      ],
      "metadata": {
        "id": "HsgZqv8wsYsR"
      }
    },
    {
      "cell_type": "markdown",
      "source": [
        "Nesta etapa, as ativações da camada oculta passam a servir como entrada para a camada de saída. O processamento também ocorre em duas fases: uma operação linear seguida pela aplicação de uma função de ativação.\n",
        "\n",
        "- Calcula-se a ativação linear (`z₂`) por meio do produto entre `a₁` (saída da camada oculta) e os pesos `W₂`, somado ao vetor de bias `b₂`.  \n",
        "- Em seguida, aplica-se a função de ativação sigmoide para obter a saída final da rede (`ŷ`)."
      ],
      "metadata": {
        "id": "QLaTSdqXsFgu"
      }
    },
    {
      "cell_type": "code",
      "source": [
        "z2 = np.dot(a1, W2) + b2    # Cálculo linear (pré-ativação)\n",
        "a2 = sigmoid(z2)            # Ativação com sigmoid"
      ],
      "metadata": {
        "id": "v5y7j6BUseJB"
      },
      "execution_count": 57,
      "outputs": []
    },
    {
      "cell_type": "markdown",
      "source": [
        "#### **Dados:**"
      ],
      "metadata": {
        "id": "lp5C7krVtvD0"
      }
    },
    {
      "cell_type": "markdown",
      "source": [
        "- $a_1 = [0.72712759, 0.23155095]$\n",
        "\n",
        "- $W_2 =\n",
        "\\begin{bmatrix}\n",
        "-0.46947439 \\\\\n",
        "0.54256004\n",
        "\\end{bmatrix}$\n",
        "\n",
        "- $b_2=-0.46341769$"
      ],
      "metadata": {
        "id": "ezahMOwWt7cv"
      }
    },
    {
      "cell_type": "markdown",
      "source": [
        "#### **Cálculo da Ativação Linear:**"
      ],
      "metadata": {
        "id": "aW99hxuyu8Zz"
      }
    },
    {
      "cell_type": "markdown",
      "source": [
        "$$\n",
        "z_2 = (0.72712759 \\times -0.46947439) + (0.23155095 \\times 0.54256004) + (-0.46341769)\n",
        "$$\n",
        "\n",
        "$$\n",
        "= \\approx -0.341001 + 0.125691 - 0.46341769\n",
        "$$\n",
        "\n",
        "$$\n",
        "\\approx -0.67872869\n",
        "$$\n",
        "\n",
        "A seguir, é exibido o resultado da ativação linear da segunda camada, calculado por meio da operação: `z2 = np.dot(a1, W2) + b2`."
      ],
      "metadata": {
        "id": "tWgNnTmhvBqB"
      }
    },
    {
      "cell_type": "code",
      "source": [
        "z2"
      ],
      "metadata": {
        "colab": {
          "base_uri": "https://localhost:8080/"
        },
        "id": "i2lWP2fbsUXb",
        "outputId": "91be9996-65fa-4cd9-d6c2-b3a0d5e017b8"
      },
      "execution_count": 58,
      "outputs": [
        {
          "output_type": "execute_result",
          "data": {
            "text/plain": [
              "array([[-0.67915518]])"
            ]
          },
          "metadata": {},
          "execution_count": 58
        }
      ]
    },
    {
      "cell_type": "markdown",
      "source": [
        "#### **Aplicação da Função de Ativação**"
      ],
      "metadata": {
        "id": "6YtdtDCTwTnF"
      }
    },
    {
      "cell_type": "markdown",
      "source": [
        "Após calcular $z_2$, aplicamos a função sigmoide para obter $a_2$:\n",
        "\n",
        "$$\n",
        "a_2 = σ(z_2) = [σ(-0.67872869)] \\approx [0.3364]\n",
        "$$\n",
        "\n",
        "A seguir, é exibido o resultado da aplicação da função de ativação na segunda camada, calculado por meio da operação: `a2 = sigmoid(z2)`."
      ],
      "metadata": {
        "id": "fCLBNXXnwl38"
      }
    },
    {
      "cell_type": "code",
      "source": [
        "a2"
      ],
      "metadata": {
        "colab": {
          "base_uri": "https://localhost:8080/"
        },
        "id": "dGS5zfWRsWuW",
        "outputId": "d5e62e64-2a1c-4db7-9dc2-3707eb0aeb73"
      },
      "execution_count": 59,
      "outputs": [
        {
          "output_type": "execute_result",
          "data": {
            "text/plain": [
              "array([[0.33644988]])"
            ]
          },
          "metadata": {},
          "execution_count": 59
        }
      ]
    },
    {
      "cell_type": "markdown",
      "source": [
        "## **Retropropagação**"
      ],
      "metadata": {
        "id": "4GgC00VjxwFV"
      }
    },
    {
      "cell_type": "markdown",
      "source": [
        "Agora que concluímos a fase de propagação direta (*forward pass*) e obtivemos as ativações ao longo das camadas, avançamos para a etapa de retropropagação (*backward pass*). Essa fase é responsável pelo ajuste dos pesos e dos bias da rede, com base na diferença entre a saída estimada ($\\hat{y}$ ou $a₂$) e o valor alvo ($y$). O objetivo é minimizar a função de custo por meio do algoritmo de gradiente descendente.\n",
        "\n",
        "> **Nota:** O gradiente descendente é um algoritmo de otimização utilizado para minimizar funções de custo. Ele atualiza iterativamente os parâmetros da rede (pesos e bias) na direção oposta ao gradiente da função de custo em relação a esses parâmetros. Isso porque o gradiente aponta para a direção de maior crescimento da função — ao seguir o sentido contrário, a rede se move em direção ao mínimo, reduzindo o erro da predição."
      ],
      "metadata": {
        "id": "SZ8wkdhSww4-"
      }
    },
    {
      "cell_type": "markdown",
      "source": [
        "### **1. Definição da Função de Custo**"
      ],
      "metadata": {
        "id": "QTnPP9UKxAVc"
      }
    },
    {
      "cell_type": "markdown",
      "source": [
        "Para este exemplo, utilizaremos a função de custo do Erro Quadrático Médio (MSE — Mean Squared Error), amplamente empregada em tarefas de regressão. Para um único exemplo, sua fórmula é dada por:\n",
        "\n",
        "\n",
        "\n",
        "$$\n",
        "C = \\frac{1}{2}(y - \\hat{y})^2\n",
        "$$\n",
        "\n",
        "onde:\n",
        "- $y$ é o valor alvo (verdadeiro),\n",
        "- $\\hat{y}$ é a previsão da rede.\n",
        "\n",
        "Suponhamos que o valor para $x = [0.5, -1.2, 0.3]$ seja $y=0.8$. Com base na propagação, obtivemos $\\hat{y} \\approx 0.3364$. Assim, o custo é:\n",
        "\n",
        "$$\n",
        "C = \\frac{1}{2}(0.8 - 0.3364)^2 = \\frac{1}{2}(0.4636)^2 \\approx 0.1074\n",
        "$$\n",
        "\n",
        "O objetivo é diminuir esse erro ajustando os pesos e os biases. Abaixo está a implementação correspondente para calcular o custo:"
      ],
      "metadata": {
        "id": "GIp1tCeWxIRp"
      }
    },
    {
      "cell_type": "code",
      "source": [
        "# Valores fornecidos\n",
        "y = 0.8            # Saída esperada (target)\n",
        "y_pred = a2        # Saída da rede (predição)\n",
        "\n",
        "# Cálculo do erro: diferença entre saída esperada e predita\n",
        "erro = y - y_pred\n",
        "\n",
        "# Cálculo da função de custo MSE para um único exemplo\n",
        "C = 0.5 * erro**2  # MSE = ½ * (erro)^2\n",
        "\n",
        "# Exibindo os resultados\n",
        "print(f\"Erro: {erro.item():.4f}\")\n",
        "print(f\"Custo (MSE): {C.item():.4f}\")\n"
      ],
      "metadata": {
        "colab": {
          "base_uri": "https://localhost:8080/"
        },
        "id": "Rk9w7cIRb4vj",
        "outputId": "0278067f-1de0-43f4-9f5f-8d62c41d70cd"
      },
      "execution_count": 60,
      "outputs": [
        {
          "output_type": "stream",
          "name": "stdout",
          "text": [
            "Erro: 0.4636\n",
            "Custo (MSE): 0.1074\n"
          ]
        }
      ]
    },
    {
      "cell_type": "markdown",
      "source": [
        "### **2. Cálculo dos Gradientes**"
      ],
      "metadata": {
        "id": "_sDXHhWTzERe"
      }
    },
    {
      "cell_type": "markdown",
      "source": [
        "Na retropropagação, os [gradientes](https://pt.wikipedia.org/wiki/Gradiente) são calculados usando a [regra da cadeia](https://pt.wikipedia.org/wiki/Regra_da_cadeia), propagando o erro da camada de saída de volta até a camada de entrada. Vamos calcular os gradientes para os pesos ($W_2, W_1$) e biases ($b_2, b_1$) em cada camada.\n",
        "\n",
        "> **Nota:** O gradiente indica a taxa de variação do erro em relação a cada peso. Um valor elevado de gradiente significa que pequenas alterações nesse peso provocam grandes mudanças no erro. Por isso, os pesos são atualizados na direção oposta ao gradiente — reduzindo o valor do erro —, o que dá origem ao nome \"descida do gradiente\"."
      ],
      "metadata": {
        "id": "FC_DcWaICFpy"
      }
    },
    {
      "cell_type": "markdown",
      "source": [
        "#### **Gradiente na Camada de Saída**"
      ],
      "metadata": {
        "id": "PuUVBsbUCGg_"
      }
    },
    {
      "cell_type": "markdown",
      "source": [
        "O primeiro passo é calcular o gradiente do erro em relação à saída da rede — mais especificamente, em relação à ativação linear da camada de saída ($z_2$). Esse gradiente, $𝛿_2$, expressa o quanto a função de custo varia em resposta a pequenas mudanças em $z_2$, sendo essencial para o ajuste dos pesos e bias dessa camada. Esse cálculo é feito aplicando a regra da cadeia, combinando duas derivadas parciais:\n",
        "\n",
        "$$\n",
        "\\delta_2 = \\frac{\\partial C}{\\partial z_2} = \\frac{\\partial C}{\\partial a_2} \\cdot \\frac{\\partial a_2}{\\partial z_2}\n",
        "$$\n",
        "\n",
        "Especificamente:\n",
        "\n",
        "- $\\frac{\\partial C}{\\partial a_2}$ mede quanto o erro muda em relação à saída prevista (ativação).\n",
        "- $\\frac{\\partial a_2}{\\partial z_2}$ mede como a ativação muda em relação à entrada linear antes da função de ativação.\n",
        "\n",
        "Multiplicando esses dois termos, obtemos o gradiente total $\\frac{\\partial C}{\\partial z_2}$, que informa como $z_2$ ​ afeta diretamente o custo."
      ],
      "metadata": {
        "id": "XG3I0kB0zHIq"
      }
    },
    {
      "cell_type": "markdown",
      "source": [
        "##### **Derivada do custo em relação à saída $\\frac{\\partial C}{\\partial a_2}$**"
      ],
      "metadata": {
        "id": "zl2pt488Cf3W"
      }
    },
    {
      "cell_type": "markdown",
      "source": [
        "Para isso, aplicamos a derivada da função em relação a $a_2$:\n",
        "\n",
        "$$\n",
        "\\frac{\\partial C}{\\partial a_2} = \\frac{\\partial}{\\partial a_2} \\left[ \\frac{1}{2}(y - a_2)^2 \\right]\n",
        "$$\n",
        "\n",
        "Utilizando a **regra da potência** e a derivada da composição:\n",
        "\n",
        "$$\n",
        "\\frac{1}{2} \\cdot 2(y - a_2) \\cdot (-1) = -(y - a_2)\n",
        "$$\n",
        "\n",
        "Portanto:\n",
        "$$\n",
        "\\frac{\\partial C}{\\partial a_2} = -(y - a_2)\n",
        "$$\n",
        "\n",
        "Esse resultado mostra que, se a saída da rede $a_2$ estiver abaixo do valor real $y$, o gradiente será positivo, e vice-versa. Essa informação será usada para ajustar os pesos da rede na direção correta, durante a retropropagação.\n",
        "\n",
        "Substituindo os valores: $y=0.8$ e $a_2 = 0.3364$, temos:\n",
        "$$\n",
        "\\frac{\\partial C}{\\partial a_2} = - (0.8 - 0.3364) = -0.4636\n",
        "$$\n",
        "\n",
        "Abaixo está a implementação correspondente:"
      ],
      "metadata": {
        "id": "fkC0zIFwCaAy"
      }
    },
    {
      "cell_type": "code",
      "source": [
        "# Gradiente do custo em relação à saída da rede (a2)\n",
        "grad = -(y - a2)  # ∂C/∂a₂ = -(y - a₂), derivada da função de custo MSE\n",
        "\n",
        "# Exibição do resultado\n",
        "print(f\"Gradiente ∂C/∂a₂: {grad.item():.4f}\")"
      ],
      "metadata": {
        "colab": {
          "base_uri": "https://localhost:8080/"
        },
        "id": "jqA5U6GIgeE3",
        "outputId": "2a6a7504-fbf0-4f24-ee07-47761bbb5e43"
      },
      "execution_count": 62,
      "outputs": [
        {
          "output_type": "stream",
          "name": "stdout",
          "text": [
            "Gradiente ∂C/∂a₂: -0.4636\n"
          ]
        }
      ]
    },
    {
      "cell_type": "markdown",
      "source": [
        "##### **Derivada da função sigmoide $\\frac{\\partial a_2}{\\partial z_2}$**"
      ],
      "metadata": {
        "id": "cC9j2gI5Cl5y"
      }
    },
    {
      "cell_type": "markdown",
      "source": [
        "A função sigmoide é dada por:\n",
        "\n",
        "$$\n",
        "\\sigma(z) = \\frac{1}{1 + e^{-z}}\n",
        "$$\n",
        "\n",
        "E sua derivada é:\n",
        "\n",
        "$$\n",
        "\\frac{\\partial \\sigma}{\\partial z} = \\sigma(z) \\cdot (1 - \\sigma(z))\n",
        "$$\n",
        "\n",
        "Para $z_2 \\approx -0.67872869$, temos:\n",
        "\n",
        "$$\n",
        "a_2 = \\sigma(z_2) \\approx 0.3364\n",
        "$$\n",
        "\n",
        "Então, a derivada da ativação em relação a $z_2$ é:\n",
        "\n",
        "$$\n",
        "\\frac{\\partial a_2}{\\partial z_2} = 0.3364 \\cdot (1 - 0.3364) = 0.3364 \\cdot 0.6636 \\approx 0.2232\n",
        "$$\n",
        "\n",
        "Abaixo está a implementação correspondente:"
      ],
      "metadata": {
        "id": "sjH91arzC7Rb"
      }
    },
    {
      "cell_type": "code",
      "source": [
        "# Derivada da função sigmoide a partir da sua saída\n",
        "def sigmoid_deriv(a):\n",
        "    \"\"\"Retorna a derivada da função sigmoide em função de sua saída.\"\"\"\n",
        "    return a * (1 - a)\n",
        "\n",
        "# Cálculo da derivada da ativação\n",
        "da2_dz2 = sigmoid_deriv(a2)\n",
        "\n",
        "# Exibição dos valores\n",
        "print(f\"a₂ = σ(z₂) = {a2.item():.4f}\")\n",
        "print(f\"∂a₂/∂z₂ = a₂ · (1 - a₂) = {a2.item():.4f} · (1 - {a2.item():.4f}) = {da2_dz2.item():.4f}\")"
      ],
      "metadata": {
        "colab": {
          "base_uri": "https://localhost:8080/"
        },
        "id": "-TdNrMF4hGI7",
        "outputId": "d5241553-9dc6-4afe-8675-83fd1dec837e"
      },
      "execution_count": 87,
      "outputs": [
        {
          "output_type": "stream",
          "name": "stdout",
          "text": [
            "a₂ = σ(z₂) = 0.3364\n",
            "∂a₂/∂z₂ = a₂ · (1 - a₂) = 0.3364 · (1 - 0.3364) = 0.2233\n"
          ]
        }
      ]
    },
    {
      "cell_type": "markdown",
      "source": [
        "##### **Cálculo de $\\delta_2$**"
      ],
      "metadata": {
        "id": "4uH-DAx5GeaQ"
      }
    },
    {
      "cell_type": "markdown",
      "source": [
        "O erro da camada de saída é dado por:\n",
        "\n",
        "$$\n",
        "\\delta_2 = \\frac{\\partial C}{\\partial a_2} \\cdot \\frac{\\partial a_2}{\\partial z_2}\n",
        "$$\n",
        "\n",
        "Substituindo os valores já calculados:\n",
        "\n",
        "$$\n",
        "\\delta_2 = (-0.4636) \\cdot (0.2232) \\approx -0.1035\n",
        "$$\n",
        "\n",
        "Abaixo está a implementação correspondente:"
      ],
      "metadata": {
        "id": "JOrgZdgKGedb"
      }
    },
    {
      "cell_type": "code",
      "source": [
        "# Erro da camada de saída\n",
        "delta2 = grad * da2_dz2\n",
        "\n",
        "# Exibindo o resultado\n",
        "print(f\"δ2 = ∂C/∂a2 · ∂a2/∂z2 = {grad.item():.4f} * {da2_dz2.item():.4f} = {delta2.item():.4f}\")"
      ],
      "metadata": {
        "colab": {
          "base_uri": "https://localhost:8080/"
        },
        "id": "qbCi5RCYLGQl",
        "outputId": "f1192884-bdc9-4b1a-c7f8-149c560ca616"
      },
      "execution_count": 64,
      "outputs": [
        {
          "output_type": "stream",
          "name": "stdout",
          "text": [
            "δ2 = ∂C/∂a2 · ∂a2/∂z2 = -0.4636 * 0.2233 = -0.1035\n"
          ]
        }
      ]
    },
    {
      "cell_type": "markdown",
      "source": [
        "Agora, usamos $\\delta_2$ para calcular os gradientes dos pesos e bias da camada de saída."
      ],
      "metadata": {
        "id": "aLBPqF82NUoQ"
      }
    },
    {
      "cell_type": "markdown",
      "source": [
        "##### **Gradiente de $W_2$**"
      ],
      "metadata": {
        "id": "9q1vxIceOl7t"
      }
    },
    {
      "cell_type": "markdown",
      "source": [
        "A derivada do custo em relação aos pesos da camada de saída é dada por:\n",
        "\n",
        "$$\n",
        "\\frac{\\partial C}{\\partial W_2} = a_1^\\top \\cdot \\delta_2\n",
        "$$\n",
        "\n",
        "Onde $a_1 = \\begin{bmatrix} 0.72712759 & 0.23155095 \\end{bmatrix}$ é a saída da camada oculta. Como $a_1$ é um vetor linha e $\\delta_2$ é um escalar (neste caso, temos uma única saída), o resultado da multiplicação é um vetor:\n",
        "\n",
        "$$\n",
        "\\frac{\\partial C}{\\partial W_2} =\n",
        "\\begin{bmatrix}\n",
        "0.72712759 \\\\\n",
        "0.23155095\n",
        "\\end{bmatrix}\n",
        "\\cdot (-0.1035)\n",
        "\\approx\n",
        "\\begin{bmatrix}\n",
        "-0.0753 \\\\\n",
        "-0.0240\n",
        "\\end{bmatrix}\n",
        "$$\n",
        "\n",
        "Abaixo está a implementação correspondente:"
      ],
      "metadata": {
        "id": "uCLwOijVO6PF"
      }
    },
    {
      "cell_type": "code",
      "source": [
        "# Gradiente da função de custo em relação aos pesos da camada de saída\n",
        "dC_dW2 = a1.T * delta2  # Produto entre a transposta de a1 (2×1) e δ₂ (escalar) → resultado (2×1)\n",
        "\n",
        "# Exibindo o resultado\n",
        "print(\"∂C/∂W₂ = a1ᵀ · δ₂ =\")\n",
        "print(dC_dW2)\n"
      ],
      "metadata": {
        "colab": {
          "base_uri": "https://localhost:8080/"
        },
        "id": "O6e9iy2rhwW0",
        "outputId": "5a1431e6-2e2a-4f39-af8f-77e4e6130db6"
      },
      "execution_count": 88,
      "outputs": [
        {
          "output_type": "stream",
          "name": "stdout",
          "text": [
            "∂C/∂W₂ = a1ᵀ · δ₂ =\n",
            "[[-0.07524912]\n",
            " [-0.02396279]]\n"
          ]
        }
      ]
    },
    {
      "cell_type": "markdown",
      "source": [
        "##### **Gradiente de $b_2$**"
      ],
      "metadata": {
        "id": "WjFPBRT1cF5o"
      }
    },
    {
      "cell_type": "markdown",
      "source": [
        "$$\n",
        "\\frac{\\partial C}{\\partial b_2} = \\delta_2 \\approx -0.1035\n",
        "$$"
      ],
      "metadata": {
        "id": "UmmHAnzTcIJa"
      }
    },
    {
      "cell_type": "markdown",
      "source": [
        "Abaixo está a implementação correspondente:"
      ],
      "metadata": {
        "id": "qbKWkscic5My"
      }
    },
    {
      "cell_type": "code",
      "source": [
        "# Gradiente do custo em relação ao bias da camada de saída\n",
        "db2 = delta2  # Como δ₂ é escalar, sua derivada em relação ao bias também é escalar\n",
        "\n",
        "# Exibindo o resultado\n",
        "print(f\"∂C/∂b₂ = δ₂ ≈ {db2.item():.4f}\")"
      ],
      "metadata": {
        "colab": {
          "base_uri": "https://localhost:8080/"
        },
        "id": "-lRJH5iBiEX9",
        "outputId": "afc6c76c-eca9-42c7-9990-378ca05f1706"
      },
      "execution_count": 90,
      "outputs": [
        {
          "output_type": "stream",
          "name": "stdout",
          "text": [
            "∂C/∂b₂ = δ₂ ≈ -0.1035\n"
          ]
        }
      ]
    },
    {
      "cell_type": "markdown",
      "source": [
        "#### **Gradiente na Camada Oculta**"
      ],
      "metadata": {
        "id": "IFNb2gxocStK"
      }
    },
    {
      "cell_type": "markdown",
      "source": [
        "Agora, propagamos o erro para a camada oculta, calculando $\\delta_1$:\n",
        "\n",
        "$$\n",
        "\\delta_1 = (\\delta_2 \\cdot W_2^\\top) \\cdot \\frac{\\partial a_1}{\\partial z_1}\n",
        "$$\n",
        "\n"
      ],
      "metadata": {
        "id": "3qPFMdP9cgSW"
      }
    },
    {
      "cell_type": "markdown",
      "source": [
        "##### **Propagação do erro ($\\delta_2 \\cdot W_2^\\top$)**"
      ],
      "metadata": {
        "id": "6z0OMuuBdTzg"
      }
    },
    {
      "cell_type": "markdown",
      "source": [
        "Se $W_2 = \\begin{bmatrix} -0.46947439 \\\\ 0.54256004 \\end{bmatrix}$, então sua transposta é:\n",
        "\n",
        "$$\n",
        "W_2^\\top = \\begin{bmatrix} -0.46947439 & 0.54256004 \\end{bmatrix}\n",
        "$$\n",
        "\n",
        "Multiplicamos por $\\delta_2 \\approx -0.1035$:\n",
        "\n",
        "$$\n",
        "\\delta_2 \\cdot W_2^\\top = -0.1035 \\cdot \\begin{bmatrix} -0.46947439 & 0.54256004 \\end{bmatrix} \\approx \\begin{bmatrix} 0.0486 & -0.0562 \\end{bmatrix}\n",
        "$$\n",
        "\n",
        "Abaixo está a implementação correspondente:"
      ],
      "metadata": {
        "id": "OkUGMcc5dmdA"
      }
    },
    {
      "cell_type": "code",
      "source": [
        "# --- Transposta de W2 (1x2) ---\n",
        "W2_T = W2.T  # Agora W2_T é 1x2\n",
        "\n",
        "# --- Multiplicação escalar com vetor linha ---\n",
        "delta_hidden_input = delta2 * W2_T\n",
        "\n",
        "# --- Exibindo o resultado ---\n",
        "print(\"W2^T:\", W2_T)\n",
        "print(\"δ2 ⋅ W2^T:\", delta_hidden_input)"
      ],
      "metadata": {
        "colab": {
          "base_uri": "https://localhost:8080/"
        },
        "id": "-ZsFhYw6eyux",
        "outputId": "08680a7b-6b0f-4110-a31b-4db72da331cf"
      },
      "execution_count": 67,
      "outputs": [
        {
          "output_type": "stream",
          "name": "stdout",
          "text": [
            "W2^T: [[-0.46947439  0.54256004]]\n",
            "δ2 ⋅ W2^T: [[ 0.04858506 -0.05614856]]\n"
          ]
        }
      ]
    },
    {
      "cell_type": "markdown",
      "source": [
        "##### **Derivada da função sigmoide na camada oculta**  $\\left( \\frac{\\partial a_1}{\\partial z_1} \\right)$"
      ],
      "metadata": {
        "id": "r8Pt-K95fZ_f"
      }
    },
    {
      "cell_type": "markdown",
      "source": [
        "Para $a_1 = \\begin{bmatrix} 0.72712759 & 0.23155095 \\end{bmatrix}$, temos:\n",
        "\n",
        "$$\n",
        "\\frac{\\partial a_1}{\\partial z_1} =\n",
        "\\begin{bmatrix}\n",
        "0.72712759 \\cdot (1 - 0.72712759) &\n",
        "0.23155095 \\cdot (1 - 0.23155095)\n",
        "\\end{bmatrix}\n",
        "\\approx\n",
        "\\begin{bmatrix}\n",
        "0.1985 &\n",
        "0.1779\n",
        "\\end{bmatrix}\n",
        "$$\n",
        "\n",
        "Abaixo está a implementação correspondente:"
      ],
      "metadata": {
        "id": "ef89qTwnfVl5"
      }
    },
    {
      "cell_type": "code",
      "source": [
        "# Derivada da sigmoide: a * (1 - a)\n",
        "da1_dz1 = a1 * (1 - a1)\n",
        "\n",
        "print(da1_dz1)"
      ],
      "metadata": {
        "colab": {
          "base_uri": "https://localhost:8080/"
        },
        "id": "AzG4GAmigTlC",
        "outputId": "5062a421-6916-4e3f-e8a7-823d523e5ebd"
      },
      "execution_count": 68,
      "outputs": [
        {
          "output_type": "stream",
          "name": "stdout",
          "text": [
            "[[0.19841306 0.17793511]]\n"
          ]
        }
      ]
    },
    {
      "cell_type": "markdown",
      "source": [
        "##### **Cálculo de $\\delta_1$**"
      ],
      "metadata": {
        "id": "WqJHIdkcg99E"
      }
    },
    {
      "cell_type": "markdown",
      "source": [
        "$$\n",
        "\\delta_1 =\n",
        "\\begin{bmatrix}\n",
        "0.0486 \\cdot 0.1985 &\n",
        "-0.0562 \\cdot 0.1779\n",
        "\\end{bmatrix}\n",
        "\\approx\n",
        "\\begin{bmatrix}\n",
        "0.0096 &\n",
        "-0.0100\n",
        "\\end{bmatrix}\n",
        "$$"
      ],
      "metadata": {
        "id": "WZ2aGAi0hFC9"
      }
    },
    {
      "cell_type": "markdown",
      "source": [
        "Abaixo está a implementação correspondente:"
      ],
      "metadata": {
        "id": "lB0lkqIvh1Q4"
      }
    },
    {
      "cell_type": "code",
      "source": [
        "# --- Erro da camada escondida ---\n",
        "delta1 = delta_hidden_input * da1_dz1\n",
        "\n",
        "# --- Exibindo o resultado ---\n",
        "print(f\"δ1 = (δ2 · W2ᵀ) * ∂a1/∂z1 = {delta_hidden_input} * {da1_dz1} = {delta1}\")"
      ],
      "metadata": {
        "colab": {
          "base_uri": "https://localhost:8080/"
        },
        "id": "4GXGap8eizM-",
        "outputId": "de01be9f-3557-493a-c26c-7a2207f68c75"
      },
      "execution_count": 69,
      "outputs": [
        {
          "output_type": "stream",
          "name": "stdout",
          "text": [
            "δ1 = (δ2 · W2ᵀ) * ∂a1/∂z1 = [[ 0.04858506 -0.05614856]] * [[0.19841306 0.17793511]] = [[ 0.00963991 -0.0099908 ]]\n"
          ]
        }
      ]
    },
    {
      "cell_type": "markdown",
      "source": [
        "##### **Gradiente de $W_1$**"
      ],
      "metadata": {
        "id": "_39YoxesjARX"
      }
    },
    {
      "cell_type": "markdown",
      "source": [
        "O gradiente em relação aos pesos da primeira camada é:\n",
        "\n",
        "$$\n",
        "\\frac{\\partial C}{\\partial W_1} = x^\\top \\cdot \\delta_1 =\n",
        "\\begin{bmatrix}\n",
        "0.5 \\\\\n",
        "-1.2 \\\\\n",
        "0.3\n",
        "\\end{bmatrix}\n",
        "\\cdot\n",
        "\\begin{bmatrix}\n",
        "0.0096 & -0.0100\n",
        "\\end{bmatrix}\n",
        "\\approx\n",
        "\\begin{bmatrix}\n",
        "0.0048 & -0.0050 \\\\\n",
        "-0.0115 & 0.0120 \\\\\n",
        "0.0029 & -0.0030\n",
        "\\end{bmatrix}\n",
        "$$\n",
        "\n",
        "Abaixo está a implementação correspondente:"
      ],
      "metadata": {
        "id": "n2mhl1a7jJ83"
      }
    },
    {
      "cell_type": "code",
      "source": [
        "# Cálculo do gradiente: ∂C/∂W1 = x^T ⋅ δ1\n",
        "grad_W1 = np.dot(x.T, delta1)\n",
        "\n",
        "# Exibindo o resultado\n",
        "print(\"Gradiente ∂C/∂W1:\")\n",
        "print(grad_W1)"
      ],
      "metadata": {
        "colab": {
          "base_uri": "https://localhost:8080/"
        },
        "id": "iTu5sVf_jlL-",
        "outputId": "816d818d-1bfe-48d3-bd22-56d5e6a10452"
      },
      "execution_count": 70,
      "outputs": [
        {
          "output_type": "stream",
          "name": "stdout",
          "text": [
            "Gradiente ∂C/∂W1:\n",
            "[[ 0.00481995 -0.0049954 ]\n",
            " [-0.01156789  0.01198896]\n",
            " [ 0.00289197 -0.00299724]]\n"
          ]
        }
      ]
    },
    {
      "cell_type": "markdown",
      "source": [
        "##### **Gradiente de $b_1$**"
      ],
      "metadata": {
        "id": "TrpjlRc_j8y_"
      }
    },
    {
      "cell_type": "markdown",
      "source": [
        "O gradiente em relação ao vetor de bias da primeira camada é dado por:\n",
        "\n",
        "$$\n",
        "\\frac{\\partial C}{\\partial b_1} = \\delta_1 \\approx \\begin{bmatrix} 0.0096 & -0.0100 \\end{bmatrix}\n",
        "$$\n",
        "\n",
        "Abaixo está a implementação correspondente:"
      ],
      "metadata": {
        "id": "ZlemKLBhkJUT"
      }
    },
    {
      "cell_type": "code",
      "source": [
        "# --- Derivada do custo em relação ao bias da camada oculta ---\n",
        "db1 = delta1\n",
        "\n",
        "# --- Exibindo o resultado ---\n",
        "print(f\"∂C/∂b1 = δ1 ≈ {db1}\")"
      ],
      "metadata": {
        "colab": {
          "base_uri": "https://localhost:8080/"
        },
        "id": "BVmuK5bkkPI2",
        "outputId": "368b4162-71db-4f27-ff07-3bbc62118bb4"
      },
      "execution_count": 71,
      "outputs": [
        {
          "output_type": "stream",
          "name": "stdout",
          "text": [
            "∂C/∂b1 = δ1 ≈ [[ 0.00963991 -0.0099908 ]]\n"
          ]
        }
      ]
    },
    {
      "cell_type": "markdown",
      "source": [
        "### **3. Atualização dos Parâmetros**"
      ],
      "metadata": {
        "id": "KJkHZYC9k-AQ"
      }
    },
    {
      "cell_type": "markdown",
      "source": [
        "Com os gradientes calculados, atualizamos os pesos e biases usando a taxa de aprendizado $\\eta$. Suponha $\\eta = 0.1$:"
      ],
      "metadata": {
        "id": "yh752DUBq_mn"
      }
    },
    {
      "cell_type": "markdown",
      "source": [
        "$$\n",
        "W_2 = W_2 - \\eta \\cdot \\frac{\\partial C}{\\partial W_2}\n",
        "\\approx\n",
        "\\begin{bmatrix}\n",
        "-0.4695 \\\\\n",
        "0.5426\n",
        "\\end{bmatrix}\n",
        "- 0.1 \\cdot\n",
        "\\begin{bmatrix}\n",
        "-0.0753 \\\\\n",
        "-0.0240\n",
        "\\end{bmatrix}\n",
        "\\approx\n",
        "\\begin{bmatrix}\n",
        "-0.4619 \\\\\n",
        "0.5450\n",
        "\\end{bmatrix}\n",
        "$$\n",
        "\n",
        "$$\n",
        "b_2 = b_2 - \\eta \\cdot \\frac{\\partial C}{\\partial b_2}\n",
        "\\approx\n",
        "-0.4634 - 0.1 \\cdot (-0.1035)\n",
        "\\approx\n",
        "-0.4531\n",
        "$$"
      ],
      "metadata": {
        "id": "joQM7d28rAZo"
      }
    },
    {
      "cell_type": "markdown",
      "source": [
        "$$\n",
        "W_1 = W_1 - \\eta \\cdot \\frac{\\partial C}{\\partial W_1}\n",
        "\\approx\n",
        "\\begin{bmatrix}\n",
        "0.4967 & -0.1383 \\\\\n",
        "0.6477 & 1.5230 \\\\\n",
        "-0.2342 & -0.2341\n",
        "\\end{bmatrix}\n",
        "- 0.1 \\cdot\n",
        "\\begin{bmatrix}\n",
        "0.0048 & -0.0050 \\\\\n",
        "-0.0115 & 0.0120 \\\\\n",
        "0.0029 & -0.0030\n",
        "\\end{bmatrix}\n",
        "\\approx\n",
        "\\begin{bmatrix}\n",
        "0.4962 & -0.1378 \\\\\n",
        "0.6488 & 1.5218 \\\\\n",
        "-0.2344 & -0.2338\n",
        "\\end{bmatrix}\n",
        "$$\n",
        "\n",
        "$$\n",
        "b_1 = b_1 - \\eta \\cdot \\frac{\\partial C}{\\partial b_1}\n",
        "\\approx\n",
        "\\begin{bmatrix} 1.5792 & 0.7674 \\end{bmatrix} - 0.1 \\cdot \\begin{bmatrix} 0.0096 & -0.0100 \\end{bmatrix}\n",
        "\\approx\n",
        "\\begin{bmatrix} 1.5782 & 0.7684 \\end{bmatrix}\n",
        "$$"
      ],
      "metadata": {
        "id": "97QgCgJdq3ur"
      }
    },
    {
      "cell_type": "markdown",
      "source": [
        "Esse processo é repetido por várias iterações até que o erro convirja. Abaixo está a implementação correspondente:"
      ],
      "metadata": {
        "id": "w6q6Wls6rLSo"
      }
    },
    {
      "cell_type": "code",
      "source": [
        "# Taxa de aprendizado\n",
        "learning_rate = 0.1\n",
        "\n",
        "# Atualizações\n",
        "W2 = W2 - learning_rate * dC_dW2\n",
        "b2 = b2 - learning_rate * db2\n",
        "W1 = W1 - learning_rate * grad_W1\n",
        "b1 = b1 - learning_rate * db1\n",
        "\n",
        "# Impressão dos resultados com 4 casas decimais\n",
        "print(\"W2 atualizado:\\n\", W2)\n",
        "print(\"\\nb2 atualizado:\\n\", b2)\n",
        "print(\"\\nW1 atualizado:\\n\", W1)\n",
        "print(\"\\nb1 atualizado:\\n\", b1)"
      ],
      "metadata": {
        "colab": {
          "base_uri": "https://localhost:8080/"
        },
        "id": "AvgpTA7No_r-",
        "outputId": "16f684f9-81a5-44e2-9a54-e30f0fd62e4e"
      },
      "execution_count": 72,
      "outputs": [
        {
          "output_type": "stream",
          "name": "stdout",
          "text": [
            "W2 atualizado:\n",
            " [[-0.46194947]\n",
            " [ 0.54495632]]\n",
            "\n",
            "b2 atualizado:\n",
            " [[-0.45306887]]\n",
            "\n",
            "W1 atualizado:\n",
            " [[ 0.49623216 -0.13776476]\n",
            " [ 0.64884533  1.52183096]\n",
            " [-0.23444257 -0.23383723]]\n",
            "\n",
            "b1 atualizado:\n",
            " [[1.57824882 0.76843381]]\n"
          ]
        }
      ]
    },
    {
      "cell_type": "markdown",
      "source": [
        "## **Implementação com Scikit-Learn, TensorFlow/Keras e PyTorch**\n"
      ],
      "metadata": {
        "id": "k5tECRuhprQA"
      }
    },
    {
      "cell_type": "markdown",
      "source": [
        "| **Característica**           | **Scikit-Learn**                                              | **TensorFlow / Keras**                                             | **PyTorch**                                                      |\n",
        "|------------------------------|---------------------------------------------------------------|--------------------------------------------------------------------|------------------------------------------------------------------|\n",
        "| **Foco Principal**           | Machine learning tradicional e algoritmos clássicos           | Deep learning e computação numérica                                | Deep learning com ênfase em pesquisa e prototipagem dinâmica       |\n",
        "| **Nível de Abstração**       | Alto – interface simples e intuitiva                          | Médio/Alto – API de alto nível (Keras) simplifica a criação         | Médio – abordagem define-by-run que permite maior flexibilidade    |\n",
        "| **Facilidade de Uso**        | Muito fácil – ideal para iniciantes e protótipos rápidos       | Fácil (com Keras), mas pode ser mais complexo em projetos avançados   | Requer mais conhecimento técnico, mas oferece maior controle       |\n",
        "| **Desempenho**               | Eficiente para problemas de pequena e média escala             | Altamente otimizado para modelos complexos com suporte a GPU         | Excelente desempenho, especialmente em experimentos e pesquisas     |\n",
        "| **Suporte a GPUs**           | Limitado – não é o foco principal                              | Robusto – integração nativa com GPUs via TensorFlow                   | Nativo – excelente integração com GPUs para treinamento acelerado    |\n",
        "| **Comunidade e Ecossistema** | Ampla e consolidada com muitas integrações em Python             | Grande, com vasta documentação, ferramentas e bibliotecas associadas | Crescente, especialmente em comunidades acadêmicas e de pesquisa       |\n"
      ],
      "metadata": {
        "id": "5t141Uwbq7fS"
      }
    },
    {
      "cell_type": "markdown",
      "source": [
        "### **Scikit-Learn**"
      ],
      "metadata": {
        "id": "AvaquHhenWxc"
      }
    },
    {
      "cell_type": "markdown",
      "source": [
        "Scikit-learn é uma biblioteca de machine learning em Python, conhecida pela sua simplicidade e eficiência. Ela oferece diversas ferramentas para análise de dados e modelos preditivos, incluindo algoritmos para redes neurais."
      ],
      "metadata": {
        "id": "IzlT5h90nfQo"
      }
    },
    {
      "cell_type": "markdown",
      "source": [
        "#### **1. Importação das Bibliotecas**"
      ],
      "metadata": {
        "id": "kuZr9S57n20h"
      }
    },
    {
      "cell_type": "code",
      "source": [
        "from sklearn.neural_network import MLPClassifier\n",
        "from sklearn.datasets import make_classification"
      ],
      "metadata": {
        "id": "_ZH6A0mVn998"
      },
      "execution_count": 73,
      "outputs": []
    },
    {
      "cell_type": "markdown",
      "source": [
        "- **MLPClassifier:** Implementa uma rede neural (MLP) para classificação.\n",
        "\n",
        "- **make_classification:** Gera conjuntos de dados sintéticos para classificação."
      ],
      "metadata": {
        "id": "f6kZNRlloCcB"
      }
    },
    {
      "cell_type": "markdown",
      "source": [
        "#### **2. Geração e Divisão dos Dados**"
      ],
      "metadata": {
        "id": "x25YDJNmoLRk"
      }
    },
    {
      "cell_type": "code",
      "source": [
        "# Gerando dados: 100 amostras, 4 features, 3 classes\n",
        "X, y = make_classification(n_samples=100,\n",
        "                           n_features=4,\n",
        "                           n_informative=3,\n",
        "                           n_redundant=0,\n",
        "                           n_classes=3,\n",
        "                           random_state=42)"
      ],
      "metadata": {
        "id": "NQI1bnxfoQDk"
      },
      "execution_count": 74,
      "outputs": []
    },
    {
      "cell_type": "markdown",
      "source": [
        "- **X:** Matriz de 100 amostras com 4 features.\n",
        "\n",
        "- **y:** Vetor de 100 rótulos para 3 classes."
      ],
      "metadata": {
        "id": "nqRt_25jobT9"
      }
    },
    {
      "cell_type": "markdown",
      "source": [
        "#### **3. Definição e Treinamento do Modelo MLP**"
      ],
      "metadata": {
        "id": "EEBY_7gpogrk"
      }
    },
    {
      "cell_type": "code",
      "source": [
        "# Definindo o modelo MLP com uma camada oculta de 10 neurônios\n",
        "mlp = MLPClassifier(hidden_layer_sizes=(10,),\n",
        "                    activation='relu',\n",
        "                    solver='adam',\n",
        "                    max_iter=200)\n",
        "\n",
        "# Treinando o modelo\n",
        "mlp.fit(X, y)"
      ],
      "metadata": {
        "colab": {
          "base_uri": "https://localhost:8080/",
          "height": 135
        },
        "id": "FxUSoWomojfe",
        "outputId": "d89f9e84-6298-4ad3-ac92-13e0e47390c9"
      },
      "execution_count": 75,
      "outputs": [
        {
          "output_type": "stream",
          "name": "stderr",
          "text": [
            "/usr/local/lib/python3.11/dist-packages/sklearn/neural_network/_multilayer_perceptron.py:691: ConvergenceWarning: Stochastic Optimizer: Maximum iterations (200) reached and the optimization hasn't converged yet.\n",
            "  warnings.warn(\n"
          ]
        },
        {
          "output_type": "execute_result",
          "data": {
            "text/plain": [
              "MLPClassifier(hidden_layer_sizes=(10,))"
            ],
            "text/html": [
              "<style>#sk-container-id-2 {\n",
              "  /* Definition of color scheme common for light and dark mode */\n",
              "  --sklearn-color-text: #000;\n",
              "  --sklearn-color-text-muted: #666;\n",
              "  --sklearn-color-line: gray;\n",
              "  /* Definition of color scheme for unfitted estimators */\n",
              "  --sklearn-color-unfitted-level-0: #fff5e6;\n",
              "  --sklearn-color-unfitted-level-1: #f6e4d2;\n",
              "  --sklearn-color-unfitted-level-2: #ffe0b3;\n",
              "  --sklearn-color-unfitted-level-3: chocolate;\n",
              "  /* Definition of color scheme for fitted estimators */\n",
              "  --sklearn-color-fitted-level-0: #f0f8ff;\n",
              "  --sklearn-color-fitted-level-1: #d4ebff;\n",
              "  --sklearn-color-fitted-level-2: #b3dbfd;\n",
              "  --sklearn-color-fitted-level-3: cornflowerblue;\n",
              "\n",
              "  /* Specific color for light theme */\n",
              "  --sklearn-color-text-on-default-background: var(--sg-text-color, var(--theme-code-foreground, var(--jp-content-font-color1, black)));\n",
              "  --sklearn-color-background: var(--sg-background-color, var(--theme-background, var(--jp-layout-color0, white)));\n",
              "  --sklearn-color-border-box: var(--sg-text-color, var(--theme-code-foreground, var(--jp-content-font-color1, black)));\n",
              "  --sklearn-color-icon: #696969;\n",
              "\n",
              "  @media (prefers-color-scheme: dark) {\n",
              "    /* Redefinition of color scheme for dark theme */\n",
              "    --sklearn-color-text-on-default-background: var(--sg-text-color, var(--theme-code-foreground, var(--jp-content-font-color1, white)));\n",
              "    --sklearn-color-background: var(--sg-background-color, var(--theme-background, var(--jp-layout-color0, #111)));\n",
              "    --sklearn-color-border-box: var(--sg-text-color, var(--theme-code-foreground, var(--jp-content-font-color1, white)));\n",
              "    --sklearn-color-icon: #878787;\n",
              "  }\n",
              "}\n",
              "\n",
              "#sk-container-id-2 {\n",
              "  color: var(--sklearn-color-text);\n",
              "}\n",
              "\n",
              "#sk-container-id-2 pre {\n",
              "  padding: 0;\n",
              "}\n",
              "\n",
              "#sk-container-id-2 input.sk-hidden--visually {\n",
              "  border: 0;\n",
              "  clip: rect(1px 1px 1px 1px);\n",
              "  clip: rect(1px, 1px, 1px, 1px);\n",
              "  height: 1px;\n",
              "  margin: -1px;\n",
              "  overflow: hidden;\n",
              "  padding: 0;\n",
              "  position: absolute;\n",
              "  width: 1px;\n",
              "}\n",
              "\n",
              "#sk-container-id-2 div.sk-dashed-wrapped {\n",
              "  border: 1px dashed var(--sklearn-color-line);\n",
              "  margin: 0 0.4em 0.5em 0.4em;\n",
              "  box-sizing: border-box;\n",
              "  padding-bottom: 0.4em;\n",
              "  background-color: var(--sklearn-color-background);\n",
              "}\n",
              "\n",
              "#sk-container-id-2 div.sk-container {\n",
              "  /* jupyter's `normalize.less` sets `[hidden] { display: none; }`\n",
              "     but bootstrap.min.css set `[hidden] { display: none !important; }`\n",
              "     so we also need the `!important` here to be able to override the\n",
              "     default hidden behavior on the sphinx rendered scikit-learn.org.\n",
              "     See: https://github.com/scikit-learn/scikit-learn/issues/21755 */\n",
              "  display: inline-block !important;\n",
              "  position: relative;\n",
              "}\n",
              "\n",
              "#sk-container-id-2 div.sk-text-repr-fallback {\n",
              "  display: none;\n",
              "}\n",
              "\n",
              "div.sk-parallel-item,\n",
              "div.sk-serial,\n",
              "div.sk-item {\n",
              "  /* draw centered vertical line to link estimators */\n",
              "  background-image: linear-gradient(var(--sklearn-color-text-on-default-background), var(--sklearn-color-text-on-default-background));\n",
              "  background-size: 2px 100%;\n",
              "  background-repeat: no-repeat;\n",
              "  background-position: center center;\n",
              "}\n",
              "\n",
              "/* Parallel-specific style estimator block */\n",
              "\n",
              "#sk-container-id-2 div.sk-parallel-item::after {\n",
              "  content: \"\";\n",
              "  width: 100%;\n",
              "  border-bottom: 2px solid var(--sklearn-color-text-on-default-background);\n",
              "  flex-grow: 1;\n",
              "}\n",
              "\n",
              "#sk-container-id-2 div.sk-parallel {\n",
              "  display: flex;\n",
              "  align-items: stretch;\n",
              "  justify-content: center;\n",
              "  background-color: var(--sklearn-color-background);\n",
              "  position: relative;\n",
              "}\n",
              "\n",
              "#sk-container-id-2 div.sk-parallel-item {\n",
              "  display: flex;\n",
              "  flex-direction: column;\n",
              "}\n",
              "\n",
              "#sk-container-id-2 div.sk-parallel-item:first-child::after {\n",
              "  align-self: flex-end;\n",
              "  width: 50%;\n",
              "}\n",
              "\n",
              "#sk-container-id-2 div.sk-parallel-item:last-child::after {\n",
              "  align-self: flex-start;\n",
              "  width: 50%;\n",
              "}\n",
              "\n",
              "#sk-container-id-2 div.sk-parallel-item:only-child::after {\n",
              "  width: 0;\n",
              "}\n",
              "\n",
              "/* Serial-specific style estimator block */\n",
              "\n",
              "#sk-container-id-2 div.sk-serial {\n",
              "  display: flex;\n",
              "  flex-direction: column;\n",
              "  align-items: center;\n",
              "  background-color: var(--sklearn-color-background);\n",
              "  padding-right: 1em;\n",
              "  padding-left: 1em;\n",
              "}\n",
              "\n",
              "\n",
              "/* Toggleable style: style used for estimator/Pipeline/ColumnTransformer box that is\n",
              "clickable and can be expanded/collapsed.\n",
              "- Pipeline and ColumnTransformer use this feature and define the default style\n",
              "- Estimators will overwrite some part of the style using the `sk-estimator` class\n",
              "*/\n",
              "\n",
              "/* Pipeline and ColumnTransformer style (default) */\n",
              "\n",
              "#sk-container-id-2 div.sk-toggleable {\n",
              "  /* Default theme specific background. It is overwritten whether we have a\n",
              "  specific estimator or a Pipeline/ColumnTransformer */\n",
              "  background-color: var(--sklearn-color-background);\n",
              "}\n",
              "\n",
              "/* Toggleable label */\n",
              "#sk-container-id-2 label.sk-toggleable__label {\n",
              "  cursor: pointer;\n",
              "  display: flex;\n",
              "  width: 100%;\n",
              "  margin-bottom: 0;\n",
              "  padding: 0.5em;\n",
              "  box-sizing: border-box;\n",
              "  text-align: center;\n",
              "  align-items: start;\n",
              "  justify-content: space-between;\n",
              "  gap: 0.5em;\n",
              "}\n",
              "\n",
              "#sk-container-id-2 label.sk-toggleable__label .caption {\n",
              "  font-size: 0.6rem;\n",
              "  font-weight: lighter;\n",
              "  color: var(--sklearn-color-text-muted);\n",
              "}\n",
              "\n",
              "#sk-container-id-2 label.sk-toggleable__label-arrow:before {\n",
              "  /* Arrow on the left of the label */\n",
              "  content: \"▸\";\n",
              "  float: left;\n",
              "  margin-right: 0.25em;\n",
              "  color: var(--sklearn-color-icon);\n",
              "}\n",
              "\n",
              "#sk-container-id-2 label.sk-toggleable__label-arrow:hover:before {\n",
              "  color: var(--sklearn-color-text);\n",
              "}\n",
              "\n",
              "/* Toggleable content - dropdown */\n",
              "\n",
              "#sk-container-id-2 div.sk-toggleable__content {\n",
              "  max-height: 0;\n",
              "  max-width: 0;\n",
              "  overflow: hidden;\n",
              "  text-align: left;\n",
              "  /* unfitted */\n",
              "  background-color: var(--sklearn-color-unfitted-level-0);\n",
              "}\n",
              "\n",
              "#sk-container-id-2 div.sk-toggleable__content.fitted {\n",
              "  /* fitted */\n",
              "  background-color: var(--sklearn-color-fitted-level-0);\n",
              "}\n",
              "\n",
              "#sk-container-id-2 div.sk-toggleable__content pre {\n",
              "  margin: 0.2em;\n",
              "  border-radius: 0.25em;\n",
              "  color: var(--sklearn-color-text);\n",
              "  /* unfitted */\n",
              "  background-color: var(--sklearn-color-unfitted-level-0);\n",
              "}\n",
              "\n",
              "#sk-container-id-2 div.sk-toggleable__content.fitted pre {\n",
              "  /* unfitted */\n",
              "  background-color: var(--sklearn-color-fitted-level-0);\n",
              "}\n",
              "\n",
              "#sk-container-id-2 input.sk-toggleable__control:checked~div.sk-toggleable__content {\n",
              "  /* Expand drop-down */\n",
              "  max-height: 200px;\n",
              "  max-width: 100%;\n",
              "  overflow: auto;\n",
              "}\n",
              "\n",
              "#sk-container-id-2 input.sk-toggleable__control:checked~label.sk-toggleable__label-arrow:before {\n",
              "  content: \"▾\";\n",
              "}\n",
              "\n",
              "/* Pipeline/ColumnTransformer-specific style */\n",
              "\n",
              "#sk-container-id-2 div.sk-label input.sk-toggleable__control:checked~label.sk-toggleable__label {\n",
              "  color: var(--sklearn-color-text);\n",
              "  background-color: var(--sklearn-color-unfitted-level-2);\n",
              "}\n",
              "\n",
              "#sk-container-id-2 div.sk-label.fitted input.sk-toggleable__control:checked~label.sk-toggleable__label {\n",
              "  background-color: var(--sklearn-color-fitted-level-2);\n",
              "}\n",
              "\n",
              "/* Estimator-specific style */\n",
              "\n",
              "/* Colorize estimator box */\n",
              "#sk-container-id-2 div.sk-estimator input.sk-toggleable__control:checked~label.sk-toggleable__label {\n",
              "  /* unfitted */\n",
              "  background-color: var(--sklearn-color-unfitted-level-2);\n",
              "}\n",
              "\n",
              "#sk-container-id-2 div.sk-estimator.fitted input.sk-toggleable__control:checked~label.sk-toggleable__label {\n",
              "  /* fitted */\n",
              "  background-color: var(--sklearn-color-fitted-level-2);\n",
              "}\n",
              "\n",
              "#sk-container-id-2 div.sk-label label.sk-toggleable__label,\n",
              "#sk-container-id-2 div.sk-label label {\n",
              "  /* The background is the default theme color */\n",
              "  color: var(--sklearn-color-text-on-default-background);\n",
              "}\n",
              "\n",
              "/* On hover, darken the color of the background */\n",
              "#sk-container-id-2 div.sk-label:hover label.sk-toggleable__label {\n",
              "  color: var(--sklearn-color-text);\n",
              "  background-color: var(--sklearn-color-unfitted-level-2);\n",
              "}\n",
              "\n",
              "/* Label box, darken color on hover, fitted */\n",
              "#sk-container-id-2 div.sk-label.fitted:hover label.sk-toggleable__label.fitted {\n",
              "  color: var(--sklearn-color-text);\n",
              "  background-color: var(--sklearn-color-fitted-level-2);\n",
              "}\n",
              "\n",
              "/* Estimator label */\n",
              "\n",
              "#sk-container-id-2 div.sk-label label {\n",
              "  font-family: monospace;\n",
              "  font-weight: bold;\n",
              "  display: inline-block;\n",
              "  line-height: 1.2em;\n",
              "}\n",
              "\n",
              "#sk-container-id-2 div.sk-label-container {\n",
              "  text-align: center;\n",
              "}\n",
              "\n",
              "/* Estimator-specific */\n",
              "#sk-container-id-2 div.sk-estimator {\n",
              "  font-family: monospace;\n",
              "  border: 1px dotted var(--sklearn-color-border-box);\n",
              "  border-radius: 0.25em;\n",
              "  box-sizing: border-box;\n",
              "  margin-bottom: 0.5em;\n",
              "  /* unfitted */\n",
              "  background-color: var(--sklearn-color-unfitted-level-0);\n",
              "}\n",
              "\n",
              "#sk-container-id-2 div.sk-estimator.fitted {\n",
              "  /* fitted */\n",
              "  background-color: var(--sklearn-color-fitted-level-0);\n",
              "}\n",
              "\n",
              "/* on hover */\n",
              "#sk-container-id-2 div.sk-estimator:hover {\n",
              "  /* unfitted */\n",
              "  background-color: var(--sklearn-color-unfitted-level-2);\n",
              "}\n",
              "\n",
              "#sk-container-id-2 div.sk-estimator.fitted:hover {\n",
              "  /* fitted */\n",
              "  background-color: var(--sklearn-color-fitted-level-2);\n",
              "}\n",
              "\n",
              "/* Specification for estimator info (e.g. \"i\" and \"?\") */\n",
              "\n",
              "/* Common style for \"i\" and \"?\" */\n",
              "\n",
              ".sk-estimator-doc-link,\n",
              "a:link.sk-estimator-doc-link,\n",
              "a:visited.sk-estimator-doc-link {\n",
              "  float: right;\n",
              "  font-size: smaller;\n",
              "  line-height: 1em;\n",
              "  font-family: monospace;\n",
              "  background-color: var(--sklearn-color-background);\n",
              "  border-radius: 1em;\n",
              "  height: 1em;\n",
              "  width: 1em;\n",
              "  text-decoration: none !important;\n",
              "  margin-left: 0.5em;\n",
              "  text-align: center;\n",
              "  /* unfitted */\n",
              "  border: var(--sklearn-color-unfitted-level-1) 1pt solid;\n",
              "  color: var(--sklearn-color-unfitted-level-1);\n",
              "}\n",
              "\n",
              ".sk-estimator-doc-link.fitted,\n",
              "a:link.sk-estimator-doc-link.fitted,\n",
              "a:visited.sk-estimator-doc-link.fitted {\n",
              "  /* fitted */\n",
              "  border: var(--sklearn-color-fitted-level-1) 1pt solid;\n",
              "  color: var(--sklearn-color-fitted-level-1);\n",
              "}\n",
              "\n",
              "/* On hover */\n",
              "div.sk-estimator:hover .sk-estimator-doc-link:hover,\n",
              ".sk-estimator-doc-link:hover,\n",
              "div.sk-label-container:hover .sk-estimator-doc-link:hover,\n",
              ".sk-estimator-doc-link:hover {\n",
              "  /* unfitted */\n",
              "  background-color: var(--sklearn-color-unfitted-level-3);\n",
              "  color: var(--sklearn-color-background);\n",
              "  text-decoration: none;\n",
              "}\n",
              "\n",
              "div.sk-estimator.fitted:hover .sk-estimator-doc-link.fitted:hover,\n",
              ".sk-estimator-doc-link.fitted:hover,\n",
              "div.sk-label-container:hover .sk-estimator-doc-link.fitted:hover,\n",
              ".sk-estimator-doc-link.fitted:hover {\n",
              "  /* fitted */\n",
              "  background-color: var(--sklearn-color-fitted-level-3);\n",
              "  color: var(--sklearn-color-background);\n",
              "  text-decoration: none;\n",
              "}\n",
              "\n",
              "/* Span, style for the box shown on hovering the info icon */\n",
              ".sk-estimator-doc-link span {\n",
              "  display: none;\n",
              "  z-index: 9999;\n",
              "  position: relative;\n",
              "  font-weight: normal;\n",
              "  right: .2ex;\n",
              "  padding: .5ex;\n",
              "  margin: .5ex;\n",
              "  width: min-content;\n",
              "  min-width: 20ex;\n",
              "  max-width: 50ex;\n",
              "  color: var(--sklearn-color-text);\n",
              "  box-shadow: 2pt 2pt 4pt #999;\n",
              "  /* unfitted */\n",
              "  background: var(--sklearn-color-unfitted-level-0);\n",
              "  border: .5pt solid var(--sklearn-color-unfitted-level-3);\n",
              "}\n",
              "\n",
              ".sk-estimator-doc-link.fitted span {\n",
              "  /* fitted */\n",
              "  background: var(--sklearn-color-fitted-level-0);\n",
              "  border: var(--sklearn-color-fitted-level-3);\n",
              "}\n",
              "\n",
              ".sk-estimator-doc-link:hover span {\n",
              "  display: block;\n",
              "}\n",
              "\n",
              "/* \"?\"-specific style due to the `<a>` HTML tag */\n",
              "\n",
              "#sk-container-id-2 a.estimator_doc_link {\n",
              "  float: right;\n",
              "  font-size: 1rem;\n",
              "  line-height: 1em;\n",
              "  font-family: monospace;\n",
              "  background-color: var(--sklearn-color-background);\n",
              "  border-radius: 1rem;\n",
              "  height: 1rem;\n",
              "  width: 1rem;\n",
              "  text-decoration: none;\n",
              "  /* unfitted */\n",
              "  color: var(--sklearn-color-unfitted-level-1);\n",
              "  border: var(--sklearn-color-unfitted-level-1) 1pt solid;\n",
              "}\n",
              "\n",
              "#sk-container-id-2 a.estimator_doc_link.fitted {\n",
              "  /* fitted */\n",
              "  border: var(--sklearn-color-fitted-level-1) 1pt solid;\n",
              "  color: var(--sklearn-color-fitted-level-1);\n",
              "}\n",
              "\n",
              "/* On hover */\n",
              "#sk-container-id-2 a.estimator_doc_link:hover {\n",
              "  /* unfitted */\n",
              "  background-color: var(--sklearn-color-unfitted-level-3);\n",
              "  color: var(--sklearn-color-background);\n",
              "  text-decoration: none;\n",
              "}\n",
              "\n",
              "#sk-container-id-2 a.estimator_doc_link.fitted:hover {\n",
              "  /* fitted */\n",
              "  background-color: var(--sklearn-color-fitted-level-3);\n",
              "}\n",
              "</style><div id=\"sk-container-id-2\" class=\"sk-top-container\"><div class=\"sk-text-repr-fallback\"><pre>MLPClassifier(hidden_layer_sizes=(10,))</pre><b>In a Jupyter environment, please rerun this cell to show the HTML representation or trust the notebook. <br />On GitHub, the HTML representation is unable to render, please try loading this page with nbviewer.org.</b></div><div class=\"sk-container\" hidden><div class=\"sk-item\"><div class=\"sk-estimator fitted sk-toggleable\"><input class=\"sk-toggleable__control sk-hidden--visually\" id=\"sk-estimator-id-2\" type=\"checkbox\" checked><label for=\"sk-estimator-id-2\" class=\"sk-toggleable__label fitted sk-toggleable__label-arrow\"><div><div>MLPClassifier</div></div><div><a class=\"sk-estimator-doc-link fitted\" rel=\"noreferrer\" target=\"_blank\" href=\"https://scikit-learn.org/1.6/modules/generated/sklearn.neural_network.MLPClassifier.html\">?<span>Documentation for MLPClassifier</span></a><span class=\"sk-estimator-doc-link fitted\">i<span>Fitted</span></span></div></label><div class=\"sk-toggleable__content fitted\"><pre>MLPClassifier(hidden_layer_sizes=(10,))</pre></div> </div></div></div></div>"
            ]
          },
          "metadata": {},
          "execution_count": 75
        }
      ]
    },
    {
      "cell_type": "markdown",
      "source": [
        "- **hidden_layer_sizes=(10,):** Especifica uma única camada oculta com 10 neurônios.\n",
        "\n",
        "- **activation='relu':** Função de ativação ReLU.\n",
        "\n",
        "- **solver='adam':** Otimizador Adam.\n",
        "\n",
        "- **max_iter=200:** Número máximo de iterações durante o treinamento."
      ],
      "metadata": {
        "id": "5apRx3YQoy1o"
      }
    },
    {
      "cell_type": "markdown",
      "source": [
        "### **TensorFlow / Keras**"
      ],
      "metadata": {
        "id": "pLSSVJywOM1F"
      }
    },
    {
      "cell_type": "markdown",
      "source": [
        "TensorFlow é uma biblioteca desenvolvida pelo Google para computação numérica e machine learning, utilizada para construir e treinar modelos de deep learning. Keras é uma API que roda sobre o TensorFlow (entre outras plataformas) e simplifica a criação, o treinamento e a experimentação com redes neurais, permitindo a implementação rápida de modelos de forma intuitiva e com poucas linhas de código."
      ],
      "metadata": {
        "id": "RmBdaEHkPd8Y"
      }
    },
    {
      "cell_type": "markdown",
      "source": [
        "#### **1. Importação das Bibliotecas**"
      ],
      "metadata": {
        "id": "7guWrMdZQdRK"
      }
    },
    {
      "cell_type": "code",
      "source": [
        "import numpy as np\n",
        "import tensorflow as tf\n",
        "from keras.models import Sequential\n",
        "from keras.layers import Dense"
      ],
      "metadata": {
        "id": "3G2nZY__Q0pe"
      },
      "execution_count": 76,
      "outputs": []
    },
    {
      "cell_type": "markdown",
      "source": [
        "- **tensorflow (tf)**: Biblioteca de machine learning que permite criar e treinar modelos.\n",
        "\n",
        "- **tensorflow.keras:** API de alto nível do TensorFlow para criação e treinamento de redes neurais.\n",
        "\n",
        " - **Sequential:** Modelo sequencial que empilha camadas linearmente.\n",
        "\n",
        " - **Dense:** Tipo de camada totalmente conectada (feedforward)."
      ],
      "metadata": {
        "id": "hubgayA3Qhi7"
      }
    },
    {
      "cell_type": "markdown",
      "source": [
        "#### **2. Geração de Dados Aleatórios**"
      ],
      "metadata": {
        "id": "0aBlrtf3Q19s"
      }
    },
    {
      "cell_type": "code",
      "source": [
        "# Gerando dados aleatórios: 100 amostras, 4 features; 3 classes\n",
        "X = np.random.rand(100, 4)\n",
        "y = np.random.randint(0, 3, 100)"
      ],
      "metadata": {
        "id": "0tPAFylxQ7KP"
      },
      "execution_count": 77,
      "outputs": []
    },
    {
      "cell_type": "markdown",
      "source": [
        "- **X:** Cria um array de 100 amostras, cada uma com 4 características (features), com valores aleatórios entre 0 e 1.\n",
        "\n",
        "- **y:** Cria um vetor com 100 rótulos inteiros aleatórios (0, 1 ou 2), representando 3 classes diferentes."
      ],
      "metadata": {
        "id": "Zc3wxm5eQ9Nu"
      }
    },
    {
      "cell_type": "markdown",
      "source": [
        "#### **3. Definição do Modelo MLP**"
      ],
      "metadata": {
        "id": "kz0UUkmFRIqi"
      }
    },
    {
      "cell_type": "code",
      "source": [
        "model = Sequential([\n",
        "    Dense(10, activation='relu', input_shape=(4,)),  # camada oculta com 10 neurônios\n",
        "    Dense(3, activation='softmax')                   # camada de saída para 3 classes\n",
        "])"
      ],
      "metadata": {
        "colab": {
          "base_uri": "https://localhost:8080/"
        },
        "id": "6fwn6pKgRIyD",
        "outputId": "dc97f7c8-9ada-41a4-8c18-4fa26e75a538"
      },
      "execution_count": 78,
      "outputs": [
        {
          "output_type": "stream",
          "name": "stderr",
          "text": [
            "/usr/local/lib/python3.11/dist-packages/keras/src/layers/core/dense.py:87: UserWarning: Do not pass an `input_shape`/`input_dim` argument to a layer. When using Sequential models, prefer using an `Input(shape)` object as the first layer in the model instead.\n",
            "  super().__init__(activity_regularizer=activity_regularizer, **kwargs)\n"
          ]
        }
      ]
    },
    {
      "cell_type": "markdown",
      "source": [
        "- **Sequential:** Cria um modelo onde as camadas são adicionadas em sequência.\n",
        "\n",
        "- **Primeira camada (Dense):**\n",
        " - 10 neurônios.\n",
        " - Função de ativação **ReLU** (introduz não linearidade).\n",
        " - `input_shape=(4,)`: Define que cada amostra de entrada possui 4 features.\n",
        "\n",
        "- **Segunda camada (Dense):**\n",
        " - 3 neurônios, correspondendo às 3 classes.\n",
        " - Função de ativação softmax para gerar probabilidades, de forma que a soma das saídas seja 1, apropriado para multi-classe."
      ],
      "metadata": {
        "id": "KqjktLMHRQaf"
      }
    },
    {
      "cell_type": "markdown",
      "source": [
        "#### **4. Compilação do Modelo**"
      ],
      "metadata": {
        "id": "QCigMOx-Rxf0"
      }
    },
    {
      "cell_type": "code",
      "source": [
        "model.compile(optimizer='adam',\n",
        "              loss='sparse_categorical_crossentropy',\n",
        "              metrics=['accuracy'])"
      ],
      "metadata": {
        "id": "x5cMntZtR551"
      },
      "execution_count": 79,
      "outputs": []
    },
    {
      "cell_type": "markdown",
      "source": [
        "- `optimizer='adam'`: Algoritmo de otimização que ajusta os pesos do modelo de forma eficiente.\n",
        "\n",
        "- `loss='sparse_categorical_crossentropy'`: Função de perda adequada para classificação multi-classe quando os rótulos são inteiros.\n",
        "\n",
        "- `metrics=['accuracy']`: Durante o treinamento, a acurácia será calculada para avaliar a performance do modelo."
      ],
      "metadata": {
        "id": "VwxHFSPNR-tP"
      }
    },
    {
      "cell_type": "markdown",
      "source": [
        "#### **5. Visualização do Resumo do Modelo**"
      ],
      "metadata": {
        "id": "detlAryeSQPX"
      }
    },
    {
      "cell_type": "code",
      "source": [
        "model.summary()"
      ],
      "metadata": {
        "colab": {
          "base_uri": "https://localhost:8080/",
          "height": 193
        },
        "id": "rQt5pg1NSQYB",
        "outputId": "8988378d-f3c9-4b28-8a3b-269ec9ea79dc"
      },
      "execution_count": 80,
      "outputs": [
        {
          "output_type": "display_data",
          "data": {
            "text/plain": [
              "\u001b[1mModel: \"sequential_1\"\u001b[0m\n"
            ],
            "text/html": [
              "<pre style=\"white-space:pre;overflow-x:auto;line-height:normal;font-family:Menlo,'DejaVu Sans Mono',consolas,'Courier New',monospace\"><span style=\"font-weight: bold\">Model: \"sequential_1\"</span>\n",
              "</pre>\n"
            ]
          },
          "metadata": {}
        },
        {
          "output_type": "display_data",
          "data": {
            "text/plain": [
              "┏━━━━━━━━━━━━━━━━━━━━━━━━━━━━━━━━━━━━━━┳━━━━━━━━━━━━━━━━━━━━━━━━━━━━━┳━━━━━━━━━━━━━━━━━┓\n",
              "┃\u001b[1m \u001b[0m\u001b[1mLayer (type)                        \u001b[0m\u001b[1m \u001b[0m┃\u001b[1m \u001b[0m\u001b[1mOutput Shape               \u001b[0m\u001b[1m \u001b[0m┃\u001b[1m \u001b[0m\u001b[1m        Param #\u001b[0m\u001b[1m \u001b[0m┃\n",
              "┡━━━━━━━━━━━━━━━━━━━━━━━━━━━━━━━━━━━━━━╇━━━━━━━━━━━━━━━━━━━━━━━━━━━━━╇━━━━━━━━━━━━━━━━━┩\n",
              "│ dense_2 (\u001b[38;5;33mDense\u001b[0m)                      │ (\u001b[38;5;45mNone\u001b[0m, \u001b[38;5;34m10\u001b[0m)                  │              \u001b[38;5;34m50\u001b[0m │\n",
              "├──────────────────────────────────────┼─────────────────────────────┼─────────────────┤\n",
              "│ dense_3 (\u001b[38;5;33mDense\u001b[0m)                      │ (\u001b[38;5;45mNone\u001b[0m, \u001b[38;5;34m3\u001b[0m)                   │              \u001b[38;5;34m33\u001b[0m │\n",
              "└──────────────────────────────────────┴─────────────────────────────┴─────────────────┘\n"
            ],
            "text/html": [
              "<pre style=\"white-space:pre;overflow-x:auto;line-height:normal;font-family:Menlo,'DejaVu Sans Mono',consolas,'Courier New',monospace\">┏━━━━━━━━━━━━━━━━━━━━━━━━━━━━━━━━━━━━━━┳━━━━━━━━━━━━━━━━━━━━━━━━━━━━━┳━━━━━━━━━━━━━━━━━┓\n",
              "┃<span style=\"font-weight: bold\"> Layer (type)                         </span>┃<span style=\"font-weight: bold\"> Output Shape                </span>┃<span style=\"font-weight: bold\">         Param # </span>┃\n",
              "┡━━━━━━━━━━━━━━━━━━━━━━━━━━━━━━━━━━━━━━╇━━━━━━━━━━━━━━━━━━━━━━━━━━━━━╇━━━━━━━━━━━━━━━━━┩\n",
              "│ dense_2 (<span style=\"color: #0087ff; text-decoration-color: #0087ff\">Dense</span>)                      │ (<span style=\"color: #00d7ff; text-decoration-color: #00d7ff\">None</span>, <span style=\"color: #00af00; text-decoration-color: #00af00\">10</span>)                  │              <span style=\"color: #00af00; text-decoration-color: #00af00\">50</span> │\n",
              "├──────────────────────────────────────┼─────────────────────────────┼─────────────────┤\n",
              "│ dense_3 (<span style=\"color: #0087ff; text-decoration-color: #0087ff\">Dense</span>)                      │ (<span style=\"color: #00d7ff; text-decoration-color: #00d7ff\">None</span>, <span style=\"color: #00af00; text-decoration-color: #00af00\">3</span>)                   │              <span style=\"color: #00af00; text-decoration-color: #00af00\">33</span> │\n",
              "└──────────────────────────────────────┴─────────────────────────────┴─────────────────┘\n",
              "</pre>\n"
            ]
          },
          "metadata": {}
        },
        {
          "output_type": "display_data",
          "data": {
            "text/plain": [
              "\u001b[1m Total params: \u001b[0m\u001b[38;5;34m83\u001b[0m (332.00 B)\n"
            ],
            "text/html": [
              "<pre style=\"white-space:pre;overflow-x:auto;line-height:normal;font-family:Menlo,'DejaVu Sans Mono',consolas,'Courier New',monospace\"><span style=\"font-weight: bold\"> Total params: </span><span style=\"color: #00af00; text-decoration-color: #00af00\">83</span> (332.00 B)\n",
              "</pre>\n"
            ]
          },
          "metadata": {}
        },
        {
          "output_type": "display_data",
          "data": {
            "text/plain": [
              "\u001b[1m Trainable params: \u001b[0m\u001b[38;5;34m83\u001b[0m (332.00 B)\n"
            ],
            "text/html": [
              "<pre style=\"white-space:pre;overflow-x:auto;line-height:normal;font-family:Menlo,'DejaVu Sans Mono',consolas,'Courier New',monospace\"><span style=\"font-weight: bold\"> Trainable params: </span><span style=\"color: #00af00; text-decoration-color: #00af00\">83</span> (332.00 B)\n",
              "</pre>\n"
            ]
          },
          "metadata": {}
        },
        {
          "output_type": "display_data",
          "data": {
            "text/plain": [
              "\u001b[1m Non-trainable params: \u001b[0m\u001b[38;5;34m0\u001b[0m (0.00 B)\n"
            ],
            "text/html": [
              "<pre style=\"white-space:pre;overflow-x:auto;line-height:normal;font-family:Menlo,'DejaVu Sans Mono',consolas,'Courier New',monospace\"><span style=\"font-weight: bold\"> Non-trainable params: </span><span style=\"color: #00af00; text-decoration-color: #00af00\">0</span> (0.00 B)\n",
              "</pre>\n"
            ]
          },
          "metadata": {}
        }
      ]
    },
    {
      "cell_type": "markdown",
      "source": [
        "Exibe um resumo do modelo, mostrando as camadas, o número de parâmetros e a forma das saídas em cada camada."
      ],
      "metadata": {
        "id": "B868Kl-KSX17"
      }
    },
    {
      "cell_type": "markdown",
      "source": [
        "#### **6. Treinamento do Modelo**"
      ],
      "metadata": {
        "id": "tbktJcUuSZZF"
      }
    },
    {
      "cell_type": "code",
      "source": [
        "model.fit(X, y, epochs=10, batch_size=8)"
      ],
      "metadata": {
        "colab": {
          "base_uri": "https://localhost:8080/"
        },
        "id": "gXGYtLFyOSXY",
        "outputId": "14f69659-e424-44a0-ff17-2892d3f876d6"
      },
      "execution_count": 81,
      "outputs": [
        {
          "output_type": "stream",
          "name": "stdout",
          "text": [
            "Epoch 1/10\n",
            "\u001b[1m13/13\u001b[0m \u001b[32m━━━━━━━━━━━━━━━━━━━━\u001b[0m\u001b[37m\u001b[0m \u001b[1m1s\u001b[0m 3ms/step - accuracy: 0.3533 - loss: 1.1047\n",
            "Epoch 2/10\n",
            "\u001b[1m13/13\u001b[0m \u001b[32m━━━━━━━━━━━━━━━━━━━━\u001b[0m\u001b[37m\u001b[0m \u001b[1m0s\u001b[0m 3ms/step - accuracy: 0.3542 - loss: 1.1297 \n",
            "Epoch 3/10\n",
            "\u001b[1m13/13\u001b[0m \u001b[32m━━━━━━━━━━━━━━━━━━━━\u001b[0m\u001b[37m\u001b[0m \u001b[1m0s\u001b[0m 4ms/step - accuracy: 0.4233 - loss: 1.0802 \n",
            "Epoch 4/10\n",
            "\u001b[1m13/13\u001b[0m \u001b[32m━━━━━━━━━━━━━━━━━━━━\u001b[0m\u001b[37m\u001b[0m \u001b[1m0s\u001b[0m 4ms/step - accuracy: 0.4329 - loss: 1.0871 \n",
            "Epoch 5/10\n",
            "\u001b[1m13/13\u001b[0m \u001b[32m━━━━━━━━━━━━━━━━━━━━\u001b[0m\u001b[37m\u001b[0m \u001b[1m0s\u001b[0m 3ms/step - accuracy: 0.4634 - loss: 1.0685 \n",
            "Epoch 6/10\n",
            "\u001b[1m13/13\u001b[0m \u001b[32m━━━━━━━━━━━━━━━━━━━━\u001b[0m\u001b[37m\u001b[0m \u001b[1m0s\u001b[0m 4ms/step - accuracy: 0.3872 - loss: 1.1084 \n",
            "Epoch 7/10\n",
            "\u001b[1m13/13\u001b[0m \u001b[32m━━━━━━━━━━━━━━━━━━━━\u001b[0m\u001b[37m\u001b[0m \u001b[1m0s\u001b[0m 4ms/step - accuracy: 0.3682 - loss: 1.0838 \n",
            "Epoch 8/10\n",
            "\u001b[1m13/13\u001b[0m \u001b[32m━━━━━━━━━━━━━━━━━━━━\u001b[0m\u001b[37m\u001b[0m \u001b[1m0s\u001b[0m 3ms/step - accuracy: 0.3504 - loss: 1.0697 \n",
            "Epoch 9/10\n",
            "\u001b[1m13/13\u001b[0m \u001b[32m━━━━━━━━━━━━━━━━━━━━\u001b[0m\u001b[37m\u001b[0m \u001b[1m0s\u001b[0m 4ms/step - accuracy: 0.3854 - loss: 1.0846 \n",
            "Epoch 10/10\n",
            "\u001b[1m13/13\u001b[0m \u001b[32m━━━━━━━━━━━━━━━━━━━━\u001b[0m\u001b[37m\u001b[0m \u001b[1m0s\u001b[0m 4ms/step - accuracy: 0.4585 - loss: 1.0572 \n"
          ]
        },
        {
          "output_type": "execute_result",
          "data": {
            "text/plain": [
              "<keras.src.callbacks.history.History at 0x7f0e9f943f10>"
            ]
          },
          "metadata": {},
          "execution_count": 81
        }
      ]
    },
    {
      "cell_type": "markdown",
      "source": [
        "- `model.fit`: Função que inicia o treinamento do modelo.\n",
        " - `X`, `y`: Dados de entrada e rótulos.\n",
        " - `epochs=10`: Número de vezes que o modelo passará por todo o conjunto de dados.\n",
        " - `batch_size=8`: Número de amostras utilizadas para atualizar os pesos a cada iteração."
      ],
      "metadata": {
        "id": "8IK_cgnuSh3z"
      }
    },
    {
      "cell_type": "markdown",
      "source": [
        "### **PyTorch**"
      ],
      "metadata": {
        "id": "zibif-9SOYS8"
      }
    },
    {
      "cell_type": "markdown",
      "source": [
        "PyTorch é uma biblioteca open-source desenvolvida pelo Facebook, focada em deep learning e conhecida por sua abordagem dinâmica (define-by-run), que permite maior flexibilidade na construção e depuração de modelos. Ele é amplamente utilizado na pesquisa e na indústria devido à sua facilidade de uso, sintaxe simples e forte integração com o ecossistema Python, facilitando a prototipagem e o desenvolvimento de modelos de machine learning."
      ],
      "metadata": {
        "id": "WE3-9ZVmPm5s"
      }
    },
    {
      "cell_type": "markdown",
      "source": [
        "#### **1. Importação das Bibliotecas**"
      ],
      "metadata": {
        "id": "P96URTf-cube"
      }
    },
    {
      "cell_type": "code",
      "source": [
        "import torch\n",
        "import torch.nn as nn\n",
        "import torch.optim as optim"
      ],
      "metadata": {
        "id": "zhSVZ87gc1Rh"
      },
      "execution_count": 82,
      "outputs": []
    },
    {
      "cell_type": "markdown",
      "source": [
        "- `torch`: Biblioteca principal do PyTorch, que fornece os tensores e diversas operações.\n",
        "\n",
        "- `torch.nn`: Módulo que contém classes e funções para construir redes neurais (camadas, funções de ativação, etc.).\n",
        "\n",
        "- `torch.optim`: Módulo para os algoritmos de otimização (como Adam, SGD, etc.)."
      ],
      "metadata": {
        "id": "Twro8fjYc21b"
      }
    },
    {
      "cell_type": "markdown",
      "source": [
        "#### **2. Definindo a Arquitetura da MLP**"
      ],
      "metadata": {
        "id": "z6JoBGRbdEbo"
      }
    },
    {
      "cell_type": "code",
      "source": [
        "class MLP(nn.Module):\n",
        "    def __init__(self, input_size=4, hidden_size=10, output_size=3):\n",
        "        super(MLP, self).__init__()\n",
        "        self.fc1 = nn.Linear(input_size, hidden_size)  # camada oculta\n",
        "        self.relu = nn.ReLU()\n",
        "        self.fc2 = nn.Linear(hidden_size, output_size)  # camada de saída\n",
        "\n",
        "    def forward(self, x):\n",
        "        x = self.relu(self.fc1(x))\n",
        "        x = self.fc2(x)\n",
        "        return x"
      ],
      "metadata": {
        "id": "Sm8hx8ODdJ1w"
      },
      "execution_count": 83,
      "outputs": []
    },
    {
      "cell_type": "markdown",
      "source": [
        "- **Definição da Classe:**\n",
        "\n",
        " - A classe MLP herda de nn.Module, que é a classe base para todos os módulos de rede no PyTorch.\n",
        "\n",
        "- **Método `__init__`:**\n",
        "\n",
        " - `self.fc1 = nn.Linear(input_size, hidden_size)`: Define uma camada linear (totalmente conectada) que transforma a entrada de tamanho `input_size` para um vetor de tamanho `hidden_size`.\n",
        "\n",
        " - `self.relu = nn.ReLU()`: Instancia a função de ativação ReLU, que introduz não linearidade ao modelo.\n",
        "\n",
        " - `self.fc2 = nn.Linear(hidden_size, output_size)`: Define a camada de saída, que transforma o vetor da camada oculta para o tamanho do output (`output_size`), correspondente ao número de classes.\n",
        "\n",
        "- **Método forward:**\n",
        "\n",
        " - Recebe a entrada `x`, passa pela 1ª camada linear, aplica ReLU e segue para a 2ª camada, gerando a saída final."
      ],
      "metadata": {
        "id": "12XhMzlZdKav"
      }
    },
    {
      "cell_type": "markdown",
      "source": [
        "#### **3. Instanciando o Modelo, Definindo Função de Perda e Otimizador**"
      ],
      "metadata": {
        "id": "sT0hAnEUezDm"
      }
    },
    {
      "cell_type": "code",
      "source": [
        "# Instanciando o modelo\n",
        "model = MLP()\n",
        "\n",
        "# Definindo a função de perda e o otimizador\n",
        "criterion = nn.CrossEntropyLoss()\n",
        "optimizer = optim.Adam(model.parameters(), lr=0.01)"
      ],
      "metadata": {
        "id": "-HJGYeeKezPk"
      },
      "execution_count": 84,
      "outputs": []
    },
    {
      "cell_type": "markdown",
      "source": [
        "- **Instanciação do Modelo:** Cria uma instância do modelo MLP com os parâmetros padrão: 4 features na entrada, 10 neurônios na camada oculta e 3 neurônios na camada de saída.\n",
        "\n",
        "- **Função de Perda (criterion):**\n",
        " - `nn.CrossEntropyLoss()`: Combina a aplicação da função softmax com a entropia cruzada, apropriada para classificação multi-classe com rótulos inteiros.\n",
        "\n",
        "- **Otimizador:**\n",
        " - `optim.Adam(model.parameters(), lr=0.01)`: Utiliza o algoritmo Adam para atualizar os parâmetros do modelo durante o treinamento, com taxa de aprendizado de 0.01."
      ],
      "metadata": {
        "id": "g_GCtyUhfD2b"
      }
    },
    {
      "cell_type": "markdown",
      "source": [
        "#### **4. Gerando Dados Aleatórios**"
      ],
      "metadata": {
        "id": "S88CEqa9fz4Z"
      }
    },
    {
      "cell_type": "code",
      "source": [
        "# Gerando dados aleatórios: 100 amostras, 4 features; 3 classes\n",
        "X = torch.randn(100, 4)\n",
        "y = torch.randint(0, 3, (100,))"
      ],
      "metadata": {
        "id": "f23uCVbAf8bg"
      },
      "execution_count": 85,
      "outputs": []
    },
    {
      "cell_type": "markdown",
      "source": [
        "- **X:**\n",
        " - `torch.randn(100, 4)`: Cria um tensor com 100 amostras, cada uma com 4 features.\n",
        "\n",
        "- **y:**\n",
        " - `torch.randint(0, 3, (100,))`: Cria um tensor com 100 rótulos inteiros aleatórios entre 0 e 2, representando as 3 classes."
      ],
      "metadata": {
        "id": "489Qp-dff9EZ"
      }
    },
    {
      "cell_type": "markdown",
      "source": [
        "#### **5. Treinamento do Modelo**"
      ],
      "metadata": {
        "id": "88qiF1M3gX4p"
      }
    },
    {
      "cell_type": "code",
      "source": [
        "# Treinamento simples\n",
        "for epoch in range(10):\n",
        "    optimizer.zero_grad()          # zerando os gradientes\n",
        "    outputs = model(X)             # forward\n",
        "    loss = criterion(outputs, y)   # calculando a perda\n",
        "    loss.backward()                # backpropagation\n",
        "    optimizer.step()               # atualizando os pesos\n",
        "    print(f\"Época {epoch+1}, Loss: {loss.item():.4f}\")"
      ],
      "metadata": {
        "colab": {
          "base_uri": "https://localhost:8080/"
        },
        "id": "56pUuQwjOYdm",
        "outputId": "131e8434-f319-40df-e591-fd3ef6c77f74"
      },
      "execution_count": 86,
      "outputs": [
        {
          "output_type": "stream",
          "name": "stdout",
          "text": [
            "Época 1, Loss: 1.1406\n",
            "Época 2, Loss: 1.1246\n",
            "Época 3, Loss: 1.1104\n",
            "Época 4, Loss: 1.0980\n",
            "Época 5, Loss: 1.0871\n",
            "Época 6, Loss: 1.0776\n",
            "Época 7, Loss: 1.0692\n",
            "Época 8, Loss: 1.0620\n",
            "Época 9, Loss: 1.0557\n",
            "Época 10, Loss: 1.0502\n"
          ]
        }
      ]
    },
    {
      "cell_type": "markdown",
      "source": [
        "- **Loop de Treinamento:**\n",
        " - Itera por 10 épocas (10 passagens completas sobre o conjunto de dados).\n",
        "\n",
        "- **Zerar Gradientes:**\n",
        " - `optimizer.zero_grad()`: Zera os gradientes acumulados das iterações anteriores, garantindo que os cálculos sejam corretos para a nova iteração.\n",
        "\n",
        "- **Forward Pass:**\n",
        " - `outputs = model(X)`: Passa os dados de entrada `X pelo modelo para obter as predições.\n",
        "\n",
        "- **Cálculo da Perda:**\n",
        " - `loss = criterion(outputs, y)`: Compara as predições com os rótulos verdadeiros y utilizando a função de perda definida.\n",
        "\n",
        "- **Backward Pass:**\n",
        " - `loss.backward()`: Calcula os gradientes dos parâmetros do modelo em relação à perda.\n",
        "\n",
        "- **Atualização dos Pesos:**\n",
        " - `optimizer.step()`: Atualiza os pesos do modelo de acordo com os gradientes calculados.\n",
        "\n",
        "- **Impressão dos Resultados:**\n",
        " - Exibe a perda para cada época, permitindo monitorar o processo de treinamento."
      ],
      "metadata": {
        "id": "jjUPu7vPgeyY"
      }
    }
  ]
}