{
  "nbformat": 4,
  "nbformat_minor": 0,
  "metadata": {
    "colab": {
      "provenance": [],
      "authorship_tag": "ABX9TyPOq0x68Xb3C6/+nfQJV8KM",
      "include_colab_link": true
    },
    "kernelspec": {
      "name": "python3",
      "display_name": "Python 3"
    },
    "language_info": {
      "name": "python"
    }
  },
  "cells": [
    {
      "cell_type": "markdown",
      "metadata": {
        "id": "view-in-github",
        "colab_type": "text"
      },
      "source": [
        "<a href=\"https://colab.research.google.com/github/tiagopessoalima/IA/blob/main/Aula_Semana_01_(IA).ipynb\" target=\"_parent\"><img src=\"https://colab.research.google.com/assets/colab-badge.svg\" alt=\"Open In Colab\"/></a>"
      ]
    },
    {
      "cell_type": "markdown",
      "source": [
        "# **Introdução à Inteligência Artificial**"
      ],
      "metadata": {
        "id": "H5j-QU1PBCW-"
      }
    },
    {
      "cell_type": "markdown",
      "source": [
        "**Professor:** Tiago Pessoa Ferreira de Lima\n",
        "\n",
        "**Contato:** tiago.lima@palmares.ifpe.edu.br"
      ],
      "metadata": {
        "id": "vcN0nMIGBHPC"
      }
    },
    {
      "cell_type": "markdown",
      "source": [
        "## **Introdução**\n"
      ],
      "metadata": {
        "id": "bmGy1vfqBMD2"
      }
    },
    {
      "cell_type": "markdown",
      "source": [
        "Bem-vindos à primeira aula de Inteligência Artificial (IA)! Nesta aula, vamos explorar os conceitos fundamentais, o histórico e as aplicações da IA, preparando o terreno para nosso estudo mais aprofundado ao longo do curso.\n",
        "\n",
        "<blockquote>\n",
        "<strong>Nota:</strong> A IA está transformando a forma como vivemos e trabalhamos. É crucial compreender seus fundamentos e aplicações.\n",
        "</blockquote>"
      ],
      "metadata": {
        "id": "H_dDz_BzBRRt"
      }
    },
    {
      "cell_type": "markdown",
      "source": [
        "## **Objetivos desta aula**\n"
      ],
      "metadata": {
        "id": "R4ngEziPBt_V"
      }
    },
    {
      "cell_type": "markdown",
      "source": [
        "- Apresentar os conceitos básicos e o histórico da IA.\n",
        "- Discutir exemplos de sistemas inteligentes e suas aplicações."
      ],
      "metadata": {
        "id": "_Kv70ne-B0CD"
      }
    },
    {
      "cell_type": "markdown",
      "source": [
        "## **Breve Histórico da IA**"
      ],
      "metadata": {
        "id": "e1vU16HCCACe"
      }
    },
    {
      "cell_type": "markdown",
      "source": [
        "- **1950** – O matemático **Alan Turing** propõe a ideia de máquinas pensantes e cria o famoso **Teste de Turing**, sugerindo que, se uma máquina pudesse manter uma conversa indistinguível da de um humano, ela poderia ser considerada \"inteligente\".\n",
        "\n",
        "- **1956** – O termo **\"Inteligência Artificial\"** é oficialmente cunhado na **Dartmouth Conference**, marco inicial da IA como campo de estudo. Entre os pioneiros estavam John McCarthy, Marvin Minsky e Allen Newell.\n",
        "\n",
        "- **Anos 1960-70** – Avanços iniciais com programas que resolviam problemas simples e jogavam xadrez. Porém, limitações computacionais e expectativas irreais causaram os primeiros períodos de estagnação, conhecidos como **\"invernos da IA\"**.\n",
        "\n",
        "- **Anos 1980** – Surgem os **sistemas especialistas**, que aplicavam regras para simular decisões humanas em domínios específicos, como medicina e finanças.\n",
        "\n",
        "- **Anos 1990-2000** – Avanços no **aprendizado de máquina (machine learning)** e maior disponibilidade de dados e poder computacional. Em 1997, o supercomputador **Deep Blue**, da IBM, vence o campeão mundial de xadrez Garry Kasparov.\n",
        "\n",
        "- **2010 em diante** – Revolução com **deep learning** (aprendizado profundo), graças a redes neurais mais sofisticadas e dados em larga escala. Surgem sistemas avançados de reconhecimento de imagem, voz e texto. Exemplos notáveis incluem **AlphaGo**, **GPT**, **ChatGPT**, **carros autônomos**, entre outros."
      ],
      "metadata": {
        "id": "Qhz3pRTRCYPr"
      }
    },
    {
      "cell_type": "markdown",
      "source": [
        "Neste episódio da série **História da Tecnologia**, produzido pelo **TecMundo** com o apoio da **Udacity**, traçamos uma linha do tempo da IA, explorando suas origens conceituais, marcos científicos, avanços tecnológicos e os desdobramentos previstos para o futuro da área.\n",
        "\n",
        "<center>\n",
        "  <a href=\"https://www.youtube.com/watch?v=Lhu8bdmkMCM\" target=\"_blank\">\n",
        "  <img alt='' src=\"https://img.youtube.com/vi/Lhu8bdmkMCM/hqdefault.jpg\" height=\"188\" width=\"336\">\n",
        "  </a>\n",
        "</center>"
      ],
      "metadata": {
        "id": "6ktfirRCKpc_"
      }
    },
    {
      "cell_type": "markdown",
      "source": [
        "## **Conceitos Fundamentais da IA**\n"
      ],
      "metadata": {
        "id": "vQmGYeo4Chq3"
      }
    },
    {
      "cell_type": "markdown",
      "source": [
        "### **O que é IA?**"
      ],
      "metadata": {
        "id": "9cK8PCWOCmbs"
      }
    },
    {
      "cell_type": "markdown",
      "source": [
        "A Inteligência Artificial é um campo da computação que busca simular processos cognitivos humanos."
      ],
      "metadata": {
        "id": "R1DKTAlVCokH"
      }
    },
    {
      "cell_type": "markdown",
      "source": [
        "### **Abordagens da IA**\n"
      ],
      "metadata": {
        "id": "EU5y337ADCX8"
      }
    },
    {
      "cell_type": "markdown",
      "source": [
        "#### **Sistemas Baseados em Regras**\n"
      ],
      "metadata": {
        "id": "_2EUfGcUDLyk"
      }
    },
    {
      "cell_type": "markdown",
      "source": [
        "Sistemas que utilizam regras pré-definidas para tomar decisões."
      ],
      "metadata": {
        "id": "Ot9gXq0eDQyu"
      }
    },
    {
      "cell_type": "markdown",
      "source": [
        "#### **Aprendizado de Máquina & Deep Learning**\n"
      ],
      "metadata": {
        "id": "K6g4DFI2DTV9"
      }
    },
    {
      "cell_type": "markdown",
      "source": [
        "Sistemas que aprendem padrões a partir dos dados."
      ],
      "metadata": {
        "id": "a8owo9MCDcof"
      }
    },
    {
      "cell_type": "markdown",
      "source": [
        "### **IA Fraca vs. IA Forte**\n"
      ],
      "metadata": {
        "id": "GRtcf87LDoWw"
      }
    },
    {
      "cell_type": "markdown",
      "source": [
        "- **IA Fraca (Narrow AI):** Especializada em tarefas específicas (ex.: assistentes virtuais, sistemas de recomendação).\n",
        "- **IA Forte (General AI):** Executa qualquer tarefa cognitiva humana. Atualmente, permanece como um objetivo teórico.\n",
        "\n",
        "<blockquote>\n",
        "<strong>Discussão:</strong> Quais os desafios para alcançar a IA forte?\n",
        "</blockquote>"
      ],
      "metadata": {
        "id": "H5oD6Pl_Dx0p"
      }
    },
    {
      "cell_type": "markdown",
      "source": [
        "Neste vídeo da **BBC News Brasil**, a repórter **Camilla Costa** explica as três etapas da IA, revelando o que ainda está por vir, seus potenciais e os riscos que podem mudar a humanidade para sempre.\n",
        "\n",
        "<center>\n",
        "  <a href=\"https://www.youtube.com/watch?v=i6xbl9QzIK0\" target=\"_blank\">\n",
        "  <img alt='' src=\"https://img.youtube.com/vi/i6xbl9QzIK0/hqdefault.jpg\" height=\"188\" width=\"336\">\n",
        "  </a>\n",
        "</center>"
      ],
      "metadata": {
        "id": "zmjanVFQKwM9"
      }
    },
    {
      "cell_type": "markdown",
      "source": [
        "## **Sistemas Inteligentes e Algoritmos**\n"
      ],
      "metadata": {
        "id": "1qhv-M7pEPzW"
      }
    },
    {
      "cell_type": "markdown",
      "source": [
        "### **Definição**"
      ],
      "metadata": {
        "id": "iCViPozYEYr2"
      }
    },
    {
      "cell_type": "markdown",
      "source": [
        "Sistemas inteligentes são a integração de hardware, software e algoritmos avançados para a tomada de decisão."
      ],
      "metadata": {
        "id": "ER2gylOIEdMv"
      }
    },
    {
      "cell_type": "markdown",
      "source": [
        "### **Principais Algoritmos**\n"
      ],
      "metadata": {
        "id": "HYlQTsyHEew8"
      }
    },
    {
      "cell_type": "markdown",
      "source": [
        "- Redes Neurais Artificiais\n",
        "- SVM (Support Vector Machines)\n",
        "- Algoritmos Genéticos\n",
        "- Árvores de Decisão\n",
        "- PLN (Processamento de Linguagem Natural)"
      ],
      "metadata": {
        "id": "u-8sO6tBEi9x"
      }
    },
    {
      "cell_type": "markdown",
      "source": [
        "## **Aplicações Modernas da IA**\n"
      ],
      "metadata": {
        "id": "ibZxh59tEpGI"
      }
    },
    {
      "cell_type": "markdown",
      "source": [
        "A IA está presente em diversas áreas:\n",
        "\n",
        "- **Setor de Serviços:** Chatbots e assistentes virtuais melhoram o atendimento ao cliente.\n",
        "- **Transporte:** Veículos autônomos revolucionam a mobilidade urbana.\n",
        "- **Saúde:** IA no diagnóstico e tratamento, análise de exames e personalização de terapias.\n",
        "- **Entretenimento:** Sistemas de recomendação em streaming e e-commerce\n"
      ],
      "metadata": {
        "id": "Y916ui57ErvO"
      }
    },
    {
      "cell_type": "markdown",
      "source": [
        "## **Desafios Éticos, Sociais e Técnicos**\n"
      ],
      "metadata": {
        "id": "d6rjpklTE-hK"
      }
    },
    {
      "cell_type": "markdown",
      "source": [
        "A IA traz consigo desafios importantes:\n",
        "\n",
        "- **Questões Éticas:** Privacidade, viés algorítmico, responsabilidade.\n",
        "- **Desafios Técnicos:** Escalabilidade, interpretação (modelos “caixa-preta”), integração com sistemas existentes.\n",
        "- **Impactos Sociais:** Transformação do mercado de trabalho, inclusão digital e a necessidade de regulação.\n"
      ],
      "metadata": {
        "id": "9afkiK16FCYN"
      }
    },
    {
      "cell_type": "markdown",
      "source": [
        "Neste vídeo do canal **Ciência Todo Dia**, **Pedro Loos** explora o Problema do Alinhamento na IA: por que é tão difícil garantir que máquinas façam o que realmente queremos, e o que isso significa para o futuro da humanidade.\n",
        "\n",
        "<center>\n",
        "  <a href=\"https://youtu.be/IH-wBijX53M\" target=\"_blank\">\n",
        "  <img alt='' src=\"https://img.youtube.com/vi/IH-wBijX53M/hqdefault.jpg\" height=\"188\" width=\"336\">\n",
        "  </a>\n",
        "</center>"
      ],
      "metadata": {
        "id": "oioM-blIL04v"
      }
    },
    {
      "cell_type": "markdown",
      "source": [
        "## **Conclusão e Próximos Passos**"
      ],
      "metadata": {
        "id": "ojBBsRCVMebn"
      }
    },
    {
      "cell_type": "markdown",
      "source": [
        "Nesta primeira aula, percorremos o surgimento e a evolução da Inteligência Artificial, compreendendo seus conceitos fundamentais, suas principais aplicações e os desafios éticos, sociais e técnicos que enfrentamos atualmente. Vimos que a IA já está presente no nosso cotidiano e que sua evolução levanta questões cruciais sobre o futuro da humanidade.\n",
        "\n",
        "Na próxima aula, conheceremos o Perceptron, o modelo mais simples de rede neural artificial e um marco histórico no desenvolvimento do aprendizado de máquina. Veremos como ele funciona, como aprende e por que, mesmo com suas limitações, ainda é fundamental para entendermos redes neurais mais complexas."
      ],
      "metadata": {
        "id": "_S_hcgchMnjH"
      }
    }
  ]
}